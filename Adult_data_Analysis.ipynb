{
  "nbformat": 4,
  "nbformat_minor": 0,
  "metadata": {
    "colab": {
      "name": "Adult_data Analysis",
      "provenance": [],
      "authorship_tag": "ABX9TyM9fAsB9VhJ7NzGdPE6p0qd",
      "include_colab_link": true
    },
    "kernelspec": {
      "name": "python3",
      "display_name": "Python 3"
    }
  },
  "cells": [
    {
      "cell_type": "markdown",
      "metadata": {
        "id": "view-in-github",
        "colab_type": "text"
      },
      "source": [
        "<a href=\"https://colab.research.google.com/github/chiranjeevi-manike/IBM-Cognitiveclass.ai/blob/main/Adult_data_Analysis.ipynb\" target=\"_parent\"><img src=\"https://colab.research.google.com/assets/colab-badge.svg\" alt=\"Open In Colab\"/></a>"
      ]
    },
    {
      "cell_type": "code",
      "metadata": {
        "id": "l90mXBGE2FpW"
      },
      "source": [
        "from numpy import mean\r\n",
        "from numpy import std\r\n",
        "from pandas import read_csv\r\n",
        "from matplotlib import pyplot\r\n",
        "from sklearn.preprocessing import LabelEncoder\r\n",
        "from sklearn.preprocessing import OneHotEncoder\r\n",
        "from sklearn.preprocessing import MinMaxScaler\r\n",
        "from sklearn.pipeline import Pipeline\r\n",
        "from sklearn.compose import ColumnTransformer\r\n",
        "from sklearn.model_selection import cross_val_score\r\n",
        "from sklearn.model_selection import RepeatedStratifiedKFold\r\n",
        "from sklearn.tree import DecisionTreeClassifier\r\n",
        "from sklearn.svm import SVC\r\n",
        "from sklearn.ensemble import RandomForestClassifier\r\n",
        "from sklearn.ensemble import GradientBoostingClassifier\r\n",
        "from sklearn.ensemble import BaggingClassifier"
      ],
      "execution_count": 3,
      "outputs": []
    },
    {
      "cell_type": "code",
      "metadata": {
        "id": "iUD-LU1T0sSd"
      },
      "source": [
        "\r\n",
        "...\r\n",
        "# define the dataset location\r\n",
        "filename = 'adult-all.csv'\r\n",
        "# load the csv file as a data frame\r\n",
        "dataframe = read_csv(filename, header=None, na_values='?')"
      ],
      "execution_count": 4,
      "outputs": []
    },
    {
      "cell_type": "code",
      "metadata": {
        "id": "qkHxU_wT2Pqz"
      },
      "source": [
        "...\r\n",
        "# drop rows with missing\r\n",
        "dataframe = dataframe.dropna()"
      ],
      "execution_count": 5,
      "outputs": []
    },
    {
      "cell_type": "code",
      "metadata": {
        "colab": {
          "base_uri": "https://localhost:8080/"
        },
        "id": "4GOisUTU2YrI",
        "outputId": "52227c32-2c11-4e0b-98db-3f7969c78502"
      },
      "source": [
        "...\r\n",
        "# summarize the shape of the dataset\r\n",
        "print(dataframe.shape)"
      ],
      "execution_count": 6,
      "outputs": [
        {
          "output_type": "stream",
          "text": [
            "(45222, 15)\n"
          ],
          "name": "stdout"
        }
      ]
    },
    {
      "cell_type": "code",
      "metadata": {
        "colab": {
          "base_uri": "https://localhost:8080/",
          "height": 231
        },
        "id": "DUQKtZPf2dQk",
        "outputId": "75d4bf6c-e610-41d6-c6a2-9c5252fca06b"
      },
      "source": [
        "...\r\n",
        "# summarize the class distribution\r\n",
        "target = dataframe.values[:,-1]\r\n",
        "counter = Counter(target)\r\n",
        "for k,v in counter.items():\r\n",
        "\tper = v / len(target) * 100\r\n",
        "\tprint('Class=%s, Count=%d, Percentage=%.3f%%' % (k, v, per))"
      ],
      "execution_count": 7,
      "outputs": [
        {
          "output_type": "error",
          "ename": "NameError",
          "evalue": "ignored",
          "traceback": [
            "\u001b[0;31m---------------------------------------------------------------------------\u001b[0m",
            "\u001b[0;31mNameError\u001b[0m                                 Traceback (most recent call last)",
            "\u001b[0;32m<ipython-input-7-3b78d6ecd25b>\u001b[0m in \u001b[0;36m<module>\u001b[0;34m()\u001b[0m\n\u001b[1;32m      2\u001b[0m \u001b[0;31m# summarize the class distribution\u001b[0m\u001b[0;34m\u001b[0m\u001b[0;34m\u001b[0m\u001b[0;34m\u001b[0m\u001b[0m\n\u001b[1;32m      3\u001b[0m \u001b[0mtarget\u001b[0m \u001b[0;34m=\u001b[0m \u001b[0mdataframe\u001b[0m\u001b[0;34m.\u001b[0m\u001b[0mvalues\u001b[0m\u001b[0;34m[\u001b[0m\u001b[0;34m:\u001b[0m\u001b[0;34m,\u001b[0m\u001b[0;34m-\u001b[0m\u001b[0;36m1\u001b[0m\u001b[0;34m]\u001b[0m\u001b[0;34m\u001b[0m\u001b[0;34m\u001b[0m\u001b[0m\n\u001b[0;32m----> 4\u001b[0;31m \u001b[0mcounter\u001b[0m \u001b[0;34m=\u001b[0m \u001b[0mCounter\u001b[0m\u001b[0;34m(\u001b[0m\u001b[0mtarget\u001b[0m\u001b[0;34m)\u001b[0m\u001b[0;34m\u001b[0m\u001b[0;34m\u001b[0m\u001b[0m\n\u001b[0m\u001b[1;32m      5\u001b[0m \u001b[0;32mfor\u001b[0m \u001b[0mk\u001b[0m\u001b[0;34m,\u001b[0m\u001b[0mv\u001b[0m \u001b[0;32min\u001b[0m \u001b[0mcounter\u001b[0m\u001b[0;34m.\u001b[0m\u001b[0mitems\u001b[0m\u001b[0;34m(\u001b[0m\u001b[0;34m)\u001b[0m\u001b[0;34m:\u001b[0m\u001b[0;34m\u001b[0m\u001b[0;34m\u001b[0m\u001b[0m\n\u001b[1;32m      6\u001b[0m         \u001b[0mper\u001b[0m \u001b[0;34m=\u001b[0m \u001b[0mv\u001b[0m \u001b[0;34m/\u001b[0m \u001b[0mlen\u001b[0m\u001b[0;34m(\u001b[0m\u001b[0mtarget\u001b[0m\u001b[0;34m)\u001b[0m \u001b[0;34m*\u001b[0m \u001b[0;36m100\u001b[0m\u001b[0;34m\u001b[0m\u001b[0;34m\u001b[0m\u001b[0m\n",
            "\u001b[0;31mNameError\u001b[0m: name 'Counter' is not defined"
          ]
        }
      ]
    },
    {
      "cell_type": "code",
      "metadata": {
        "colab": {
          "base_uri": "https://localhost:8080/",
          "height": 438
        },
        "id": "QqMbbD0Y2hqP",
        "outputId": "ed7bb1ed-c52b-42d2-addb-c64569461280"
      },
      "source": [
        "# spot check machine learning algorithms on the adult imbalanced dataset\r\n",
        "from numpy import mean\r\n",
        "from numpy import std\r\n",
        "from pandas import read_csv\r\n",
        "from matplotlib import pyplot\r\n",
        "from sklearn.preprocessing import LabelEncoder\r\n",
        "from sklearn.preprocessing import OneHotEncoder\r\n",
        "from sklearn.preprocessing import MinMaxScaler\r\n",
        "from sklearn.pipeline import Pipeline\r\n",
        "from sklearn.compose import ColumnTransformer\r\n",
        "from sklearn.model_selection import cross_val_score\r\n",
        "from sklearn.model_selection import RepeatedStratifiedKFold\r\n",
        "from sklearn.tree import DecisionTreeClassifier\r\n",
        "from sklearn.svm import SVC\r\n",
        "from sklearn.ensemble import RandomForestClassifier\r\n",
        "from sklearn.ensemble import GradientBoostingClassifier\r\n",
        "from sklearn.ensemble import BaggingClassifier\r\n",
        "\r\n",
        "# load the dataset\r\n",
        "def load_dataset(full_path):\r\n",
        "\t# load the dataset as a numpy array\r\n",
        "\tdataframe = read_csv(full_path, header=None, na_values='?')\r\n",
        "\t# drop rows with missing\r\n",
        "\tdataframe = dataframe.dropna()\r\n",
        "\t# split into inputs and outputs\r\n",
        "\tlast_ix = len(dataframe.columns) - 1\r\n",
        "\tX, y = dataframe.drop(last_ix, axis=1), dataframe[last_ix]\r\n",
        "\t# select categorical and numerical features\r\n",
        "\tcat_ix = X.select_dtypes(include=['object', 'bool']).columns\r\n",
        "\tnum_ix = X.select_dtypes(include=['int64', 'float64']).columns\r\n",
        "\t# label encode the target variable to have the classes 0 and 1\r\n",
        "\ty = LabelEncoder().fit_transform(y)\r\n",
        "\treturn X.values, y, cat_ix, num_ix\r\n",
        "\r\n",
        "# evaluate a model\r\n",
        "def evaluate_model(X, y, model):\r\n",
        "\t# define evaluation procedure\r\n",
        "\tcv = RepeatedStratifiedKFold(n_splits=10, n_repeats=3, random_state=1)\r\n",
        "\t# evaluate model\r\n",
        "\tscores = cross_val_score(model, X, y, scoring='accuracy', cv=cv, n_jobs=-1)\r\n",
        "\treturn scores\r\n",
        "\r\n",
        "# define models to test\r\n",
        "def get_models():\r\n",
        "\tmodels, names = list(), list()\r\n",
        "\t# CART\r\n",
        "\tmodels.append(DecisionTreeClassifier())\r\n",
        "\tnames.append('CART')\r\n",
        "\t# SVM\r\n",
        "\tmodels.append(SVC(gamma='scale'))\r\n",
        "\tnames.append('SVM')\r\n",
        "\t# Bagging\r\n",
        "\tmodels.append(BaggingClassifier(n_estimators=10))\r\n",
        "\tnames.append('BAG')\r\n",
        "\t# RF\r\n",
        "\tmodels.append(RandomForestClassifier(n_estimators=10))\r\n",
        "\tnames.append('RF')\r\n",
        "\t# GBM\r\n",
        "\tmodels.append(GradientBoostingClassifier(n_estimators=10))\r\n",
        "\tnames.append('GBM')\r\n",
        "\treturn models, names\r\n",
        "\r\n",
        "# define the location of the dataset\r\n",
        "full_path = 'adult-all.csv'\r\n",
        "# load the dataset\r\n",
        "X, y, cat_ix, num_ix = load_dataset(full_path)\r\n",
        "# define models\r\n",
        "models, names = get_models()\r\n",
        "results = list()\r\n",
        "# evaluate each model\r\n",
        "for i in range(len(models)):\r\n",
        "\t# define steps\r\n",
        "\tsteps = [('c',OneHotEncoder(handle_unknown='ignore'),cat_ix), ('n',MinMaxScaler(),num_ix)]\r\n",
        "\t# one hot encode categorical, normalize numerical\r\n",
        "\tct = ColumnTransformer(steps)\r\n",
        "\t# wrap the model i a pipeline\r\n",
        "\tpipeline = Pipeline(steps=[('t',ct),('m',models[i])])\r\n",
        "\t# evaluate the model and store results\r\n",
        "\tscores = evaluate_model(X, y, pipeline)\r\n",
        "\tresults.append(scores)\r\n",
        "\t# summarize performance\r\n",
        "\tprint('>%s %.3f (%.3f)' % (names[i], mean(scores), std(scores)))\r\n",
        "# plot the results\r\n",
        "pyplot.boxplot(results, labels=names, showmeans=True)\r\n",
        "pyplot.show()"
      ],
      "execution_count": 10,
      "outputs": [
        {
          "output_type": "stream",
          "text": [
            ">CART 0.811 (0.006)\n"
          ],
          "name": "stdout"
        },
        {
          "output_type": "stream",
          "text": [
            "/usr/local/lib/python3.6/dist-packages/joblib/externals/loky/process_executor.py:691: UserWarning: A worker stopped while some jobs were given to the executor. This can be caused by a too short worker timeout or by a memory leak.\n",
            "  \"timeout or by a memory leak.\", UserWarning\n",
            "/usr/local/lib/python3.6/dist-packages/joblib/externals/loky/process_executor.py:691: UserWarning: A worker stopped while some jobs were given to the executor. This can be caused by a too short worker timeout or by a memory leak.\n",
            "  \"timeout or by a memory leak.\", UserWarning\n"
          ],
          "name": "stderr"
        },
        {
          "output_type": "stream",
          "text": [
            ">SVM 0.837 (0.005)\n",
            ">BAG 0.847 (0.006)\n",
            ">RF 0.844 (0.006)\n",
            ">GBM 0.840 (0.004)\n"
          ],
          "name": "stdout"
        },
        {
          "output_type": "display_data",
          "data": {
            "image/png": "[encoded data removed]",
            "text/plain": [
              "<Figure size 432x288 with 1 Axes>"
            ]
          },
          "metadata": {
            "tags": [],
            "needs_background": "light"
          }
        }
      ]
    }
  ]
}