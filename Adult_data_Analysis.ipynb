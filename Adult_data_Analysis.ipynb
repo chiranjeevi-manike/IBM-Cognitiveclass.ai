{
  "nbformat": 4,
  "nbformat_minor": 0,
  "metadata": {
    "colab": {
      "name": "Adult_data Analysis",
      "provenance": [],
      "authorship_tag": "ABX9TyNE/jpAaK1BwTuX99GC5EZB",
      "include_colab_link": true
    },
    "kernelspec": {
      "name": "python3",
      "display_name": "Python 3"
    }
  },
  "cells": [
    {
      "cell_type": "markdown",
      "metadata": {
        "id": "view-in-github",
        "colab_type": "text"
      },
      "source": [
        "<a href=\"https://colab.research.google.com/github/chiranjeevi-manike/IBM-Cognitiveclass.ai/blob/main/Adult_data_Analysis.ipynb\" target=\"_parent\"><img src=\"https://colab.research.google.com/assets/colab-badge.svg\" alt=\"Open In Colab\"/></a>"
      ]
    },
    {
      "cell_type": "code",
      "metadata": {
        "id": "l90mXBGE2FpW"
      },
      "source": [
        "from numpy import mean\r\n",
        "from numpy import std\r\n",
        "from pandas import read_csv\r\n",
        "from matplotlib import pyplot\r\n",
        "from sklearn.preprocessing import LabelEncoder\r\n",
        "from sklearn.preprocessing import OneHotEncoder\r\n",
        "from sklearn.preprocessing import MinMaxScaler\r\n",
        "from sklearn.pipeline import Pipeline\r\n",
        "from sklearn.compose import ColumnTransformer\r\n",
        "from sklearn.model_selection import cross_val_score\r\n",
        "from sklearn.model_selection import RepeatedStratifiedKFold\r\n",
        "from sklearn.tree import DecisionTreeClassifier\r\n",
        "from sklearn.svm import SVC\r\n",
        "from sklearn.ensemble import RandomForestClassifier\r\n",
        "from sklearn.ensemble import GradientBoostingClassifier\r\n",
        "from sklearn.ensemble import BaggingClassifier\r\n",
        "from sklearn.tree import DecisionTreeClassifier"
      ],
      "execution_count": 64,
      "outputs": []
    },
    {
      "cell_type": "code",
      "metadata": {
        "id": "iUD-LU1T0sSd"
      },
      "source": [
        "\r\n",
        "...\r\n",
        "# define the dataset location\r\n",
        "filename = 'adult-all.csv'\r\n",
        "# load the csv file as a data frame\r\n",
        "dataframe = read_csv(filename, header=None, na_values='?')"
      ],
      "execution_count": null,
      "outputs": []
    },
    {
      "cell_type": "code",
      "metadata": {
        "id": "qkHxU_wT2Pqz"
      },
      "source": [
        "...\r\n",
        "# drop rows with missing\r\n",
        "dataframe = dataframe.dropna()"
      ],
      "execution_count": null,
      "outputs": []
    },
    {
      "cell_type": "code",
      "metadata": {
        "colab": {
          "base_uri": "https://localhost:8080/"
        },
        "id": "4GOisUTU2YrI",
        "outputId": "52227c32-2c11-4e0b-98db-3f7969c78502"
      },
      "source": [
        "...\r\n",
        "# summarize the shape of the dataset\r\n",
        "print(dataframe.shape)"
      ],
      "execution_count": null,
      "outputs": [
        {
          "output_type": "stream",
          "text": [
            "(45222, 15)\n"
          ],
          "name": "stdout"
        }
      ]
    },
    {
      "cell_type": "code",
      "metadata": {
        "colab": {
          "base_uri": "https://localhost:8080/",
          "height": 231
        },
        "id": "DUQKtZPf2dQk",
        "outputId": "75d4bf6c-e610-41d6-c6a2-9c5252fca06b"
      },
      "source": [
        "...\r\n",
        "# summarize the class distribution\r\n",
        "target = dataframe.values[:,-1]\r\n",
        "counter = Counter(target)\r\n",
        "for k,v in counter.items():\r\n",
        "\tper = v / len(target) * 100\r\n",
        "\tprint('Class=%s, Count=%d, Percentage=%.3f%%' % (k, v, per))"
      ],
      "execution_count": null,
      "outputs": [
        {
          "output_type": "error",
          "ename": "NameError",
          "evalue": "ignored",
          "traceback": [
            "\u001b[0;31m---------------------------------------------------------------------------\u001b[0m",
            "\u001b[0;31mNameError\u001b[0m                                 Traceback (most recent call last)",
            "\u001b[0;32m<ipython-input-7-3b78d6ecd25b>\u001b[0m in \u001b[0;36m<module>\u001b[0;34m()\u001b[0m\n\u001b[1;32m      2\u001b[0m \u001b[0;31m# summarize the class distribution\u001b[0m\u001b[0;34m\u001b[0m\u001b[0;34m\u001b[0m\u001b[0;34m\u001b[0m\u001b[0m\n\u001b[1;32m      3\u001b[0m \u001b[0mtarget\u001b[0m \u001b[0;34m=\u001b[0m \u001b[0mdataframe\u001b[0m\u001b[0;34m.\u001b[0m\u001b[0mvalues\u001b[0m\u001b[0;34m[\u001b[0m\u001b[0;34m:\u001b[0m\u001b[0;34m,\u001b[0m\u001b[0;34m-\u001b[0m\u001b[0;36m1\u001b[0m\u001b[0;34m]\u001b[0m\u001b[0;34m\u001b[0m\u001b[0;34m\u001b[0m\u001b[0m\n\u001b[0;32m----> 4\u001b[0;31m \u001b[0mcounter\u001b[0m \u001b[0;34m=\u001b[0m \u001b[0mCounter\u001b[0m\u001b[0;34m(\u001b[0m\u001b[0mtarget\u001b[0m\u001b[0;34m)\u001b[0m\u001b[0;34m\u001b[0m\u001b[0;34m\u001b[0m\u001b[0m\n\u001b[0m\u001b[1;32m      5\u001b[0m \u001b[0;32mfor\u001b[0m \u001b[0mk\u001b[0m\u001b[0;34m,\u001b[0m\u001b[0mv\u001b[0m \u001b[0;32min\u001b[0m \u001b[0mcounter\u001b[0m\u001b[0;34m.\u001b[0m\u001b[0mitems\u001b[0m\u001b[0;34m(\u001b[0m\u001b[0;34m)\u001b[0m\u001b[0;34m:\u001b[0m\u001b[0;34m\u001b[0m\u001b[0;34m\u001b[0m\u001b[0m\n\u001b[1;32m      6\u001b[0m         \u001b[0mper\u001b[0m \u001b[0;34m=\u001b[0m \u001b[0mv\u001b[0m \u001b[0;34m/\u001b[0m \u001b[0mlen\u001b[0m\u001b[0;34m(\u001b[0m\u001b[0mtarget\u001b[0m\u001b[0;34m)\u001b[0m \u001b[0;34m*\u001b[0m \u001b[0;36m100\u001b[0m\u001b[0;34m\u001b[0m\u001b[0;34m\u001b[0m\u001b[0m\n",
            "\u001b[0;31mNameError\u001b[0m: name 'Counter' is not defined"
          ]
        }
      ]
    },
    {
      "cell_type": "code",
      "metadata": {
        "colab": {
          "base_uri": "https://localhost:8080/",
          "height": 438
        },
        "id": "QqMbbD0Y2hqP",
        "outputId": "ed7bb1ed-c52b-42d2-addb-c64569461280"
      },
      "source": [
        "# spot check machine learning algorithms on the adult imbalanced dataset\r\n",
        "from numpy import mean\r\n",
        "from numpy import std\r\n",
        "from pandas import read_csv\r\n",
        "from matplotlib import pyplot\r\n",
        "from sklearn.preprocessing import LabelEncoder\r\n",
        "from sklearn.preprocessing import OneHotEncoder\r\n",
        "from sklearn.preprocessing import MinMaxScaler\r\n",
        "from sklearn.pipeline import Pipeline\r\n",
        "from sklearn.compose import ColumnTransformer\r\n",
        "from sklearn.model_selection import cross_val_score\r\n",
        "from sklearn.model_selection import RepeatedStratifiedKFold\r\n",
        "from sklearn.tree import DecisionTreeClassifier\r\n",
        "from sklearn.svm import SVC\r\n",
        "from sklearn.ensemble import RandomForestClassifier\r\n",
        "from sklearn.ensemble import GradientBoostingClassifier\r\n",
        "from sklearn.ensemble import BaggingClassifier\r\n",
        "\r\n",
        "# load the dataset\r\n",
        "def load_dataset(full_path):\r\n",
        "\t# load the dataset as a numpy array\r\n",
        "\tdataframe = read_csv(full_path, header=None, na_values='?')\r\n",
        "\t# drop rows with missing\r\n",
        "\tdataframe = dataframe.dropna()\r\n",
        "\t# split into inputs and outputs\r\n",
        "\tlast_ix = len(dataframe.columns) - 1\r\n",
        "\tX, y = dataframe.drop(last_ix, axis=1), dataframe[last_ix]\r\n",
        "\t# select categorical and numerical features\r\n",
        "\tcat_ix = X.select_dtypes(include=['object', 'bool']).columns\r\n",
        "\tnum_ix = X.select_dtypes(include=['int64', 'float64']).columns\r\n",
        "\t# label encode the target variable to have the classes 0 and 1\r\n",
        "\ty = LabelEncoder().fit_transform(y)\r\n",
        "\treturn X.values, y, cat_ix, num_ix\r\n",
        "\r\n",
        "# evaluate a model\r\n",
        "def evaluate_model(X, y, model):\r\n",
        "\t# define evaluation procedure\r\n",
        "\tcv = RepeatedStratifiedKFold(n_splits=10, n_repeats=3, random_state=1)\r\n",
        "\t# evaluate model\r\n",
        "\tscores = cross_val_score(model, X, y, scoring='accuracy', cv=cv, n_jobs=-1)\r\n",
        "\treturn scores\r\n",
        "\r\n",
        "# define models to test\r\n",
        "def get_models():\r\n",
        "\tmodels, names = list(), list()\r\n",
        "\t# CART\r\n",
        "\tmodels.append(DecisionTreeClassifier())\r\n",
        "\tnames.append('CART')\r\n",
        "\t# SVM\r\n",
        "\tmodels.append(SVC(gamma='scale'))\r\n",
        "\tnames.append('SVM')\r\n",
        "\t# Bagging\r\n",
        "\tmodels.append(BaggingClassifier(n_estimators=10))\r\n",
        "\tnames.append('BAG')\r\n",
        "\t# RF\r\n",
        "\tmodels.append(RandomForestClassifier(n_estimators=10))\r\n",
        "\tnames.append('RF')\r\n",
        "\t# GBM\r\n",
        "\tmodels.append(GradientBoostingClassifier(n_estimators=10))\r\n",
        "\tnames.append('GBM')\r\n",
        "\treturn models, names\r\n",
        "\r\n",
        "# define the location of the dataset\r\n",
        "full_path = 'adult-all.csv'\r\n",
        "# load the dataset\r\n",
        "X, y, cat_ix, num_ix = load_dataset(full_path)\r\n",
        "# define models\r\n",
        "models, names = get_models()\r\n",
        "results = list()\r\n",
        "# evaluate each model\r\n",
        "for i in range(len(models)):\r\n",
        "\t# define steps\r\n",
        "\tsteps = [('c',OneHotEncoder(handle_unknown='ignore'),cat_ix), ('n',MinMaxScaler(),num_ix)]\r\n",
        "\t# one hot encode categorical, normalize numerical\r\n",
        "\tct = ColumnTransformer(steps)\r\n",
        "\t# wrap the model i a pipeline\r\n",
        "\tpipeline = Pipeline(steps=[('t',ct),('m',models[i])])\r\n",
        "\t# evaluate the model and store results\r\n",
        "\tscores = evaluate_model(X, y, pipeline)\r\n",
        "\tresults.append(scores)\r\n",
        "\t# summarize performance\r\n",
        "\tprint('>%s %.3f (%.3f)' % (names[i], mean(scores), std(scores)))\r\n",
        "# plot the results\r\n",
        "pyplot.boxplot(results, labels=names, showmeans=True)\r\n",
        "pyplot.show()"
      ],
      "execution_count": null,
      "outputs": [
        {
          "output_type": "stream",
          "text": [
            ">CART 0.811 (0.006)\n"
          ],
          "name": "stdout"
        },
        {
          "output_type": "stream",
          "text": [
            "/usr/local/lib/python3.6/dist-packages/joblib/externals/loky/process_executor.py:691: UserWarning: A worker stopped while some jobs were given to the executor. This can be caused by a too short worker timeout or by a memory leak.\n",
            "  \"timeout or by a memory leak.\", UserWarning\n",
            "/usr/local/lib/python3.6/dist-packages/joblib/externals/loky/process_executor.py:691: UserWarning: A worker stopped while some jobs were given to the executor. This can be caused by a too short worker timeout or by a memory leak.\n",
            "  \"timeout or by a memory leak.\", UserWarning\n"
          ],
          "name": "stderr"
        },
        {
          "output_type": "stream",
          "text": [
            ">SVM 0.837 (0.005)\n",
            ">BAG 0.847 (0.006)\n",
            ">RF 0.844 (0.006)\n",
            ">GBM 0.840 (0.004)\n"
          ],
          "name": "stdout"
        },
        {
          "output_type": "display_data",
          "data": {
            "image/png": "[encoded data removed]",
            "text/plain": [
              "<Figure size 432x288 with 1 Axes>"
            ]
          },
          "metadata": {
            "tags": [],
            "needs_background": "light"
          }
        }
      ]
    },
    {
      "cell_type": "code",
      "metadata": {
        "id": "jO2Hp1Tcw-5e"
      },
      "source": [
        "import math\r\n",
        "import numpy as np\r\n",
        "import pandas as pd\r\n",
        "from datetime import datetime\r\n",
        "\r\n",
        "import seaborn as sns\r\n",
        "import matplotlib.pyplot as plt\r\n",
        "%matplotlib inline \r\n",
        "plt.style.use('seaborn-whitegrid')\r\n",
        "\r\n",
        "from sklearn.linear_model import LogisticRegression\r\n",
        "from sklearn.naive_bayes import GaussianNB\r\n",
        "from sklearn.linear_model import SGDClassifier\r\n",
        "from sklearn.neighbors import KNeighborsClassifier\r\n",
        "from sklearn.tree import DecisionTreeClassifier\r\n",
        "from sklearn.ensemble import RandomForestClassifier\r\n",
        "from sklearn.svm import SVC\r\n",
        "from sklearn.metrics import classification_report\r\n",
        "from sklearn.metrics import confusion_matrix\r\n",
        "\r\n",
        "\r\n"
      ],
      "execution_count": 73,
      "outputs": []
    },
    {
      "cell_type": "markdown",
      "metadata": {
        "id": "MwfuDdz9xVjM"
      },
      "source": [
        "**Get the Data**"
      ]
    },
    {
      "cell_type": "code",
      "metadata": {
        "colab": {
          "base_uri": "https://localhost:8080/"
        },
        "id": "mLlBMMaVxZZ7",
        "outputId": "ce5c25e2-f84b-4fc3-fb39-120cd429fce2"
      },
      "source": [
        "df = pd.read_csv('00 df.csv')\r\n",
        "df = df[df['flag']=='train']\r\n",
        "df.info()"
      ],
      "execution_count": 36,
      "outputs": [
        {
          "output_type": "stream",
          "text": [
            "<class 'pandas.core.frame.DataFrame'>\n",
            "Int64Index: 32561 entries, 0 to 32560\n",
            "Data columns (total 11 columns):\n",
            " #   Column              Non-Null Count  Dtype \n",
            "---  ------              --------------  ----- \n",
            " 0   hours_per_week_bin  32561 non-null  object\n",
            " 1   occupation_bin      32561 non-null  object\n",
            " 2   msr_bin             32561 non-null  object\n",
            " 3   capital_gl_bin      32561 non-null  object\n",
            " 4   race_sex_bin        32561 non-null  object\n",
            " 5   education_num_bin   32561 non-null  object\n",
            " 6   education_bin       32561 non-null  object\n",
            " 7   workclass_bin       32561 non-null  object\n",
            " 8   age_bin             32561 non-null  object\n",
            " 9   flag                32561 non-null  object\n",
            " 10  y                   32561 non-null  int64 \n",
            "dtypes: int64(1), object(10)\n",
            "memory usage: 3.0+ MB\n"
          ],
          "name": "stdout"
        }
      ]
    },
    {
      "cell_type": "markdown",
      "metadata": {
        "id": "lR575lkuxisE"
      },
      "source": [
        "**Exploratory Data Analysis**"
      ]
    },
    {
      "cell_type": "code",
      "metadata": {
        "colab": {
          "base_uri": "https://localhost:8080/",
          "height": 363
        },
        "id": "Cadfz0ZYxiZL",
        "outputId": "431c2d25-b044-46eb-b1eb-706ba8c9e209"
      },
      "source": [
        "#age_bin\r\n",
        "x_chart = df.pivot_table(values=['flag'], index=['age_bin'], columns=['y'], aggfunc='count')\r\n",
        "x_chart = x_chart.apply(lambda c: c / c.sum() * 100, axis=1)\r\n",
        "x_chart.plot(kind=\"bar\",stacked=True)\r\n",
        "plt.legend(loc='center left', bbox_to_anchor=(1.0, 0.5))"
      ],
      "execution_count": 27,
      "outputs": [
        {
          "output_type": "execute_result",
          "data": {
            "text/plain": [
              "<matplotlib.legend.Legend at 0x7f7a36b19940>"
            ]
          },
          "metadata": {
            "tags": []
          },
          "execution_count": 27
        },
        {
          "output_type": "display_data",
          "data": {
            "image/png": "[encoded data removed]",
            "text/plain": [
              "<Figure size 432x288 with 1 Axes>"
            ]
          },
          "metadata": {
            "tags": []
          }
        }
      ]
    },
    {
      "cell_type": "code",
      "metadata": {
        "colab": {
          "base_uri": "https://localhost:8080/",
          "height": 308
        },
        "id": "90YHT3F1xkIy",
        "outputId": "337de159-d752-4f07-b6d6-d7da878610e6"
      },
      "source": [
        "#capital_gl_bin\r\n",
        "x_chart = df.pivot_table(values=['flag'], index=['capital_gl_bin'], columns=['y'], aggfunc='count')\r\n",
        "x_chart = x_chart.apply(lambda c: c / c.sum() * 100, axis=1)\r\n",
        "x_chart.plot(kind=\"bar\",stacked=True)\r\n",
        "plt.legend(loc='center left', bbox_to_anchor=(1.0, 0.5))"
      ],
      "execution_count": 28,
      "outputs": [
        {
          "output_type": "execute_result",
          "data": {
            "text/plain": [
              "<matplotlib.legend.Legend at 0x7f7a36acd7f0>"
            ]
          },
          "metadata": {
            "tags": []
          },
          "execution_count": 28
        },
        {
          "output_type": "display_data",
          "data": {
            "image/png": "[encoded data removed]",
            "text/plain": [
              "<Figure size 432x288 with 1 Axes>"
            ]
          },
          "metadata": {
            "tags": []
          }
        }
      ]
    },
    {
      "cell_type": "code",
      "metadata": {
        "colab": {
          "base_uri": "https://localhost:8080/",
          "height": 338
        },
        "id": "bpdoZxUux0ai",
        "outputId": "24e451be-33fe-4401-c822-a21ccae14a4b"
      },
      "source": [
        "#education_bin\r\n",
        "x_chart = df.pivot_table(values=['flag'], index=['education_bin'], columns=['y'], aggfunc='count')\r\n",
        "x_chart = x_chart.apply(lambda c: c / c.sum() * 100, axis=1)\r\n",
        "x_chart.plot(kind=\"bar\",stacked=True)\r\n",
        "plt.legend(loc='center left', bbox_to_anchor=(1.0, 0.5))"
      ],
      "execution_count": 6,
      "outputs": [
        {
          "output_type": "execute_result",
          "data": {
            "text/plain": [
              "<matplotlib.legend.Legend at 0x7f7a3f605080>"
            ]
          },
          "metadata": {
            "tags": []
          },
          "execution_count": 6
        },
        {
          "output_type": "display_data",
          "data": {
            "image/png": "[encoded data removed]",
            "text/plain": [
              "<Figure size 432x288 with 1 Axes>"
            ]
          },
          "metadata": {
            "tags": [],
            "needs_background": "light"
          }
        }
      ]
    },
    {
      "cell_type": "code",
      "metadata": {
        "colab": {
          "base_uri": "https://localhost:8080/",
          "height": 358
        },
        "id": "h9diAZLUx4r6",
        "outputId": "a4e92af4-6b08-494b-c99a-6f58654b4e6e"
      },
      "source": [
        "#hours_per_week_bin\r\n",
        "x_chart = df.pivot_table(values=['flag'], index=['hours_per_week_bin'], columns=['y'], aggfunc='count')\r\n",
        "x_chart = x_chart.apply(lambda c: c / c.sum() * 100, axis=1)\r\n",
        "x_chart.plot(kind=\"bar\",stacked=True)\r\n",
        "plt.legend(loc='center left', bbox_to_anchor=(1.0, 0.5))"
      ],
      "execution_count": 7,
      "outputs": [
        {
          "output_type": "execute_result",
          "data": {
            "text/plain": [
              "<matplotlib.legend.Legend at 0x7f7a3f602208>"
            ]
          },
          "metadata": {
            "tags": []
          },
          "execution_count": 7
        },
        {
          "output_type": "display_data",
          "data": {
            "image/png": "[encoded data removed]",
            "text/plain": [
              "<Figure size 432x288 with 1 Axes>"
            ]
          },
          "metadata": {
            "tags": [],
            "needs_background": "light"
          }
        }
      ]
    },
    {
      "cell_type": "code",
      "metadata": {
        "colab": {
          "base_uri": "https://localhost:8080/",
          "height": 314
        },
        "id": "uLI0LJMCx-Lz",
        "outputId": "63517403-1a0e-4b46-9cdd-10ce318d633f"
      },
      "source": [
        "#msr_bin\r\n",
        "x_chart = df.pivot_table(values=['flag'], index=['msr_bin'], columns=['y'], aggfunc='count')\r\n",
        "x_chart = x_chart.apply(lambda c: c / c.sum() * 100, axis=1)\r\n",
        "x_chart.plot(kind=\"bar\",stacked=True)\r\n",
        "plt.legend(loc='center left', bbox_to_anchor=(1.0, 0.5))"
      ],
      "execution_count": 8,
      "outputs": [
        {
          "output_type": "execute_result",
          "data": {
            "text/plain": [
              "<matplotlib.legend.Legend at 0x7f7a3f5e99b0>"
            ]
          },
          "metadata": {
            "tags": []
          },
          "execution_count": 8
        },
        {
          "output_type": "display_data",
          "data": {
            "image/png": "[encoded data removed]",
            "text/plain": [
              "<Figure size 432x288 with 1 Axes>"
            ]
          },
          "metadata": {
            "tags": [],
            "needs_background": "light"
          }
        }
      ]
    },
    {
      "cell_type": "code",
      "metadata": {
        "colab": {
          "base_uri": "https://localhost:8080/",
          "height": 340
        },
        "id": "j3nOYR6ayC8q",
        "outputId": "3344e65f-4bba-478a-f39c-c70374d08e2e"
      },
      "source": [
        "#occupation_bin\r\n",
        "x_chart = df.pivot_table(values=['flag'], index=['occupation_bin'], columns=['y'], aggfunc='count')\r\n",
        "x_chart = x_chart.apply(lambda c: c / c.sum() * 100, axis=1)\r\n",
        "x_chart.plot(kind=\"bar\",stacked=True)\r\n",
        "plt.legend(loc='center left', bbox_to_anchor=(1.0, 0.5))"
      ],
      "execution_count": 9,
      "outputs": [
        {
          "output_type": "execute_result",
          "data": {
            "text/plain": [
              "<matplotlib.legend.Legend at 0x7f7a3f4f0e80>"
            ]
          },
          "metadata": {
            "tags": []
          },
          "execution_count": 9
        },
        {
          "output_type": "display_data",
          "data": {
            "image/png": "[encoded data removed]",
            "text/plain": [
              "<Figure size 432x288 with 1 Axes>"
            ]
          },
          "metadata": {
            "tags": [],
            "needs_background": "light"
          }
        }
      ]
    },
    {
      "cell_type": "code",
      "metadata": {
        "id": "79Ymhb-IyH4j",
        "colab": {
          "base_uri": "https://localhost:8080/",
          "height": 314
        },
        "outputId": "b5b17864-8f5d-4ce8-d93b-1fea595698cc"
      },
      "source": [
        "#race_sex_bin\r\n",
        "x_chart = df.pivot_table(values=['flag'], index=['race_sex_bin'], columns=['y'], aggfunc='count')\r\n",
        "x_chart = x_chart.apply(lambda c: c / c.sum() * 100, axis=1)\r\n",
        "x_chart.plot(kind=\"bar\",stacked=True)\r\n",
        "plt.legend(loc='center left', bbox_to_anchor=(1.0, 0.5))"
      ],
      "execution_count": 10,
      "outputs": [
        {
          "output_type": "execute_result",
          "data": {
            "text/plain": [
              "<matplotlib.legend.Legend at 0x7f7a3f635eb8>"
            ]
          },
          "metadata": {
            "tags": []
          },
          "execution_count": 10
        },
        {
          "output_type": "display_data",
          "data": {
            "image/png": "[encoded data removed]",
            "text/plain": [
              "<Figure size 432x288 with 1 Axes>"
            ]
          },
          "metadata": {
            "tags": [],
            "needs_background": "light"
          }
        }
      ]
    },
    {
      "cell_type": "code",
      "metadata": {
        "id": "QT-PClX6mUU_"
      },
      "source": [
        "df = pd.read_csv('00 df.csv')\r\n",
        "train = df[df['flag']=='train']\r\n",
        "test = df[df['flag']=='test']"
      ],
      "execution_count": 74,
      "outputs": []
    },
    {
      "cell_type": "code",
      "metadata": {
        "id": "J6Tseai-mIvY"
      },
      "source": [
        "cat_feats = ['age_bin','capital_gl_bin','education_bin','hours_per_week_bin','msr_bin','occupation_bin','race_sex_bin']\r\n",
        "\r\n",
        "y_train = train['y']\r\n",
        "x_train = train[['age_bin','capital_gl_bin','education_bin','hours_per_week_bin','msr_bin','occupation_bin','race_sex_bin']]\r\n",
        "x_train = pd.get_dummies(x_train,columns=cat_feats,drop_first=True)\r\n",
        "\r\n",
        "y_test = test['y']\r\n",
        "x_test = test[['age_bin','capital_gl_bin','education_bin','hours_per_week_bin','msr_bin','occupation_bin','race_sex_bin']]\r\n",
        "x_test = pd.get_dummies(x_test,columns=cat_feats,drop_first=True)"
      ],
      "execution_count": 75,
      "outputs": []
    },
    {
      "cell_type": "markdown",
      "metadata": {
        "id": "fGZhjrs4nBz8"
      },
      "source": [
        "**Logistic Regression**"
      ]
    },
    {
      "cell_type": "code",
      "metadata": {
        "id": "uPLBWEiZmYQO"
      },
      "source": [
        "lr =  LogisticRegression()\r\n",
        "lr.fit(x_train, y_train)\r\n",
        "y_pred=lr.predict(x_test)"
      ],
      "execution_count": 31,
      "outputs": []
    },
    {
      "cell_type": "code",
      "metadata": {
        "colab": {
          "base_uri": "https://localhost:8080/"
        },
        "id": "HyYTw_FCnHM7",
        "outputId": "ffe1e98c-2126-40d0-b1ee-205de800083b"
      },
      "source": [
        "test_calc = pd.concat([pd.DataFrame(y_test).reset_index(drop=True),pd.DataFrame(y_pred).reset_index(drop=True)],axis=1)\r\n",
        "test_calc.rename(columns={0: 'predicted'}, inplace=True)\r\n",
        "\r\n",
        "test_calc['predicted'] = test_calc['predicted'].apply(lambda x: 1 if x > 0.5 else 0)\r\n",
        "df_table = confusion_matrix(test_calc['y'],test_calc['predicted'])\r\n",
        "print (df_table)\r\n",
        "\r\n",
        "print('accuracy:', (df_table[0,0] + df_table[1,1]) / (df_table[0,0] + df_table[0,1] + df_table[1,0] + df_table[1,1]))\r\n",
        "print ('precision:', df_table[1,1] / (df_table[1,1] + df_table[0,1]))\r\n",
        "print('recall:', df_table[1,1] / (df_table[1,1] + df_table[1,0]))\r\n",
        "\r\n",
        "p = df_table[1,1] / (df_table[1,1] + df_table[0,1])\r\n",
        "r = df_table[1,1] / (df_table[1,1] + df_table[1,0])\r\n",
        "print('f1 score: ', (2*p*r)/(p+r))"
      ],
      "execution_count": 32,
      "outputs": [
        {
          "output_type": "stream",
          "text": [
            "[[11602   833]\n",
            " [ 1676  2170]]\n",
            "accuracy: 0.8458939868558443\n",
            "precision: 0.7226107226107226\n",
            "recall: 0.5642225689027561\n",
            "f1 score:  0.6336691487808439\n"
          ],
          "name": "stdout"
        }
      ]
    },
    {
      "cell_type": "markdown",
      "metadata": {
        "id": "JpeUE6hVnkLU"
      },
      "source": [
        "**Naive Bayes**"
      ]
    },
    {
      "cell_type": "code",
      "metadata": {
        "id": "_dMF91NCnlz0"
      },
      "source": [
        "nb =  GaussianNB()\r\n",
        "nb.fit(x_train, y_train)\r\n",
        "y_pred=nb.predict(x_test)"
      ],
      "execution_count": 33,
      "outputs": []
    },
    {
      "cell_type": "code",
      "metadata": {
        "colab": {
          "base_uri": "https://localhost:8080/"
        },
        "id": "MwgePjZenrWt",
        "outputId": "0b325023-87e7-4e56-f222-a56a9ab04acc"
      },
      "source": [
        "test_calc = pd.concat([pd.DataFrame(y_test).reset_index(drop=True),pd.DataFrame(y_pred).reset_index(drop=True)],axis=1)\r\n",
        "test_calc.rename(columns={0: 'predicted'}, inplace=True)\r\n",
        "\r\n",
        "test_calc['predicted'] = test_calc['predicted'].apply(lambda x: 1 if x > 0.5 else 0)\r\n",
        "df_table = confusion_matrix(test_calc['y'],test_calc['predicted'])\r\n",
        "print (df_table)\r\n",
        "\r\n",
        "print('accuracy:', (df_table[0,0] + df_table[1,1]) / (df_table[0,0] + df_table[0,1] + df_table[1,0] + df_table[1,1]))\r\n",
        "print ('precision:', df_table[1,1] / (df_table[1,1] + df_table[0,1]))\r\n",
        "print('recall:', df_table[1,1] / (df_table[1,1] + df_table[1,0]))\r\n",
        "\r\n",
        "p = df_table[1,1] / (df_table[1,1] + df_table[0,1])\r\n",
        "r = df_table[1,1] / (df_table[1,1] + df_table[1,0])\r\n",
        "print('f1 score: ', (2*p*r)/(p+r))"
      ],
      "execution_count": 34,
      "outputs": [
        {
          "output_type": "stream",
          "text": [
            "[[10608  1827]\n",
            " [ 1412  2434]]\n",
            "accuracy: 0.8010564461642405\n",
            "precision: 0.5712274114057733\n",
            "recall: 0.6328653146125846\n",
            "f1 score:  0.6004687307265326\n"
          ],
          "name": "stdout"
        }
      ]
    },
    {
      "cell_type": "markdown",
      "metadata": {
        "id": "ZKsMo-aSn-ZR"
      },
      "source": [
        "**Stochastic Gradient Descent**"
      ]
    },
    {
      "cell_type": "code",
      "metadata": {
        "id": "CLaRm5B7oBpA"
      },
      "source": [
        "sgd =  SGDClassifier(loss='modified_huber', shuffle=True,random_state=101)\r\n",
        "sgd.fit(x_train, y_train)\r\n",
        "y_pred=sgd.predict(x_test)"
      ],
      "execution_count": 39,
      "outputs": []
    },
    {
      "cell_type": "code",
      "metadata": {
        "colab": {
          "base_uri": "https://localhost:8080/"
        },
        "id": "myClMl7xoErE",
        "outputId": "bf247ba9-b88c-41dc-94f6-cb322d2d447b"
      },
      "source": [
        "test_calc = pd.concat([pd.DataFrame(y_test).reset_index(drop=True),pd.DataFrame(y_pred).reset_index(drop=True)],axis=1)\r\n",
        "test_calc.rename(columns={0: 'predicted'}, inplace=True)\r\n",
        "\r\n",
        "test_calc['predicted'] = test_calc['predicted'].apply(lambda x: 1 if x > 0.5 else 0)\r\n",
        "df_table = confusion_matrix(test_calc['y'],test_calc['predicted'])\r\n",
        "print (df_table)\r\n",
        "\r\n",
        "print('accuracy:', (df_table[0,0] + df_table[1,1]) / (df_table[0,0] + df_table[0,1] + df_table[1,0] + df_table[1,1]))\r\n",
        "print ('precision:', df_table[1,1] / (df_table[1,1] + df_table[0,1]))\r\n",
        "print('recall:', df_table[1,1] / (df_table[1,1] + df_table[1,0]))\r\n",
        "\r\n",
        "p = df_table[1,1] / (df_table[1,1] + df_table[0,1])\r\n",
        "r = df_table[1,1] / (df_table[1,1] + df_table[1,0])\r\n",
        "print('f1 score: ', (2*p*r)/(p+r))"
      ],
      "execution_count": 40,
      "outputs": [
        {
          "output_type": "stream",
          "text": [
            "[[11244  1191]\n",
            " [ 1456  2390]]\n",
            "accuracy: 0.8374178490264725\n",
            "precision: 0.6674113376151913\n",
            "recall: 0.6214248569942797\n",
            "f1 score:  0.643597684125488\n"
          ],
          "name": "stdout"
        }
      ]
    },
    {
      "cell_type": "markdown",
      "metadata": {
        "id": "W-H_n-AzoaE2"
      },
      "source": [
        "**KNN**"
      ]
    },
    {
      "cell_type": "code",
      "metadata": {
        "id": "fpJP3MeHoXbU"
      },
      "source": [
        "error_rate = []\r\n",
        "for i in range(1,51):    \r\n",
        "    knn = KNeighborsClassifier(n_neighbors=i)\r\n",
        "    knn.fit(x_train,y_train)\r\n",
        "    pred_i = knn.predict(x_test)\r\n",
        "    error_rate.append(np.mean(pred_i != y_test))"
      ],
      "execution_count": 44,
      "outputs": []
    },
    {
      "cell_type": "code",
      "metadata": {
        "colab": {
          "base_uri": "https://localhost:8080/",
          "height": 308
        },
        "id": "ZUgl2wmBodbr",
        "outputId": "0b911c3e-1ec9-4fdb-f4cb-b0d4bd3c63a7"
      },
      "source": [
        "plt.figure(figsize=(8,4))\r\n",
        "plt.plot(range(1,51),error_rate,color='darkred', marker='o',markersize=10)\r\n",
        "plt.title('Error Rate vs. K Value')\r\n",
        "plt.xlabel('K')\r\n",
        "plt.ylabel('Error Rate')"
      ],
      "execution_count": 45,
      "outputs": [
        {
          "output_type": "execute_result",
          "data": {
            "text/plain": [
              "Text(0, 0.5, 'Error Rate')"
            ]
          },
          "metadata": {
            "tags": []
          },
          "execution_count": 45
        },
        {
          "output_type": "display_data",
          "data": {
            "image/png": "[encoded data removed]",
            "text/plain": [
              "<Figure size 576x288 with 1 Axes>"
            ]
          },
          "metadata": {
            "tags": []
          }
        }
      ]
    },
    {
      "cell_type": "code",
      "metadata": {
        "id": "FevPFYoAof7b"
      },
      "source": [
        "knn = KNeighborsClassifier(n_neighbors=15)\r\n",
        "knn.fit(x_train,y_train)\r\n",
        "y_pred=knn.predict(x_test)"
      ],
      "execution_count": 46,
      "outputs": []
    },
    {
      "cell_type": "code",
      "metadata": {
        "colab": {
          "base_uri": "https://localhost:8080/"
        },
        "id": "wvXUIPTgoh9p",
        "outputId": "8b567486-2408-4862-a7fb-c192c0b6b8ac"
      },
      "source": [
        "test_calc = pd.concat([pd.DataFrame(y_test).reset_index(drop=True),pd.DataFrame(y_pred).reset_index(drop=True)],axis=1)\r\n",
        "test_calc.rename(columns={0: 'predicted'}, inplace=True)\r\n",
        "\r\n",
        "test_calc['predicted'] = test_calc['predicted'].apply(lambda x: 1 if x > 0.5 else 0)\r\n",
        "df_table = confusion_matrix(test_calc['y'],test_calc['predicted'])\r\n",
        "print (df_table)\r\n",
        "\r\n",
        "print('accuracy:', (df_table[0,0] + df_table[1,1]) / (df_table[0,0] + df_table[0,1] + df_table[1,0] + df_table[1,1]))\r\n",
        "print ('precision:', df_table[1,1] / (df_table[1,1] + df_table[0,1]))\r\n",
        "print('recall:', df_table[1,1] / (df_table[1,1] + df_table[1,0]))\r\n",
        "\r\n",
        "p = df_table[1,1] / (df_table[1,1] + df_table[0,1])\r\n",
        "r = df_table[1,1] / (df_table[1,1] + df_table[1,0])\r\n",
        "print('f1 score: ', (2*p*r)/(p+r))"
      ],
      "execution_count": 47,
      "outputs": [
        {
          "output_type": "stream",
          "text": [
            "[[11660   775]\n",
            " [ 1901  1945]]\n",
            "accuracy: 0.8356366316565321\n",
            "precision: 0.7150735294117647\n",
            "recall: 0.5057202288091524\n",
            "f1 score:  0.5924459335973195\n"
          ],
          "name": "stdout"
        }
      ]
    },
    {
      "cell_type": "markdown",
      "metadata": {
        "id": "7s4cdfolsggZ"
      },
      "source": [
        "**Decision Tree**"
      ]
    },
    {
      "cell_type": "code",
      "metadata": {
        "colab": {
          "base_uri": "https://localhost:8080/",
          "height": 279
        },
        "id": "6Q-mgAxKsjBn",
        "outputId": "d5b4310a-030f-4cdf-c307-486838694701"
      },
      "source": [
        "results = []\r\n",
        "max_depth_options = [2,4,6,8,10,12,14,16,18,20]\r\n",
        "for trees in max_depth_options:\r\n",
        "    model = DecisionTreeClassifier(max_depth=trees, random_state=101)\r\n",
        "    model.fit(x_train, y_train)\r\n",
        "    y_pred = model.predict(x_test)\r\n",
        "    accuracy = np.mean(y_test==y_pred)\r\n",
        "    results.append(accuracy)\r\n",
        "\r\n",
        "plt.figure(figsize=(8,4))\r\n",
        "pd.Series(results, max_depth_options).plot(color=\"darkred\",marker=\"o\")"
      ],
      "execution_count": 59,
      "outputs": [
        {
          "output_type": "execute_result",
          "data": {
            "text/plain": [
              "<matplotlib.axes._subplots.AxesSubplot at 0x7f7a34f5b908>"
            ]
          },
          "metadata": {
            "tags": []
          },
          "execution_count": 59
        },
        {
          "output_type": "display_data",
          "data": {
            "image/png": "[encoded data removed]",
            "text/plain": [
              "<Figure size 576x288 with 1 Axes>"
            ]
          },
          "metadata": {
            "tags": []
          }
        }
      ]
    },
    {
      "cell_type": "code",
      "metadata": {
        "colab": {
          "base_uri": "https://localhost:8080/",
          "height": 297
        },
        "id": "_hVRR1y8tL7E",
        "outputId": "5b6b0d5c-6aef-428c-b73e-c5182cc082a1"
      },
      "source": [
        "results = []\r\n",
        "max_features_options = ['auto',None,'sqrt',0.95,0.75,0.5,0.25,0.10]\r\n",
        "for trees in max_features_options:\r\n",
        "    model = DecisionTreeClassifier(max_depth=10, random_state=101, max_features = trees)\r\n",
        "    model.fit(x_train, y_train)\r\n",
        "    y_pred = model.predict(x_test)\r\n",
        "    accuracy = np.mean(y_test==y_pred)\r\n",
        "    results.append(accuracy)\r\n",
        "\r\n",
        "plt.figure(figsize=(8,4))\r\n",
        "pd.Series(results, max_features_options).plot(kind=\"bar\",color=\"darkred\",ylim=(0.7,0.9))"
      ],
      "execution_count": 60,
      "outputs": [
        {
          "output_type": "execute_result",
          "data": {
            "text/plain": [
              "<matplotlib.axes._subplots.AxesSubplot at 0x7f7a34ec2f60>"
            ]
          },
          "metadata": {
            "tags": []
          },
          "execution_count": 60
        },
        {
          "output_type": "display_data",
          "data": {
            "image/png": "[encoded data removed]",
            "text/plain": [
              "<Figure size 576x288 with 1 Axes>"
            ]
          },
          "metadata": {
            "tags": []
          }
        }
      ]
    },
    {
      "cell_type": "code",
      "metadata": {
        "colab": {
          "base_uri": "https://localhost:8080/",
          "height": 282
        },
        "id": "_xZr504NtQ8T",
        "outputId": "46ba5611-df0e-4bd3-9456-cf5698668595"
      },
      "source": [
        "results = []\r\n",
        "min_samples_leaf_options = [5,10,15,20,25,30,35,40,45,50]\r\n",
        "for trees in min_samples_leaf_options:\r\n",
        "    model = DecisionTreeClassifier(max_depth=10, random_state=101, max_features = None, min_samples_leaf = trees)\r\n",
        "    model.fit(x_train, y_train)\r\n",
        "    y_pred = model.predict(x_test)\r\n",
        "    accuracy = np.mean(y_test==y_pred)\r\n",
        "    results.append(accuracy)\r\n",
        "\r\n",
        "plt.figure(figsize=(8,4))\r\n",
        "pd.Series(results, min_samples_leaf_options).plot(color=\"darkred\",marker=\"o\")"
      ],
      "execution_count": 61,
      "outputs": [
        {
          "output_type": "execute_result",
          "data": {
            "text/plain": [
              "<matplotlib.axes._subplots.AxesSubplot at 0x7f7a407dfe80>"
            ]
          },
          "metadata": {
            "tags": []
          },
          "execution_count": 61
        },
        {
          "output_type": "display_data",
          "data": {
            "image/png": "[encoded data removed]",
            "text/plain": [
              "<Figure size 576x288 with 1 Axes>"
            ]
          },
          "metadata": {
            "tags": []
          }
        }
      ]
    },
    {
      "cell_type": "code",
      "metadata": {
        "id": "5hTyhAEZtVDb"
      },
      "source": [
        "dtree = DecisionTreeClassifier(max_depth=10, random_state=101, max_features = None, min_samples_leaf = 15)\r\n",
        "dtree.fit(x_train, y_train)\r\n",
        "y_pred=dtree.predict(x_test)"
      ],
      "execution_count": 62,
      "outputs": []
    },
    {
      "cell_type": "code",
      "metadata": {
        "colab": {
          "base_uri": "https://localhost:8080/"
        },
        "id": "d66GPKYytYSk",
        "outputId": "790c55ed-811c-4870-ceec-d3e2a5d456fd"
      },
      "source": [
        "test_calc = pd.concat([pd.DataFrame(y_test).reset_index(drop=True),pd.DataFrame(y_pred).reset_index(drop=True)],axis=1)\r\n",
        "test_calc.rename(columns={0: 'predicted'}, inplace=True)\r\n",
        "\r\n",
        "test_calc['predicted'] = test_calc['predicted'].apply(lambda x: 1 if x > 0.5 else 0)\r\n",
        "df_table = confusion_matrix(test_calc['y'],test_calc['predicted'])\r\n",
        "print (df_table)\r\n",
        "\r\n",
        "print('accuracy:', (df_table[0,0] + df_table[1,1]) / (df_table[0,0] + df_table[0,1] + df_table[1,0] + df_table[1,1]))\r\n",
        "print ('precision:', df_table[1,1] / (df_table[1,1] + df_table[0,1]))\r\n",
        "print('recall:', df_table[1,1] / (df_table[1,1] + df_table[1,0]))\r\n",
        "\r\n",
        "p = df_table[1,1] / (df_table[1,1] + df_table[0,1])\r\n",
        "r = df_table[1,1] / (df_table[1,1] + df_table[1,0])\r\n",
        "print('f1 score: ', (2*p*r)/(p+r))"
      ],
      "execution_count": 63,
      "outputs": [
        {
          "output_type": "stream",
          "text": [
            "[[11521   914]\n",
            " [ 1653  2193]]\n",
            "accuracy: 0.8423315521159634\n",
            "precision: 0.7058255551979401\n",
            "recall: 0.5702028081123245\n",
            "f1 score:  0.6308068459657701\n"
          ],
          "name": "stdout"
        }
      ]
    },
    {
      "cell_type": "markdown",
      "metadata": {
        "id": "qMXp8nOFuGB6"
      },
      "source": [
        "**Random Forest**"
      ]
    },
    {
      "cell_type": "code",
      "metadata": {
        "colab": {
          "base_uri": "https://localhost:8080/",
          "height": 503
        },
        "id": "qZDrGHPDuIFV",
        "outputId": "e48ecdd7-d8a5-429d-9b1d-03f7923ac60b"
      },
      "source": [
        "results = []\r\n",
        "n_estimaor_options = [20,25,30,35,40,45,50,55,60,65,70,75,80,85,90,95,100]\r\n",
        "for trees in n_estimaor_options:\r\n",
        "    model = RandomForestClassifier(trees, oob_score=True, n_jobs=-1, random_state=101)\r\n",
        "    model.fit(x_train, y_train)\r\n",
        "    y_pred = model.predict(x_test)\r\n",
        "    accuracy = np.mean(y_test==y_pred)\r\n",
        "    results.append(accuracy)\r\n",
        "\r\n",
        "plt.figure(figsize=(8,4))\r\n",
        "pd.Series(results, n_estimaor_options).plot(color=\"darkred\",marker=\"o\")"
      ],
      "execution_count": 68,
      "outputs": [
        {
          "output_type": "stream",
          "text": [
            "/usr/local/lib/python3.6/dist-packages/sklearn/ensemble/_forest.py:523: UserWarning: Some inputs do not have OOB scores. This probably means too few trees were used to compute any reliable oob estimates.\n",
            "  warn(\"Some inputs do not have OOB scores. \"\n",
            "/usr/local/lib/python3.6/dist-packages/sklearn/ensemble/_forest.py:528: RuntimeWarning: invalid value encountered in true_divide\n",
            "  predictions[k].sum(axis=1)[:, np.newaxis])\n",
            "/usr/local/lib/python3.6/dist-packages/sklearn/ensemble/_forest.py:523: UserWarning: Some inputs do not have OOB scores. This probably means too few trees were used to compute any reliable oob estimates.\n",
            "  warn(\"Some inputs do not have OOB scores. \"\n",
            "/usr/local/lib/python3.6/dist-packages/sklearn/ensemble/_forest.py:528: RuntimeWarning: invalid value encountered in true_divide\n",
            "  predictions[k].sum(axis=1)[:, np.newaxis])\n",
            "/usr/local/lib/python3.6/dist-packages/sklearn/ensemble/_forest.py:523: UserWarning: Some inputs do not have OOB scores. This probably means too few trees were used to compute any reliable oob estimates.\n",
            "  warn(\"Some inputs do not have OOB scores. \"\n",
            "/usr/local/lib/python3.6/dist-packages/sklearn/ensemble/_forest.py:528: RuntimeWarning: invalid value encountered in true_divide\n",
            "  predictions[k].sum(axis=1)[:, np.newaxis])\n"
          ],
          "name": "stderr"
        },
        {
          "output_type": "execute_result",
          "data": {
            "text/plain": [
              "<matplotlib.axes._subplots.AxesSubplot at 0x7f7a34aed6a0>"
            ]
          },
          "metadata": {
            "tags": []
          },
          "execution_count": 68
        },
        {
          "output_type": "display_data",
          "data": {
            "image/png": "[encoded data removed]",
            "text/plain": [
              "<Figure size 576x288 with 1 Axes>"
            ]
          },
          "metadata": {
            "tags": []
          }
        }
      ]
    },
    {
      "cell_type": "code",
      "metadata": {
        "colab": {
          "base_uri": "https://localhost:8080/",
          "height": 297
        },
        "id": "2kZUBJgUuM74",
        "outputId": "a74bbec5-472f-4f98-f179-b0beb37aa0ef"
      },
      "source": [
        "results = []\r\n",
        "max_features_options = ['auto',None,'sqrt',0.95,0.75,0.5,0.25,0.10]\r\n",
        "for trees in max_features_options:\r\n",
        "    model = RandomForestClassifier(n_estimators=70, oob_score=True, n_jobs=-1, random_state=101, max_features = trees)\r\n",
        "    model.fit(x_train, y_train)\r\n",
        "    y_pred = model.predict(x_test)\r\n",
        "    accuracy = np.mean(y_test==y_pred)\r\n",
        "    results.append(accuracy)\r\n",
        "\r\n",
        "plt.figure(figsize=(8,4))\r\n",
        "pd.Series(results, max_features_options).plot(kind=\"bar\",color=\"darkred\",ylim=(0.7,0.9))"
      ],
      "execution_count": 69,
      "outputs": [
        {
          "output_type": "execute_result",
          "data": {
            "text/plain": [
              "<matplotlib.axes._subplots.AxesSubplot at 0x7f7a33ae1940>"
            ]
          },
          "metadata": {
            "tags": []
          },
          "execution_count": 69
        },
        {
          "output_type": "display_data",
          "data": {
            "image/png": "[encoded data removed]",
            "text/plain": [
              "<Figure size 576x288 with 1 Axes>"
            ]
          },
          "metadata": {
            "tags": []
          }
        }
      ]
    },
    {
      "cell_type": "code",
      "metadata": {
        "colab": {
          "base_uri": "https://localhost:8080/",
          "height": 282
        },
        "id": "z4SzufBKuPqG",
        "outputId": "10aac765-f46e-4379-feba-8a984af916fb"
      },
      "source": [
        "results = []\r\n",
        "min_samples_leaf_options = [5,10,15,20,25,30,35,40,45,50]\r\n",
        "for trees in min_samples_leaf_options:\r\n",
        "    model = RandomForestClassifier(n_estimators=70, oob_score=True, n_jobs=-1, random_state=101, max_features = None, min_samples_leaf = trees)\r\n",
        "    model.fit(x_train, y_train)\r\n",
        "    y_pred = model.predict(x_test)\r\n",
        "    accuracy = np.mean(y_test==y_pred)\r\n",
        "    results.append(accuracy)\r\n",
        "\r\n",
        "plt.figure(figsize=(8,4))\r\n",
        "pd.Series(results, min_samples_leaf_options).plot(color=\"darkred\",marker=\"o\")"
      ],
      "execution_count": 70,
      "outputs": [
        {
          "output_type": "execute_result",
          "data": {
            "text/plain": [
              "<matplotlib.axes._subplots.AxesSubplot at 0x7f7a33a55e80>"
            ]
          },
          "metadata": {
            "tags": []
          },
          "execution_count": 70
        },
        {
          "output_type": "display_data",
          "data": {
            "image/png": "[encoded data removed]",
            "text/plain": [
              "<Figure size 576x288 with 1 Axes>"
            ]
          },
          "metadata": {
            "tags": []
          }
        }
      ]
    },
    {
      "cell_type": "code",
      "metadata": {
        "id": "2UgzL24suRym"
      },
      "source": [
        "rfm = RandomForestClassifier(n_estimators=70, oob_score=True, n_jobs=-1, random_state=101, max_features = None, min_samples_leaf = 30)\r\n",
        "rfm.fit(x_train, y_train)\r\n",
        "y_pred=rfm.predict(x_test)"
      ],
      "execution_count": 71,
      "outputs": []
    },
    {
      "cell_type": "code",
      "metadata": {
        "colab": {
          "base_uri": "https://localhost:8080/"
        },
        "id": "qMlss5RuuUDH",
        "outputId": "1a42e713-9513-40fb-fb36-b9bcb68cf8e2"
      },
      "source": [
        "test_calc = pd.concat([pd.DataFrame(y_test).reset_index(drop=True),pd.DataFrame(y_pred).reset_index(drop=True)],axis=1)\r\n",
        "test_calc.rename(columns={0: 'predicted'}, inplace=True)\r\n",
        "\r\n",
        "test_calc['predicted'] = test_calc['predicted'].apply(lambda x: 1 if x > 0.5 else 0)\r\n",
        "df_table = confusion_matrix(test_calc['y'],test_calc['predicted'])\r\n",
        "print (df_table)\r\n",
        "\r\n",
        "print('accuracy:', (df_table[0,0] + df_table[1,1]) / (df_table[0,0] + df_table[0,1] + df_table[1,0] + df_table[1,1]))\r\n",
        "print ('precision:', df_table[1,1] / (df_table[1,1] + df_table[0,1]))\r\n",
        "print('recall:', df_table[1,1] / (df_table[1,1] + df_table[1,0]))\r\n",
        "\r\n",
        "p = df_table[1,1] / (df_table[1,1] + df_table[0,1])\r\n",
        "r = df_table[1,1] / (df_table[1,1] + df_table[1,0])\r\n",
        "print('f1 score: ', (2*p*r)/(p+r))"
      ],
      "execution_count": 72,
      "outputs": [
        {
          "output_type": "stream",
          "text": [
            "[[11581   854]\n",
            " [ 1697  2149]]\n",
            "accuracy: 0.8433142927338616\n",
            "precision: 0.7156177156177156\n",
            "recall: 0.5587623504940198\n",
            "f1 score:  0.627536866695868\n"
          ],
          "name": "stdout"
        }
      ]
    },
    {
      "cell_type": "markdown",
      "metadata": {
        "id": "v_ObGDWyvp13"
      },
      "source": [
        "**Support Vector Machine**"
      ]
    },
    {
      "cell_type": "code",
      "metadata": {
        "id": "LqXWnxvqv3YI"
      },
      "source": [
        "svm =  SVC(kernel=\"rbf\", C=0.025,random_state=101)\r\n",
        "svm.fit(x_train, y_train)\r\n",
        "y_pred=svm.predict(x_test)"
      ],
      "execution_count": 77,
      "outputs": []
    },
    {
      "cell_type": "code",
      "metadata": {
        "colab": {
          "base_uri": "https://localhost:8080/"
        },
        "id": "IKSKYSyav5QT",
        "outputId": "1c92b30b-9493-4fe6-adea-76448282c41c"
      },
      "source": [
        "test_calc = pd.concat([pd.DataFrame(y_test).reset_index(drop=True),pd.DataFrame(y_pred).reset_index(drop=True)],axis=1)\r\n",
        "test_calc.rename(columns={0: 'predicted'}, inplace=True)\r\n",
        "\r\n",
        "test_calc['predicted'] = test_calc['predicted'].apply(lambda x: 1 if x > 0.5 else 0)\r\n",
        "df_table = confusion_matrix(test_calc['y'],test_calc['predicted'])\r\n",
        "print (df_table)\r\n",
        "\r\n",
        "print('accuracy:', (df_table[0,0] + df_table[1,1]) / (df_table[0,0] + df_table[0,1] + df_table[1,0] + df_table[1,1]))\r\n",
        "print ('precision:', df_table[1,1] / (df_table[1,1] + df_table[0,1]))\r\n",
        "print('recall:', df_table[1,1] / (df_table[1,1] + df_table[1,0]))\r\n",
        "\r\n",
        "p = df_table[1,1] / (df_table[1,1] + df_table[0,1])\r\n",
        "r = df_table[1,1] / (df_table[1,1] + df_table[1,0])\r\n",
        "print('f1 score: ', (2*p*r)/(p+r))"
      ],
      "execution_count": 78,
      "outputs": [
        {
          "output_type": "stream",
          "text": [
            "[[11769   666]\n",
            " [ 2019  1827]]\n",
            "accuracy: 0.8350838400589644\n",
            "precision: 0.7328519855595668\n",
            "recall: 0.4750390015600624\n",
            "f1 score:  0.5764316138192144\n"
          ],
          "name": "stdout"
        }
      ]
    }
  ]
}