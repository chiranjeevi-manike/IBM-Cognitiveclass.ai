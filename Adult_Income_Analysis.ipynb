{
  "nbformat": 4,
  "nbformat_minor": 0,
  "metadata": {
    "kernelspec": {
      "display_name": "Python 3",
      "language": "python",
      "name": "python3"
    },
    "language_info": {
      "codemirror_mode": {
        "name": "ipython",
        "version": 3
      },
      "file_extension": ".py",
      "mimetype": "text/x-python",
      "name": "python",
      "nbconvert_exporter": "python",
      "pygments_lexer": "ipython3",
      "version": "3.6.2"
    },
    "colab": {
      "name": "Adult_Income_Analysis.ipynb",
      "provenance": [],
      "toc_visible": true,
      "include_colab_link": true
    }
  },
  "cells": [
    {
      "cell_type": "markdown",
      "metadata": {
        "id": "view-in-github",
        "colab_type": "text"
      },
      "source": [
        "<a href=\"https://colab.research.google.com/github/chiranjeevi-manike/IBM-Cognitiveclass.ai/blob/main/Adult_Income_Analysis.ipynb\" target=\"_parent\"><img src=\"https://colab.research.google.com/assets/colab-badge.svg\" alt=\"Open In Colab\"/></a>"
      ]
    },
    {
      "cell_type": "markdown",
      "metadata": {
        "id": "nfKed44hnX-l"
      },
      "source": [
        "Attributes and its possible values:\r\n",
        "\r\n",
        "1. age: continuous(numeric).\r\n",
        "\r\n",
        "2. workclass: Private, Self-emp-not-inc, Self-emp-inc, Federal-gov, Local-gov, State-gov, Without-pay, Never-worked.\r\n",
        "\r\n",
        "3. fnlwgt: continuous(numeric).\r\n",
        "4. education: Bachelors, Some-college, 11th, HS-grad, Prof-school, Assoc-acdm, Assoc-voc, 9th, 7th-8th, 12th, Masters, 1st-4th, 10th, Doctorate, 5th-6th, Preschool. \r\n",
        "5. education-num: continuous(numeric).\r\n",
        "6. marital-status: Married-civ-spouse, Divorced, Never-married, Separated, Widowed,  Married-spouse-absent, Married-AF-spouse.\r\n",
        "7. occupation: Tech-support, Craft-repair, Other-service, Sales, Exec-managerial, Prof-specialty, Handlers-cleaners, Machine-op-inspct, Adm-clerical, Farming-fishing, Transport-moving, Priv-house-serv, Protective-serv, Armed-Forces.\r\n",
        "8. relationship: Wife, Own-child, Husband, Not-in-family, Other-relative, Unmarried.\r\n",
        "9. race: White, Asian-Pac-Islander, Amer-Indian-Eskimo, Other, Black.\r\n",
        "10. sex: Female, Male.\r\n",
        "11. capital-gain: continuous(numeric).\r\n",
        "12. capital-loss: continuous(numeric).\r\n",
        "13. hours-per-week: continuous(numeric).\r\n",
        "14. native-country: United-States, Cambodia, England, Puerto-Rico, Canada, Germany, Outlying-US(Guam-USVI-etc), India, Japan, Greece, South, China, Cuba, Iran, Honduras, Philippines, Italy, Poland, Jamaica, Vietnam, Mexico, Portugal, Ireland, France, Dominican-Republic, Laos, Ecuador, Taiwan, Haiti, Columbia, Hungary, Guatemala, Nicaragua, Scotland, Thailand, Yugoslavia, El-Salvador, Trinadad&Tobago, Peru, Hong, Holand-Netherlands.\r\n",
        "\r\n",
        "\r\n",
        "\r\n"
      ]
    },
    {
      "cell_type": "code",
      "metadata": {
        "id": "eJDhgew8DJSB"
      },
      "source": [
        "import pandas as pd\n",
        "from IPython.display import Markdown, display\n",
        "from sklearn.model_selection import train_test_split\n",
        "import matplotlib.pyplot as plt\n",
        "from sklearn.metrics import roc_curve, auc\n",
        "import numpy as np\n",
        "from sklearn import metrics\n",
        "\n",
        "from sklearn.linear_model import LogisticRegression\n",
        "from sklearn import svm\n",
        "from sklearn import tree\n",
        "from sklearn.ensemble import RandomForestClassifier\n",
        "from sklearn.neural_network import MLPClassifier\n",
        "from sklearn.ensemble import AdaBoostClassifier\n",
        "from sklearn.model_selection import cross_val_score\n",
        "\n",
        "from sklearn.metrics import accuracy_score\n",
        "from sklearn.metrics import roc_curve, auc\n",
        "from sklearn.preprocessing import label_binarize\n",
        "\n",
        "def printmd(string):\n",
        "    display(Markdown(string))\n",
        "%  matplotlib inline"
      ],
      "execution_count": 80,
      "outputs": []
    },
    {
      "cell_type": "code",
      "metadata": {
        "id": "rotR_5onDJSF"
      },
      "source": [
        "adult = pd.read_csv('/content/adult.csv')"
      ],
      "execution_count": 81,
      "outputs": []
    },
    {
      "cell_type": "code",
      "metadata": {
        "colab": {
          "base_uri": "https://localhost:8080/"
        },
        "id": "914NKZtpXZCM",
        "outputId": "7678c18b-5445-4311-8026-724939eea9a7"
      },
      "source": [
        "adult.shape"
      ],
      "execution_count": 58,
      "outputs": [
        {
          "output_type": "execute_result",
          "data": {
            "text/plain": [
              "(48842, 15)"
            ]
          },
          "metadata": {
            "tags": []
          },
          "execution_count": 58
        }
      ]
    },
    {
      "cell_type": "code",
      "metadata": {
        "colab": {
          "base_uri": "https://localhost:8080/",
          "height": 394
        },
        "id": "g532dMaP-uAr",
        "outputId": "beca943f-6159-4829-8424-7a5137ae92e6"
      },
      "source": [
        "adult.head()"
      ],
      "execution_count": 82,
      "outputs": [
        {
          "output_type": "execute_result",
          "data": {
            "text/html": [
              "<div>\n",
              "<style scoped>\n",
              "    .dataframe tbody tr th:only-of-type {\n",
              "        vertical-align: middle;\n",
              "    }\n",
              "\n",
              "    .dataframe tbody tr th {\n",
              "        vertical-align: top;\n",
              "    }\n",
              "\n",
              "    .dataframe thead th {\n",
              "        text-align: right;\n",
              "    }\n",
              "</style>\n",
              "<table border=\"1\" class=\"dataframe\">\n",
              "  <thead>\n",
              "    <tr style=\"text-align: right;\">\n",
              "      <th></th>\n",
              "      <th>age</th>\n",
              "      <th>workclass</th>\n",
              "      <th>fnlwgt</th>\n",
              "      <th>education</th>\n",
              "      <th>educational-num</th>\n",
              "      <th>marital-status</th>\n",
              "      <th>occupation</th>\n",
              "      <th>relationship</th>\n",
              "      <th>race</th>\n",
              "      <th>gender</th>\n",
              "      <th>capital-gain</th>\n",
              "      <th>capital-loss</th>\n",
              "      <th>hours-per-week</th>\n",
              "      <th>native-country</th>\n",
              "      <th>income</th>\n",
              "    </tr>\n",
              "  </thead>\n",
              "  <tbody>\n",
              "    <tr>\n",
              "      <th>0</th>\n",
              "      <td>25</td>\n",
              "      <td>Private</td>\n",
              "      <td>226802</td>\n",
              "      <td>11th</td>\n",
              "      <td>7</td>\n",
              "      <td>Never-married</td>\n",
              "      <td>Machine-op-inspct</td>\n",
              "      <td>Own-child</td>\n",
              "      <td>Black</td>\n",
              "      <td>Male</td>\n",
              "      <td>0</td>\n",
              "      <td>0</td>\n",
              "      <td>40</td>\n",
              "      <td>United-States</td>\n",
              "      <td>&lt;=50K</td>\n",
              "    </tr>\n",
              "    <tr>\n",
              "      <th>1</th>\n",
              "      <td>38</td>\n",
              "      <td>Private</td>\n",
              "      <td>89814</td>\n",
              "      <td>HS-grad</td>\n",
              "      <td>9</td>\n",
              "      <td>Married-civ-spouse</td>\n",
              "      <td>Farming-fishing</td>\n",
              "      <td>Husband</td>\n",
              "      <td>White</td>\n",
              "      <td>Male</td>\n",
              "      <td>0</td>\n",
              "      <td>0</td>\n",
              "      <td>50</td>\n",
              "      <td>United-States</td>\n",
              "      <td>&lt;=50K</td>\n",
              "    </tr>\n",
              "    <tr>\n",
              "      <th>2</th>\n",
              "      <td>28</td>\n",
              "      <td>Local-gov</td>\n",
              "      <td>336951</td>\n",
              "      <td>Assoc-acdm</td>\n",
              "      <td>12</td>\n",
              "      <td>Married-civ-spouse</td>\n",
              "      <td>Protective-serv</td>\n",
              "      <td>Husband</td>\n",
              "      <td>White</td>\n",
              "      <td>Male</td>\n",
              "      <td>0</td>\n",
              "      <td>0</td>\n",
              "      <td>40</td>\n",
              "      <td>United-States</td>\n",
              "      <td>&gt;50K</td>\n",
              "    </tr>\n",
              "    <tr>\n",
              "      <th>3</th>\n",
              "      <td>44</td>\n",
              "      <td>Private</td>\n",
              "      <td>160323</td>\n",
              "      <td>Some-college</td>\n",
              "      <td>10</td>\n",
              "      <td>Married-civ-spouse</td>\n",
              "      <td>Machine-op-inspct</td>\n",
              "      <td>Husband</td>\n",
              "      <td>Black</td>\n",
              "      <td>Male</td>\n",
              "      <td>7688</td>\n",
              "      <td>0</td>\n",
              "      <td>40</td>\n",
              "      <td>United-States</td>\n",
              "      <td>&gt;50K</td>\n",
              "    </tr>\n",
              "    <tr>\n",
              "      <th>4</th>\n",
              "      <td>18</td>\n",
              "      <td>?</td>\n",
              "      <td>103497</td>\n",
              "      <td>Some-college</td>\n",
              "      <td>10</td>\n",
              "      <td>Never-married</td>\n",
              "      <td>?</td>\n",
              "      <td>Own-child</td>\n",
              "      <td>White</td>\n",
              "      <td>Female</td>\n",
              "      <td>0</td>\n",
              "      <td>0</td>\n",
              "      <td>30</td>\n",
              "      <td>United-States</td>\n",
              "      <td>&lt;=50K</td>\n",
              "    </tr>\n",
              "  </tbody>\n",
              "</table>\n",
              "</div>"
            ],
            "text/plain": [
              "   age  workclass  fnlwgt  ... hours-per-week  native-country income\n",
              "0   25    Private  226802  ...             40   United-States  <=50K\n",
              "1   38    Private   89814  ...             50   United-States  <=50K\n",
              "2   28  Local-gov  336951  ...             40   United-States   >50K\n",
              "3   44    Private  160323  ...             40   United-States   >50K\n",
              "4   18          ?  103497  ...             30   United-States  <=50K\n",
              "\n",
              "[5 rows x 15 columns]"
            ]
          },
          "metadata": {
            "tags": []
          },
          "execution_count": 82
        }
      ]
    },
    {
      "cell_type": "markdown",
      "metadata": {
        "id": "ja07bKOCDJSH"
      },
      "source": [
        "---\n",
        "# 1. Preliminary Data Analysis"
      ]
    },
    {
      "cell_type": "code",
      "metadata": {
        "colab": {
          "base_uri": "https://localhost:8080/",
          "height": 455
        },
        "id": "7NW6G91PDJSI",
        "outputId": "a294ae94-2eb1-49f1-ceea-43f34583212f"
      },
      "source": [
        "# Setting all the categorical columns to type category\n",
        "for col in set(adult.columns) - set(adult.describe().columns):\n",
        "    adult[col] = adult[col].astype('category')\n",
        "    \n",
        "printmd('## 1.1. Columns and their types')\n",
        "print(adult.info())"
      ],
      "execution_count": 83,
      "outputs": [
        {
          "output_type": "display_data",
          "data": {
            "text/markdown": "## 1.1. Columns and their types",
            "text/plain": [
              "<IPython.core.display.Markdown object>"
            ]
          },
          "metadata": {
            "tags": []
          }
        },
        {
          "output_type": "stream",
          "text": [
            "<class 'pandas.core.frame.DataFrame'>\n",
            "RangeIndex: 48842 entries, 0 to 48841\n",
            "Data columns (total 15 columns):\n",
            " #   Column           Non-Null Count  Dtype   \n",
            "---  ------           --------------  -----   \n",
            " 0   age              48842 non-null  int64   \n",
            " 1   workclass        48842 non-null  category\n",
            " 2   fnlwgt           48842 non-null  int64   \n",
            " 3   education        48842 non-null  category\n",
            " 4   educational-num  48842 non-null  int64   \n",
            " 5   marital-status   48842 non-null  category\n",
            " 6   occupation       48842 non-null  category\n",
            " 7   relationship     48842 non-null  category\n",
            " 8   race             48842 non-null  category\n",
            " 9   gender           48842 non-null  category\n",
            " 10  capital-gain     48842 non-null  int64   \n",
            " 11  capital-loss     48842 non-null  int64   \n",
            " 12  hours-per-week   48842 non-null  int64   \n",
            " 13  native-country   48842 non-null  category\n",
            " 14  income           48842 non-null  category\n",
            "dtypes: category(9), int64(6)\n",
            "memory usage: 2.7 MB\n",
            "None\n"
          ],
          "name": "stdout"
        }
      ]
    },
    {
      "cell_type": "code",
      "metadata": {
        "id": "7dkH8DYsjiT5"
      },
      "source": [
        "# dataframe = pd.read_csv('adult.csv', header=0, na_values='?')"
      ],
      "execution_count": null,
      "outputs": []
    },
    {
      "cell_type": "code",
      "metadata": {
        "id": "iyg179hAmAz4"
      },
      "source": [
        "# dataframe.head()"
      ],
      "execution_count": 84,
      "outputs": []
    },
    {
      "cell_type": "code",
      "metadata": {
        "colab": {
          "base_uri": "https://localhost:8080/"
        },
        "id": "3iZoAhzUoHoS",
        "outputId": "83793879-5d94-4393-a14f-180f61906c11"
      },
      "source": [
        "dataframe.isnull().sum()"
      ],
      "execution_count": null,
      "outputs": [
        {
          "output_type": "execute_result",
          "data": {
            "text/plain": [
              "age                   0\n",
              "workclass          2799\n",
              "fnlwgt                0\n",
              "education             0\n",
              "educational-num       0\n",
              "marital-status        0\n",
              "occupation         2809\n",
              "relationship          0\n",
              "race                  0\n",
              "gender                0\n",
              "capital-gain          0\n",
              "capital-loss          0\n",
              "hours-per-week        0\n",
              "native-country      857\n",
              "income                0\n",
              "dtype: int64"
            ]
          },
          "metadata": {
            "tags": []
          },
          "execution_count": 24
        }
      ]
    },
    {
      "cell_type": "code",
      "metadata": {
        "scrolled": false,
        "colab": {
          "base_uri": "https://localhost:8080/",
          "height": 297
        },
        "id": "wPsIBGGKDJSK",
        "outputId": "76f55eea-fe2d-4e79-bcb8-d493b7d99595"
      },
      "source": [
        "# Summary Statistics\n",
        "\n",
        "adult.describe()"
      ],
      "execution_count": 85,
      "outputs": [
        {
          "output_type": "execute_result",
          "data": {
            "text/html": [
              "<div>\n",
              "<style scoped>\n",
              "    .dataframe tbody tr th:only-of-type {\n",
              "        vertical-align: middle;\n",
              "    }\n",
              "\n",
              "    .dataframe tbody tr th {\n",
              "        vertical-align: top;\n",
              "    }\n",
              "\n",
              "    .dataframe thead th {\n",
              "        text-align: right;\n",
              "    }\n",
              "</style>\n",
              "<table border=\"1\" class=\"dataframe\">\n",
              "  <thead>\n",
              "    <tr style=\"text-align: right;\">\n",
              "      <th></th>\n",
              "      <th>age</th>\n",
              "      <th>fnlwgt</th>\n",
              "      <th>educational-num</th>\n",
              "      <th>capital-gain</th>\n",
              "      <th>capital-loss</th>\n",
              "      <th>hours-per-week</th>\n",
              "    </tr>\n",
              "  </thead>\n",
              "  <tbody>\n",
              "    <tr>\n",
              "      <th>count</th>\n",
              "      <td>48842.000000</td>\n",
              "      <td>4.884200e+04</td>\n",
              "      <td>48842.000000</td>\n",
              "      <td>48842.000000</td>\n",
              "      <td>48842.000000</td>\n",
              "      <td>48842.000000</td>\n",
              "    </tr>\n",
              "    <tr>\n",
              "      <th>mean</th>\n",
              "      <td>38.643585</td>\n",
              "      <td>1.896641e+05</td>\n",
              "      <td>10.078089</td>\n",
              "      <td>1079.067626</td>\n",
              "      <td>87.502314</td>\n",
              "      <td>40.422382</td>\n",
              "    </tr>\n",
              "    <tr>\n",
              "      <th>std</th>\n",
              "      <td>13.710510</td>\n",
              "      <td>1.056040e+05</td>\n",
              "      <td>2.570973</td>\n",
              "      <td>7452.019058</td>\n",
              "      <td>403.004552</td>\n",
              "      <td>12.391444</td>\n",
              "    </tr>\n",
              "    <tr>\n",
              "      <th>min</th>\n",
              "      <td>17.000000</td>\n",
              "      <td>1.228500e+04</td>\n",
              "      <td>1.000000</td>\n",
              "      <td>0.000000</td>\n",
              "      <td>0.000000</td>\n",
              "      <td>1.000000</td>\n",
              "    </tr>\n",
              "    <tr>\n",
              "      <th>25%</th>\n",
              "      <td>28.000000</td>\n",
              "      <td>1.175505e+05</td>\n",
              "      <td>9.000000</td>\n",
              "      <td>0.000000</td>\n",
              "      <td>0.000000</td>\n",
              "      <td>40.000000</td>\n",
              "    </tr>\n",
              "    <tr>\n",
              "      <th>50%</th>\n",
              "      <td>37.000000</td>\n",
              "      <td>1.781445e+05</td>\n",
              "      <td>10.000000</td>\n",
              "      <td>0.000000</td>\n",
              "      <td>0.000000</td>\n",
              "      <td>40.000000</td>\n",
              "    </tr>\n",
              "    <tr>\n",
              "      <th>75%</th>\n",
              "      <td>48.000000</td>\n",
              "      <td>2.376420e+05</td>\n",
              "      <td>12.000000</td>\n",
              "      <td>0.000000</td>\n",
              "      <td>0.000000</td>\n",
              "      <td>45.000000</td>\n",
              "    </tr>\n",
              "    <tr>\n",
              "      <th>max</th>\n",
              "      <td>90.000000</td>\n",
              "      <td>1.490400e+06</td>\n",
              "      <td>16.000000</td>\n",
              "      <td>99999.000000</td>\n",
              "      <td>4356.000000</td>\n",
              "      <td>99.000000</td>\n",
              "    </tr>\n",
              "  </tbody>\n",
              "</table>\n",
              "</div>"
            ],
            "text/plain": [
              "                age        fnlwgt  ...  capital-loss  hours-per-week\n",
              "count  48842.000000  4.884200e+04  ...  48842.000000    48842.000000\n",
              "mean      38.643585  1.896641e+05  ...     87.502314       40.422382\n",
              "std       13.710510  1.056040e+05  ...    403.004552       12.391444\n",
              "min       17.000000  1.228500e+04  ...      0.000000        1.000000\n",
              "25%       28.000000  1.175505e+05  ...      0.000000       40.000000\n",
              "50%       37.000000  1.781445e+05  ...      0.000000       40.000000\n",
              "75%       48.000000  2.376420e+05  ...      0.000000       45.000000\n",
              "max       90.000000  1.490400e+06  ...   4356.000000       99.000000\n",
              "\n",
              "[8 rows x 6 columns]"
            ]
          },
          "metadata": {
            "tags": []
          },
          "execution_count": 85
        }
      ]
    },
    {
      "cell_type": "code",
      "metadata": {
        "colab": {
          "base_uri": "https://localhost:8080/"
        },
        "id": "zUPQEjdSBAqL",
        "outputId": "70027321-3553-41d0-bfc4-15e21624f983"
      },
      "source": [
        "adult.isnull().sum()"
      ],
      "execution_count": null,
      "outputs": [
        {
          "output_type": "execute_result",
          "data": {
            "text/plain": [
              "age                0\n",
              "workclass          0\n",
              "fnlwgt             0\n",
              "education          0\n",
              "educational-num    0\n",
              "marital-status     0\n",
              "occupation         0\n",
              "relationship       0\n",
              "race               0\n",
              "gender             0\n",
              "capital-gain       0\n",
              "capital-loss       0\n",
              "hours-per-week     0\n",
              "native-country     0\n",
              "income             0\n",
              "dtype: int64"
            ]
          },
          "metadata": {
            "tags": []
          },
          "execution_count": 8
        }
      ]
    },
    {
      "cell_type": "code",
      "metadata": {
        "colab": {
          "base_uri": "https://localhost:8080/",
          "height": 135
        },
        "id": "Ny52TSq1DJSK",
        "outputId": "3c78fa38-af98-444a-f1a7-8bf59e758efe"
      },
      "source": [
        "printmd('## 1.4. Missing values')\n",
        "for i,j in zip(adult.columns,(adult.values.astype(str) == '?').sum(axis = 0)):\n",
        "    if j > 0:\n",
        "        printmd(str(i) + ': ' + str(j) + ' records')\n",
        "\n"
      ],
      "execution_count": 86,
      "outputs": [
        {
          "output_type": "display_data",
          "data": {
            "text/markdown": "## 1.4. Missing values",
            "text/plain": [
              "<IPython.core.display.Markdown object>"
            ]
          },
          "metadata": {
            "tags": []
          }
        },
        {
          "output_type": "display_data",
          "data": {
            "text/markdown": "workclass: 2799 records",
            "text/plain": [
              "<IPython.core.display.Markdown object>"
            ]
          },
          "metadata": {
            "tags": []
          }
        },
        {
          "output_type": "display_data",
          "data": {
            "text/markdown": "occupation: 2809 records",
            "text/plain": [
              "<IPython.core.display.Markdown object>"
            ]
          },
          "metadata": {
            "tags": []
          }
        },
        {
          "output_type": "display_data",
          "data": {
            "text/markdown": "native-country: 857 records",
            "text/plain": [
              "<IPython.core.display.Markdown object>"
            ]
          },
          "metadata": {
            "tags": []
          }
        }
      ]
    },
    {
      "cell_type": "markdown",
      "metadata": {
        "id": "AdgPgcrFDJSL"
      },
      "source": [
        "### Treating Missing Values by predicting them\n",
        "\n",
        "I fill the missing values in each of the three columns by predicting their values. For each of the three columns, I use all the attributes (including 'income') as independent variables and treat that column as the dependent variable, making it a multi-class classification task. I use three classification algorithms, namely, logistic regression, decision trees and random forest to predict the class when the value is missing (in this case a '?'). I then take a majority vote amongst the three classifiers to be the class of the missing value. In case of a tie, I pick the majority class of that column using the entire dataset."
      ]
    },
    {
      "cell_type": "code",
      "metadata": {
        "id": "ZnngaqwcDJSM"
      },
      "source": [
        "# Create one hot encoding of the categorical columns in the data frame.\n",
        "def oneHotCatVars(df, df_cols):\n",
        "    \n",
        "    df_1 = adult_data = df.drop(columns = df_cols, axis = 1)\n",
        "    df_2 = pd.get_dummies(df[df_cols])\n",
        "    \n",
        "    return (pd.concat([df_1, df_2], axis=1, join='inner'))"
      ],
      "execution_count": 87,
      "outputs": []
    },
    {
      "cell_type": "code",
      "metadata": {
        "colab": {
          "base_uri": "https://localhost:8080/",
          "height": 434
        },
        "id": "FS4jvEp8DJSM",
        "outputId": "03c7f9f7-d805-4c21-f1d6-c4322d95d39a"
      },
      "source": [
        "printmd('### 1.4.1. Filling in missing values for Attribute workclass')\n",
        "\n",
        "test_data = adult[(adult.workclass.values == '?')].copy()\n",
        "test_label = test_data.workclass\n",
        "\n",
        "train_data = adult[(adult.workclass.values != '?')].copy()\n",
        "train_label = train_data.workclass\n",
        "\n",
        "test_data.drop(columns = ['workclass'], inplace = True)\n",
        "train_data.drop(columns = ['workclass'], inplace = True)\n",
        "\n",
        "train_data = oneHotCatVars(train_data, train_data.select_dtypes('category').columns)\n",
        "test_data = oneHotCatVars(test_data, test_data.select_dtypes('category').columns)\n",
        "\n",
        "log_reg = LogisticRegression()\n",
        "log_reg.fit(train_data, train_label)\n",
        "log_reg_pred = log_reg.predict(test_data)\n",
        "\n",
        "clf = tree.DecisionTreeClassifier()\n",
        "clf = clf.fit(train_data, train_label)\n",
        "clf_pred = clf.predict(test_data)\n",
        "\n",
        "r_forest = RandomForestClassifier(n_estimators=10)\n",
        "r_forest.fit(train_data, train_label)\n",
        "r_forest_pred = r_forest.predict(test_data)\n",
        "\n",
        "majority_class = adult.workclass.value_counts().index[0]\n",
        "\n",
        "pred_df =  pd.DataFrame({'RFor': r_forest_pred, 'DTree' : clf_pred, 'LogReg' : log_reg_pred})\n",
        "overall_pred = pred_df.apply(lambda x: x.value_counts().index[0] if x.value_counts()[0] > 1 else majority_class, axis = 1)\n",
        "\n",
        "adult.loc[(adult.workclass.values == '?'),'workclass'] = overall_pred.values\n",
        "print(adult.workclass.value_counts())\n",
        "print(adult.workclass.unique())"
      ],
      "execution_count": 88,
      "outputs": [
        {
          "output_type": "display_data",
          "data": {
            "text/markdown": "### 1.4.1. Filling in missing values for Attribute workclass",
            "text/plain": [
              "<IPython.core.display.Markdown object>"
            ]
          },
          "metadata": {
            "tags": []
          }
        },
        {
          "output_type": "stream",
          "text": [
            "/usr/local/lib/python3.6/dist-packages/sklearn/linear_model/_logistic.py:940: ConvergenceWarning: lbfgs failed to converge (status=1):\n",
            "STOP: TOTAL NO. of ITERATIONS REACHED LIMIT.\n",
            "\n",
            "Increase the number of iterations (max_iter) or scale the data as shown in:\n",
            "    https://scikit-learn.org/stable/modules/preprocessing.html\n",
            "Please also refer to the documentation for alternative solver options:\n",
            "    https://scikit-learn.org/stable/modules/linear_model.html#logistic-regression\n",
            "  extra_warning_msg=_LOGISTIC_SOLVER_CONVERGENCE_MSG)\n"
          ],
          "name": "stderr"
        },
        {
          "output_type": "stream",
          "text": [
            "Private             35782\n",
            "Self-emp-not-inc     3872\n",
            "Local-gov            3147\n",
            "State-gov            1984\n",
            "Self-emp-inc         1696\n",
            "Federal-gov          1435\n",
            "Never-worked          905\n",
            "Without-pay            21\n",
            "?                       0\n",
            "Name: workclass, dtype: int64\n",
            "['Private', 'Local-gov', 'Never-worked', 'Self-emp-not-inc', 'Federal-gov', 'State-gov', 'Self-emp-inc', 'Without-pay']\n",
            "Categories (8, object): ['Private', 'Local-gov', 'Never-worked', 'Self-emp-not-inc',\n",
            "                         'Federal-gov', 'State-gov', 'Self-emp-inc', 'Without-pay']\n"
          ],
          "name": "stdout"
        }
      ]
    },
    {
      "cell_type": "code",
      "metadata": {
        "colab": {
          "base_uri": "https://localhost:8080/",
          "height": 553
        },
        "id": "vdSTpBw2DJSO",
        "outputId": "a4a0b083-24db-4b9e-d85c-5df1f00de3f8"
      },
      "source": [
        "printmd('### 1.4.2. Filling in missing values for Occupation occupation')\n",
        "\n",
        "test_data = adult[(adult.occupation.values == '?')].copy()\n",
        "test_label = test_data.occupation\n",
        "\n",
        "train_data = adult[(adult.occupation.values != '?')].copy()\n",
        "train_label = train_data.occupation\n",
        "\n",
        "test_data.drop(columns = ['occupation'], inplace = True)\n",
        "train_data.drop(columns = ['occupation'], inplace = True)\n",
        "\n",
        "train_data = oneHotCatVars(train_data, train_data.select_dtypes('category').columns)\n",
        "test_data = oneHotCatVars(test_data, test_data.select_dtypes('category').columns)\n",
        "\n",
        "log_reg = LogisticRegression()\n",
        "log_reg.fit(train_data, train_label)\n",
        "log_reg_pred = log_reg.predict(test_data)\n",
        "\n",
        "\n",
        "clf = tree.DecisionTreeClassifier()\n",
        "clf = clf.fit(train_data, train_label)\n",
        "clf_pred = clf.predict(test_data)\n",
        "\n",
        "r_forest = RandomForestClassifier(n_estimators=10)\n",
        "r_forest.fit(train_data, train_label)\n",
        "r_forest_pred = r_forest.predict(test_data)\n",
        "\n",
        "\n",
        "majority_class = adult.occupation.value_counts().index[0]\n",
        "\n",
        "pred_df =  pd.DataFrame({'RFor': r_forest_pred, 'DTree' : clf_pred, 'LogReg' : log_reg_pred})\n",
        "overall_pred = pred_df.apply(lambda x: x.value_counts().index[0] if x.value_counts()[0] > 1 else majority_class, axis = 1)\n",
        "\n",
        "adult.loc[(adult.occupation.values == '?'),'occupation'] = overall_pred.values\n",
        "print(adult.occupation.value_counts())\n",
        "print(adult.occupation.unique())"
      ],
      "execution_count": 89,
      "outputs": [
        {
          "output_type": "display_data",
          "data": {
            "text/markdown": "### 1.4.2. Filling in missing values for Occupation occupation",
            "text/plain": [
              "<IPython.core.display.Markdown object>"
            ]
          },
          "metadata": {
            "tags": []
          }
        },
        {
          "output_type": "stream",
          "text": [
            "/usr/local/lib/python3.6/dist-packages/sklearn/linear_model/_logistic.py:940: ConvergenceWarning: lbfgs failed to converge (status=1):\n",
            "STOP: TOTAL NO. of ITERATIONS REACHED LIMIT.\n",
            "\n",
            "Increase the number of iterations (max_iter) or scale the data as shown in:\n",
            "    https://scikit-learn.org/stable/modules/preprocessing.html\n",
            "Please also refer to the documentation for alternative solver options:\n",
            "    https://scikit-learn.org/stable/modules/linear_model.html#logistic-regression\n",
            "  extra_warning_msg=_LOGISTIC_SOLVER_CONVERGENCE_MSG)\n"
          ],
          "name": "stderr"
        },
        {
          "output_type": "stream",
          "text": [
            "Prof-specialty       7731\n",
            "Craft-repair         6623\n",
            "Exec-managerial      6144\n",
            "Adm-clerical         5852\n",
            "Sales                5567\n",
            "Other-service        5122\n",
            "Machine-op-inspct    3061\n",
            "Transport-moving     2394\n",
            "Handlers-cleaners    2100\n",
            "Farming-fishing      1533\n",
            "Tech-support         1460\n",
            "Protective-serv       989\n",
            "Priv-house-serv       251\n",
            "Armed-Forces           15\n",
            "?                       0\n",
            "Name: occupation, dtype: int64\n",
            "['Machine-op-inspct', 'Farming-fishing', 'Protective-serv', 'Adm-clerical', 'Other-service', ..., 'Sales', 'Priv-house-serv', 'Transport-moving', 'Handlers-cleaners', 'Armed-Forces']\n",
            "Length: 14\n",
            "Categories (14, object): ['Machine-op-inspct', 'Farming-fishing', 'Protective-serv', 'Adm-clerical', ...,\n",
            "                          'Priv-house-serv', 'Transport-moving', 'Handlers-cleaners', 'Armed-Forces']\n"
          ],
          "name": "stdout"
        }
      ]
    },
    {
      "cell_type": "code",
      "metadata": {
        "colab": {
          "base_uri": "https://localhost:8080/",
          "height": 1000
        },
        "id": "kQFNml20DJSP",
        "outputId": "26f9b1f6-8d8d-4865-d5f5-2aee439ff35e"
      },
      "source": [
        "printmd('### 1.4.3. Filling in missing values for Native Country')\n",
        "\n",
        "test_data = adult[(adult['native-country'].values == '?')].copy()\n",
        "test_label = test_data['native-country']\n",
        "\n",
        "train_data = adult[(adult['native-country'].values != '?')].copy()\n",
        "train_label = train_data['native-country']\n",
        "\n",
        "test_data.drop(columns = ['native-country'], inplace = True)\n",
        "train_data.drop(columns = ['native-country'], inplace = True)\n",
        "\n",
        "train_data = oneHotCatVars(train_data, train_data.select_dtypes('category').columns)\n",
        "test_data = oneHotCatVars(test_data, test_data.select_dtypes('category').columns)\n",
        "\n",
        "log_reg = LogisticRegression()\n",
        "log_reg.fit(train_data, train_label)\n",
        "log_reg_pred = log_reg.predict(test_data)\n",
        "\n",
        "\n",
        "clf = tree.DecisionTreeClassifier()\n",
        "clf = clf.fit(train_data, train_label)\n",
        "clf_pred = clf.predict(test_data)\n",
        "\n",
        "r_forest = RandomForestClassifier(n_estimators=10)\n",
        "r_forest.fit(train_data, train_label)\n",
        "r_forest_pred = r_forest.predict(test_data)\n",
        "\n",
        "\n",
        "majority_class = adult['native-country'].value_counts().index[0]\n",
        "\n",
        "pred_df =  pd.DataFrame({'RFor': r_forest_pred, 'DTree' : clf_pred, 'LogReg' : log_reg_pred})\n",
        "overall_pred = pred_df.apply(lambda x: x.value_counts().index[0] if x.value_counts()[0] > 1 else majority_class, axis = 1)\n",
        "\n",
        "adult.loc[(adult['native-country'].values == '?'),'native-country'] = overall_pred.values\n",
        "print(adult['native-country'].value_counts())\n",
        "print(adult['native-country'].unique())"
      ],
      "execution_count": 90,
      "outputs": [
        {
          "output_type": "display_data",
          "data": {
            "text/markdown": "### 1.4.3. Filling in missing values for Native Country",
            "text/plain": [
              "<IPython.core.display.Markdown object>"
            ]
          },
          "metadata": {
            "tags": []
          }
        },
        {
          "output_type": "stream",
          "text": [
            "/usr/local/lib/python3.6/dist-packages/sklearn/linear_model/_logistic.py:940: ConvergenceWarning: lbfgs failed to converge (status=1):\n",
            "STOP: TOTAL NO. of ITERATIONS REACHED LIMIT.\n",
            "\n",
            "Increase the number of iterations (max_iter) or scale the data as shown in:\n",
            "    https://scikit-learn.org/stable/modules/preprocessing.html\n",
            "Please also refer to the documentation for alternative solver options:\n",
            "    https://scikit-learn.org/stable/modules/linear_model.html#logistic-regression\n",
            "  extra_warning_msg=_LOGISTIC_SOLVER_CONVERGENCE_MSG)\n"
          ],
          "name": "stderr"
        },
        {
          "output_type": "stream",
          "text": [
            "United-States                 44639\n",
            "Mexico                          965\n",
            "Philippines                     304\n",
            "Germany                         206\n",
            "Puerto-Rico                     184\n",
            "Canada                          182\n",
            "India                           158\n",
            "El-Salvador                     155\n",
            "Cuba                            138\n",
            "England                         127\n",
            "China                           125\n",
            "South                           122\n",
            "Jamaica                         107\n",
            "Italy                           105\n",
            "Dominican-Republic              103\n",
            "Japan                            94\n",
            "Vietnam                          89\n",
            "Guatemala                        88\n",
            "Poland                           87\n",
            "Columbia                         85\n",
            "Haiti                            75\n",
            "Portugal                         68\n",
            "Taiwan                           66\n",
            "Iran                             59\n",
            "Greece                           49\n",
            "Nicaragua                        49\n",
            "Peru                             46\n",
            "Ecuador                          45\n",
            "France                           38\n",
            "Ireland                          37\n",
            "Hong                             32\n",
            "Thailand                         30\n",
            "Cambodia                         28\n",
            "Trinadad&Tobago                  27\n",
            "Yugoslavia                       23\n",
            "Laos                             23\n",
            "Outlying-US(Guam-USVI-etc)       23\n",
            "Scotland                         21\n",
            "Honduras                         20\n",
            "Hungary                          19\n",
            "Holand-Netherlands                1\n",
            "?                                 0\n",
            "Name: native-country, dtype: int64\n",
            "['United-States', 'India', 'Peru', 'Guatemala', 'Mexico', ..., 'Greece', 'Trinadad&Tobago', 'Outlying-US(Guam-USVI-etc)', 'France', 'Holand-Netherlands']\n",
            "Length: 41\n",
            "Categories (41, object): ['United-States', 'India', 'Peru', 'Guatemala', ..., 'Trinadad&Tobago',\n",
            "                          'Outlying-US(Guam-USVI-etc)', 'France', 'Holand-Netherlands']\n"
          ],
          "name": "stdout"
        }
      ]
    },
    {
      "cell_type": "code",
      "metadata": {
        "id": "FCiWOPd5DJSQ"
      },
      "source": [
        "# Resetting the categories\n",
        "\n",
        "adult['workclass'] = adult['workclass'].cat.remove_categories('?')\n",
        "adult['occupation'] = adult['occupation'].cat.remove_categories('?')\n",
        "adult['native-country'] = adult['native-country'].cat.remove_categories('?')\n",
        "\n"
      ],
      "execution_count": 91,
      "outputs": []
    },
    {
      "cell_type": "code",
      "metadata": {
        "colab": {
          "base_uri": "https://localhost:8080/",
          "height": 311
        },
        "id": "UPItUy0zDJSR",
        "outputId": "98948a5b-efe5-4ceb-c84c-2c14fa945861"
      },
      "source": [
        "printmd('## 1.5. Correlation Matrix')\n",
        "\n",
        "display(adult.corr())\n",
        "\n",
        "printmd('We see that none of the columns are highly correlated.')"
      ],
      "execution_count": 92,
      "outputs": [
        {
          "output_type": "display_data",
          "data": {
            "text/markdown": "## 1.5. Correlation Matrix",
            "text/plain": [
              "<IPython.core.display.Markdown object>"
            ]
          },
          "metadata": {
            "tags": []
          }
        },
        {
          "output_type": "display_data",
          "data": {
            "text/html": [
              "<div>\n",
              "<style scoped>\n",
              "    .dataframe tbody tr th:only-of-type {\n",
              "        vertical-align: middle;\n",
              "    }\n",
              "\n",
              "    .dataframe tbody tr th {\n",
              "        vertical-align: top;\n",
              "    }\n",
              "\n",
              "    .dataframe thead th {\n",
              "        text-align: right;\n",
              "    }\n",
              "</style>\n",
              "<table border=\"1\" class=\"dataframe\">\n",
              "  <thead>\n",
              "    <tr style=\"text-align: right;\">\n",
              "      <th></th>\n",
              "      <th>age</th>\n",
              "      <th>fnlwgt</th>\n",
              "      <th>educational-num</th>\n",
              "      <th>capital-gain</th>\n",
              "      <th>capital-loss</th>\n",
              "      <th>hours-per-week</th>\n",
              "    </tr>\n",
              "  </thead>\n",
              "  <tbody>\n",
              "    <tr>\n",
              "      <th>age</th>\n",
              "      <td>1.000000</td>\n",
              "      <td>-0.076628</td>\n",
              "      <td>0.030940</td>\n",
              "      <td>0.077229</td>\n",
              "      <td>0.056944</td>\n",
              "      <td>0.071558</td>\n",
              "    </tr>\n",
              "    <tr>\n",
              "      <th>fnlwgt</th>\n",
              "      <td>-0.076628</td>\n",
              "      <td>1.000000</td>\n",
              "      <td>-0.038761</td>\n",
              "      <td>-0.003706</td>\n",
              "      <td>-0.004366</td>\n",
              "      <td>-0.013519</td>\n",
              "    </tr>\n",
              "    <tr>\n",
              "      <th>educational-num</th>\n",
              "      <td>0.030940</td>\n",
              "      <td>-0.038761</td>\n",
              "      <td>1.000000</td>\n",
              "      <td>0.125146</td>\n",
              "      <td>0.080972</td>\n",
              "      <td>0.143689</td>\n",
              "    </tr>\n",
              "    <tr>\n",
              "      <th>capital-gain</th>\n",
              "      <td>0.077229</td>\n",
              "      <td>-0.003706</td>\n",
              "      <td>0.125146</td>\n",
              "      <td>1.000000</td>\n",
              "      <td>-0.031441</td>\n",
              "      <td>0.082157</td>\n",
              "    </tr>\n",
              "    <tr>\n",
              "      <th>capital-loss</th>\n",
              "      <td>0.056944</td>\n",
              "      <td>-0.004366</td>\n",
              "      <td>0.080972</td>\n",
              "      <td>-0.031441</td>\n",
              "      <td>1.000000</td>\n",
              "      <td>0.054467</td>\n",
              "    </tr>\n",
              "    <tr>\n",
              "      <th>hours-per-week</th>\n",
              "      <td>0.071558</td>\n",
              "      <td>-0.013519</td>\n",
              "      <td>0.143689</td>\n",
              "      <td>0.082157</td>\n",
              "      <td>0.054467</td>\n",
              "      <td>1.000000</td>\n",
              "    </tr>\n",
              "  </tbody>\n",
              "</table>\n",
              "</div>"
            ],
            "text/plain": [
              "                      age    fnlwgt  ...  capital-loss  hours-per-week\n",
              "age              1.000000 -0.076628  ...      0.056944        0.071558\n",
              "fnlwgt          -0.076628  1.000000  ...     -0.004366       -0.013519\n",
              "educational-num  0.030940 -0.038761  ...      0.080972        0.143689\n",
              "capital-gain     0.077229 -0.003706  ...     -0.031441        0.082157\n",
              "capital-loss     0.056944 -0.004366  ...      1.000000        0.054467\n",
              "hours-per-week   0.071558 -0.013519  ...      0.054467        1.000000\n",
              "\n",
              "[6 rows x 6 columns]"
            ]
          },
          "metadata": {
            "tags": []
          }
        },
        {
          "output_type": "display_data",
          "data": {
            "text/markdown": "We see that none of the columns are highly correlated.",
            "text/plain": [
              "<IPython.core.display.Markdown object>"
            ]
          },
          "metadata": {
            "tags": []
          }
        }
      ]
    },
    {
      "cell_type": "markdown",
      "metadata": {
        "id": "zAzqRt_0DJSR"
      },
      "source": [
        "---\n",
        "# 2. Exploratory Analysis"
      ]
    },
    {
      "cell_type": "code",
      "metadata": {
        "id": "CuZu1yDWDJSS"
      },
      "source": [
        "# Creating a dictionary that contain the education and it's corresponding education level\n",
        "edu_level = {}\n",
        "for x,y in adult[['educational-num','education']].drop_duplicates().itertuples(index=False):\n",
        "    edu_level[y] = x"
      ],
      "execution_count": null,
      "outputs": []
    },
    {
      "cell_type": "code",
      "metadata": {
        "colab": {
          "base_uri": "https://localhost:8080/",
          "height": 676
        },
        "id": "1IOC-ZhdDJSS",
        "outputId": "16b4b8ea-f930-44bc-efb4-11c49e318c23"
      },
      "source": [
        "printmd('## 2.1. Education vs Income')\n",
        "\n",
        "education = round(pd.crosstab(adult.education, adult.income).div(pd.crosstab(adult.education, adult.income).apply(sum,1),0),2)\n",
        "education = education.reindex(sorted(edu_level, key=edu_level.get, reverse=False))\n",
        "\n",
        "ax = education.plot(kind ='bar', title = 'Proportion distribution across education levels', figsize = (10,8))\n",
        "ax.set_xlabel('Education level')\n",
        "ax.set_ylabel('Proportion of population')\n",
        "\n",
        "printmd('I plot a bar graph showing the proportion of income classes across education levels \\\n",
        "        in the figure below. As one would expect, we see from the bar graph below that as the \\\n",
        "        education level increase, the proportion of people who earn more than 50k a year also \\\n",
        "        increase. It is interesting to note that only after a master\\'s degree, the proportion of \\\n",
        "        people earning more than 50k a year, is a majority.')\n",
        "        "
      ],
      "execution_count": null,
      "outputs": [
        {
          "output_type": "display_data",
          "data": {
            "text/markdown": "## 2.1. Education vs Income",
            "text/plain": [
              "<IPython.core.display.Markdown object>"
            ]
          },
          "metadata": {
            "tags": []
          }
        },
        {
          "output_type": "display_data",
          "data": {
            "text/markdown": "I plot a bar graph showing the proportion of income classes across education levels         in the figure below. As one would expect, we see from the bar graph below that as the         education level increase, the proportion of people who earn more than 50k a year also         increase. It is interesting to note that only after a master's degree, the proportion of         people earning more than 50k a year, is a majority.",
            "text/plain": [
              "<IPython.core.display.Markdown object>"
            ]
          },
          "metadata": {
            "tags": []
          }
        },
        {
          "output_type": "display_data",
          "data": {
            "image/png": "[encoded data removed]",
            "text/plain": [
              "<Figure size 720x576 with 1 Axes>"
            ]
          },
          "metadata": {
            "tags": [],
            "needs_background": "light"
          }
        }
      ]
    },
    {
      "cell_type": "code",
      "metadata": {
        "colab": {
          "base_uri": "https://localhost:8080/",
          "height": 427
        },
        "id": "3RbzWQLHDJST",
        "outputId": "88e0d127-4da0-47bc-b877-815b8a7ee6ea"
      },
      "source": [
        "printmd('## 2.2 Gender vs Income')\n",
        "\n",
        "gender = round(pd.crosstab(adult.gender, adult.income).div(pd.crosstab(adult.gender, adult.income).apply(sum,1),0),2)\n",
        "gender.sort_values(by = '>50K', inplace = True)\n",
        "ax = gender.plot(kind ='bar', title = 'Proportion distribution across gender levels')\n",
        "ax.set_xlabel('Gender level')\n",
        "ax.set_ylabel('Proportion of population')\n",
        "\n",
        "printmd('We plot a bar graph showing the proportion of income classes across the genders in figure \\\n",
        "        below. From the graph, at an overall view, there exists a wage gap between females and males. \\\n",
        "        Since we do not have the exactly value of the income, we are limited to only observing that the \\\n",
        "        proportion of males earning more than 50k a year is more than double of their female counterparts. \\\n",
        "        ')"
      ],
      "execution_count": null,
      "outputs": [
        {
          "output_type": "display_data",
          "data": {
            "text/markdown": "## 2.2 Gender vs Income",
            "text/plain": [
              "<IPython.core.display.Markdown object>"
            ]
          },
          "metadata": {
            "tags": []
          }
        },
        {
          "output_type": "display_data",
          "data": {
            "text/markdown": "We plot a bar graph showing the proportion of income classes across the genders in figure         below. From the graph, at an overall view, there exists a wage gap between females and males.         Since we do not have the exactly value of the income, we are limited to only observing that the         proportion of males earning more than 50k a year is more than double of their female counterparts.         ",
            "text/plain": [
              "<IPython.core.display.Markdown object>"
            ]
          },
          "metadata": {
            "tags": []
          }
        },
        {
          "output_type": "display_data",
          "data": {
            "image/png": "[encoded data removed]",
            "text/plain": [
              "<Figure size 432x288 with 1 Axes>"
            ]
          },
          "metadata": {
            "tags": [],
            "needs_background": "light"
          }
        }
      ]
    },
    {
      "cell_type": "code",
      "metadata": {
        "scrolled": false,
        "colab": {
          "base_uri": "https://localhost:8080/",
          "height": 616
        },
        "id": "HpEkaRU5DJST",
        "outputId": "a2f84318-0e61-46c9-a8a9-45effc73d069"
      },
      "source": [
        "gender_workclass = round(pd.crosstab(adult.workclass, [adult.income, adult.gender]).div(pd.crosstab(adult.workclass, [adult.income, adult.gender]).apply(sum,1),0),2)\n",
        "gender_workclass[[('>50K','Male'), ('>50K','Female')]].plot(kind = 'bar', title = 'Proportion distribution across gender for each workclass', figsize = (10,8), rot = 30)\n",
        "ax.set_xlabel('Gender level')\n",
        "ax.set_ylabel('Proportion of population')\n",
        "\n",
        "printmd('Taking a closer look at the disparity in income between men and women, plot the \\\n",
        "        proportion of men and women who earn more than 50k a year, across all the working \\\n",
        "        classes as seen in Fig. 3. We see that men always have a higher proportion earning \\\n",
        "        more than 50k a year than women, except for the \\'without.pay\\' working class, where \\\n",
        "        they have the same proportion.')"
      ],
      "execution_count": null,
      "outputs": [
        {
          "output_type": "display_data",
          "data": {
            "text/markdown": "Taking a closer look at the disparity in income between men and women, plot the         proportion of men and women who earn more than 50k a year, across all the working         classes as seen in Fig. 3. We see that men always have a higher proportion earning         more than 50k a year than women, except for the 'without.pay' working class, where         they have the same proportion.",
            "text/plain": [
              "<IPython.core.display.Markdown object>"
            ]
          },
          "metadata": {
            "tags": []
          }
        },
        {
          "output_type": "display_data",
          "data": {
            "image/png": "[encoded data removed]",
            "text/plain": [
              "<Figure size 720x576 with 1 Axes>"
            ]
          },
          "metadata": {
            "tags": [],
            "needs_background": "light"
          }
        }
      ]
    },
    {
      "cell_type": "code",
      "metadata": {
        "scrolled": false,
        "id": "ZJ2F-bZzDJSU"
      },
      "source": [
        "# printmd('### Gender across working classes')\n",
        "\n",
        "# for i in adult.workclass.unique():\n",
        "#     df = adult[adult.workclass == i]\n",
        "\n",
        "#     hours_per_week = round(pd.crosstab(df.gender, df.income).div(pd.crosstab(df.gender, df.income).apply(sum,1),0),2)\n",
        "#     # hours_per_week.sort_values(by = '>50K', inplace = True)\n",
        "#     ax = hours_per_week.plot(kind ='bar', title = 'Proportion distribution across Gender for '+ i)\n",
        "#     ax.set_xlabel('Gender')\n",
        "#     ax.set_ylabel('Proportion of population')\n",
        "\n",
        "#     print()"
      ],
      "execution_count": null,
      "outputs": []
    },
    {
      "cell_type": "code",
      "metadata": {
        "colab": {
          "base_uri": "https://localhost:8080/",
          "height": 659
        },
        "id": "ZShSi98MDJSU",
        "outputId": "242ffe5d-c8e2-4fbd-c7da-c1f1f2c38cf4"
      },
      "source": [
        "printmd('## 2.3. Occupation vs Income')\n",
        "\n",
        "occupation = round(pd.crosstab(adult.occupation, adult.income).div(pd.crosstab(adult.occupation, adult.income).apply(sum,1),0),2)\n",
        "occupation.sort_values(by = '>50K', inplace = True)\n",
        "ax = occupation.plot(kind ='bar', title = 'Proportion distribution across Occupation levels', figsize = (10,8))\n",
        "ax.set_xlabel('Occupation level')\n",
        "ax.set_ylabel('Proportion of population')\n",
        "\n",
        "print()"
      ],
      "execution_count": null,
      "outputs": [
        {
          "output_type": "display_data",
          "data": {
            "text/markdown": "## 2.3. Occupation vs Income",
            "text/plain": [
              "<IPython.core.display.Markdown object>"
            ]
          },
          "metadata": {
            "tags": []
          }
        },
        {
          "output_type": "stream",
          "text": [
            "\n"
          ],
          "name": "stdout"
        },
        {
          "output_type": "display_data",
          "data": {
            "image/png": "[encoded data removed]",
            "text/plain": [
              "<Figure size 720x576 with 1 Axes>"
            ]
          },
          "metadata": {
            "tags": [],
            "needs_background": "light"
          }
        }
      ]
    },
    {
      "cell_type": "code",
      "metadata": {
        "colab": {
          "base_uri": "https://localhost:8080/",
          "height": 649
        },
        "id": "zyrg5SjrDJSV",
        "outputId": "306bd2c5-77ca-4eb8-9276-a912c16041a0"
      },
      "source": [
        "printmd('## 2.4. Workclass vs Income')\n",
        "\n",
        "workclass = round(pd.crosstab(adult.workclass, adult.income).div(pd.crosstab(adult.workclass, adult.income).apply(sum,1),0),2)\n",
        "workclass.sort_values(by = '>50K', inplace = True)\n",
        "ax = workclass.plot(kind ='bar', title = 'Proportion distribution across workclass levels', figsize = (10,8))\n",
        "ax.set_xlabel('Workclass level')\n",
        "ax.set_ylabel('Proportion of population')\n",
        "\n",
        "print()"
      ],
      "execution_count": null,
      "outputs": [
        {
          "output_type": "display_data",
          "data": {
            "text/markdown": "## 2.4. Workclass vs Income",
            "text/plain": [
              "<IPython.core.display.Markdown object>"
            ]
          },
          "metadata": {
            "tags": []
          }
        },
        {
          "output_type": "stream",
          "text": [
            "\n"
          ],
          "name": "stdout"
        },
        {
          "output_type": "display_data",
          "data": {
            "image/png": "[encoded data removed]",
            "text/plain": [
              "<Figure size 720x576 with 1 Axes>"
            ]
          },
          "metadata": {
            "tags": [],
            "needs_background": "light"
          }
        }
      ]
    },
    {
      "cell_type": "code",
      "metadata": {
        "colab": {
          "base_uri": "https://localhost:8080/",
          "height": 667
        },
        "id": "Ykn_24uPDJSV",
        "outputId": "567a6a3c-6064-4dee-eeca-1a1c98578e57"
      },
      "source": [
        "printmd('## 2.5. Race vs Income')\n",
        "\n",
        "race = round(pd.crosstab(adult.race, adult.income).div(pd.crosstab(adult.race, adult.income).apply(sum,1),0),2)\n",
        "race.sort_values(by = '>50K', inplace = True)\n",
        "ax = race.plot(kind ='bar', title = 'Proportion distribution across race levels', figsize = (10,8))\n",
        "ax.set_xlabel('Race level')\n",
        "ax.set_ylabel('Proportion of population')\n",
        "\n",
        "print()"
      ],
      "execution_count": null,
      "outputs": [
        {
          "output_type": "display_data",
          "data": {
            "text/markdown": "## 2.5. Race vs Income",
            "text/plain": [
              "<IPython.core.display.Markdown object>"
            ]
          },
          "metadata": {
            "tags": []
          }
        },
        {
          "output_type": "stream",
          "text": [
            "\n"
          ],
          "name": "stdout"
        },
        {
          "output_type": "display_data",
          "data": {
            "image/png": "[encoded data removed]",
            "text/plain": [
              "<Figure size 720x576 with 1 Axes>"
            ]
          },
          "metadata": {
            "tags": [],
            "needs_background": "light"
          }
        }
      ]
    },
    {
      "cell_type": "code",
      "metadata": {
        "colab": {
          "base_uri": "https://localhost:8080/",
          "height": 970
        },
        "id": "zgg2N_foDJSW",
        "outputId": "da85191f-3b4b-4584-983d-3cd79fcb0132"
      },
      "source": [
        "printmd('## 2.6. Native Country')\n",
        "\n",
        "native_country = round(pd.crosstab(adult['native-country'], adult.income).div(pd.crosstab(adult['native-country'], adult.income).apply(sum,1),0),2)\n",
        "native_country.sort_values(by = '>50K', inplace = True)\n",
        "ax = native_country.plot(kind ='bar', title = 'Proportion distribution across Native Country levels', figsize = (20,12))\n",
        "ax.set_xlabel('Native country')\n",
        "ax.set_ylabel('Proportion of population')\n",
        "\n",
        "printmd('I plot a bar graph showing the proportion of income classes across the native country in figure \\\n",
        "        below. From the graph, we notice a trend in positioning of the country. South American country are \\\n",
        "        at the left end of the plot, with low proportion of population that make more than 50k a year. The \\\n",
        "        United States is located somewhat centrally, and at the right are countries from Europe and Asia, \\\n",
        "        with higher proportion of population that make more than 50k a year.')\n"
      ],
      "execution_count": null,
      "outputs": [
        {
          "output_type": "display_data",
          "data": {
            "text/markdown": "## 2.6. Native Country",
            "text/plain": [
              "<IPython.core.display.Markdown object>"
            ]
          },
          "metadata": {
            "tags": []
          }
        },
        {
          "output_type": "display_data",
          "data": {
            "text/markdown": "I plot a bar graph showing the proportion of income classes across the native country in figure         below. From the graph, we notice a trend in positioning of the country. South American country are         at the left end of the plot, with low proportion of population that make more than 50k a year. The         United States is located somewhat centrally, and at the right are countries from Europe and Asia,         with higher proportion of population that make more than 50k a year.",
            "text/plain": [
              "<IPython.core.display.Markdown object>"
            ]
          },
          "metadata": {
            "tags": []
          }
        },
        {
          "output_type": "display_data",
          "data": {
            "image/png": "[encoded data removed]",
            "text/plain": [
              "<Figure size 1440x864 with 1 Axes>"
            ]
          },
          "metadata": {
            "tags": [],
            "needs_background": "light"
          }
        }
      ]
    },
    {
      "cell_type": "code",
      "metadata": {
        "colab": {
          "base_uri": "https://localhost:8080/",
          "height": 839
        },
        "id": "ZVzjJF2jDJSW",
        "outputId": "2e3198ed-0b62-4acb-ac19-4376b8ee151c"
      },
      "source": [
        "printmd('## 2.7. Hours per week vs Income')\n",
        "\n",
        "hours_per_week = round(pd.crosstab(adult['hours-per-week'], adult.income).div(pd.crosstab(adult['hours-per-week'], adult.income).apply(sum,1),0),2)\n",
        "# hours_per_week.sort_values(by = '>50K', inplace = True)\n",
        "ax = hours_per_week.plot(kind ='bar', title = 'Proportion distribution across Hours per week', figsize = (20,12))\n",
        "ax.set_xlabel('Hours per week')\n",
        "ax.set_ylabel('Proportion of population')\n",
        "\n",
        "printmd('I plot a bar graph showing the proportion of income classes across the hours worked. \\\n",
        "        We would expected to notice a trend that higher the hours worked per week, the higher the proportion \\\n",
        "        of population making more than 50k a year. However, this was not necessarily true from the graph. \\\n",
        "        For several hours instance (for example, where hours worked was 77, 79, 81, 82, 87, 88 and so on) \\\n",
        "        no one earned more than 50k a year. ')\n"
      ],
      "execution_count": null,
      "outputs": [
        {
          "output_type": "display_data",
          "data": {
            "text/markdown": "## 2.7. Hours per week vs Income",
            "text/plain": [
              "<IPython.core.display.Markdown object>"
            ]
          },
          "metadata": {
            "tags": []
          }
        },
        {
          "output_type": "display_data",
          "data": {
            "text/markdown": "I plot a bar graph showing the proportion of income classes across the hours worked.         We would expected to notice a trend that higher the hours worked per week, the higher the proportion         of population making more than 50k a year. However, this was not necessarily true from the graph.         For several hours instance (for example, where hours worked was 77, 79, 81, 82, 87, 88 and so on)         no one earned more than 50k a year. ",
            "text/plain": [
              "<IPython.core.display.Markdown object>"
            ]
          },
          "metadata": {
            "tags": []
          }
        },
        {
          "output_type": "display_data",
          "data": {
            "image/png": "[encoded data removed]",
            "text/plain": [
              "<Figure size 1440x864 with 1 Axes>"
            ]
          },
          "metadata": {
            "tags": [],
            "needs_background": "light"
          }
        }
      ]
    },
    {
      "cell_type": "code",
      "metadata": {
        "colab": {
          "base_uri": "https://localhost:8080/",
          "height": 505
        },
        "id": "ugW67eCpDJSX",
        "outputId": "cc9051a8-7722-42d5-f6ae-db04d51fb779"
      },
      "source": [
        "printmd('### 2.7.1 Hours per week with categories')\n",
        "\n",
        "adult['hour_worked_bins'] = ['<40' if i < 40 else '40-60' if i <= 60 else '>60'  for i in adult['hours-per-week']]\n",
        "adult['hour_worked_bins'] = adult['hour_worked_bins'].astype('category')\n",
        "hours_per_week = round(pd.crosstab(adult.hour_worked_bins, adult.income).div(pd.crosstab(adult.hour_worked_bins, adult.income).apply(sum,1),0),2)\n",
        "\n",
        "hours_per_week.sort_values(by = '>50K', inplace = True)\n",
        "ax = hours_per_week.plot(kind ='bar', title = 'Proportion distribution across Hours per week', figsize = (10,6))\n",
        "ax.set_xlabel('Hours per week')\n",
        "ax.set_ylabel('Proportion of population')\n",
        "\n",
        "printmd('Therefore, I decided to transform this column into 3 categories, less than 40 hours, \\\n",
        "        40 to 60 hours and greater than 60 hours. Plotting a bar graph with these 3 categories, \\\n",
        "        we can see from the figure below that there is an increasing trend in the proportion of \\\n",
        "        population making more than 50k a year.')\n"
      ],
      "execution_count": null,
      "outputs": [
        {
          "output_type": "display_data",
          "data": {
            "text/markdown": "### 2.7.1 Hours per week with categories",
            "text/plain": [
              "<IPython.core.display.Markdown object>"
            ]
          },
          "metadata": {
            "tags": []
          }
        },
        {
          "output_type": "display_data",
          "data": {
            "text/markdown": "Therefore, I decided to transform this column into 3 categories, less than 40 hours,         40 to 60 hours and greater than 60 hours. Plotting a bar graph with these 3 categories,         we can see from the figure below that there is an increasing trend in the proportion of         population making more than 50k a year.",
            "text/plain": [
              "<IPython.core.display.Markdown object>"
            ]
          },
          "metadata": {
            "tags": []
          }
        },
        {
          "output_type": "display_data",
          "data": {
            "image/png": "[encoded data removed]",
            "text/plain": [
              "<Figure size 720x432 with 1 Axes>"
            ]
          },
          "metadata": {
            "tags": [],
            "needs_background": "light"
          }
        }
      ]
    },
    {
      "cell_type": "code",
      "metadata": {
        "scrolled": false,
        "colab": {
          "base_uri": "https://localhost:8080/",
          "height": 1000
        },
        "id": "fPNT8c81DJSX",
        "outputId": "222e74a7-c79b-4cf6-a8e8-262dfad865a5"
      },
      "source": [
        "printmd('### 2.7.2 Hours worked across working classes')\n",
        "\n",
        "for i in adult.workclass.unique():\n",
        "    df = adult[adult.workclass == i]\n",
        "\n",
        "    hours_per_week = round(pd.crosstab(df['hours-per-week'], df.income).div(pd.crosstab(df['hours-per-week'], df.income).apply(sum,1),0),2)\n",
        "    # hours_per_week.sort_values(by = '>50K', inplace = True)\n",
        "    ax = hours_per_week.plot(kind ='bar', title = 'Proportion distribution across Hours per week for '+ i, figsize = (20,12))\n",
        "    ax.set_xlabel('Hours per week')\n",
        "    ax.set_ylabel('Proportion of population')\n",
        "\n",
        "    print()"
      ],
      "execution_count": null,
      "outputs": [
        {
          "output_type": "display_data",
          "data": {
            "text/markdown": "### 2.7.2 Hours worked across working classes",
            "text/plain": [
              "<IPython.core.display.Markdown object>"
            ]
          },
          "metadata": {
            "tags": []
          }
        },
        {
          "output_type": "stream",
          "text": [
            "\n",
            "\n",
            "\n",
            "\n",
            "\n",
            "\n",
            "\n",
            "\n"
          ],
          "name": "stdout"
        },
        {
          "output_type": "display_data",
          "data": {
            "image/png": "[encoded data removed]",
            "text/plain": [
              "<Figure size 1440x864 with 1 Axes>"
            ]
          },
          "metadata": {
            "tags": [],
            "needs_background": "light"
          }
        },
        {
          "output_type": "display_data",
          "data": {
            "image/png": "[encoded data removed]",
            "text/plain": [
              "<Figure size 1440x864 with 1 Axes>"
            ]
          },
          "metadata": {
            "tags": [],
            "needs_background": "light"
          }
        },
        {
          "output_type": "display_data",
          "data": {
            "image/png": "[encoded data removed]",
            "text/plain": [
              "<Figure size 1440x864 with 1 Axes>"
            ]
          },
          "metadata": {
            "tags": [],
            "needs_background": "light"
          }
        },
        {
          "output_type": "display_data",
          "data": {
            "image/png": "[encoded data removed]",
            "text/plain": [
              "<Figure size 1440x864 with 1 Axes>"
            ]
          },
          "metadata": {
            "tags": [],
            "needs_background": "light"
          }
        },
        {
          "output_type": "display_data",
          "data": {
            "image/png": "[encoded data removed]",
            "text/plain": [
              "<Figure size 1440x864 with 1 Axes>"
            ]
          },
          "metadata": {
            "tags": [],
            "needs_background": "light"
          }
        },
        {
          "output_type": "display_data",
          "data": {
            "image/png": "[encoded data removed]",
            "text/plain": [
              "<Figure size 1440x864 with 1 Axes>"
            ]
          },
          "metadata": {
            "tags": [],
            "needs_background": "light"
          }
        },
        {
          "output_type": "display_data",
          "data": {
            "image/png": "[encoded data removed]",
            "text/plain": [
              "<Figure size 1440x864 with 1 Axes>"
            ]
          },
          "metadata": {
            "tags": [],
            "needs_background": "light"
          }
        },
        {
          "output_type": "display_data",
          "data": {
            "image/png": "[encoded data removed]",
            "text/plain": [
              "<Figure size 1440x864 with 1 Axes>"
            ]
          },
          "metadata": {
            "tags": [],
            "needs_background": "light"
          }
        }
      ]
    },
    {
      "cell_type": "code",
      "metadata": {
        "id": "0-mvkVGfDJSZ"
      },
      "source": [
        "# plt.rcParams['figure.figsize'] = (5, 4)\n",
        "# #plt.xlim([20,110])\n",
        "# #plt.ylim([20,110])\n",
        "            \n",
        "# pos = adult[adult.income == '>50K']\n",
        "# neg = adult[adult.income != '>50K']\n",
        "\n",
        "\n",
        "# plt.scatter(pos['educational-num'], pos['hours-per-week'], marker='o', c='b')\n",
        "# plt.scatter(neg['educational-num'], neg['hours-per-week'], marker='x', c='r')\n",
        "# plt.xlabel('Exam 1 score')\n",
        "# plt.ylabel('Exam 2 score')\n",
        "# plt.legend(['Not Admitted', 'Admitted'])\n",
        "\n",
        "# plt.show()"
      ],
      "execution_count": null,
      "outputs": []
    },
    {
      "cell_type": "markdown",
      "metadata": {
        "id": "oI8qJQ-7DJSZ"
      },
      "source": [
        "---\n",
        "# 3. Data Transformations"
      ]
    },
    {
      "cell_type": "markdown",
      "metadata": {
        "id": "xUnXABT5DJSa"
      },
      "source": [
        "## 3.1. Feature Selection"
      ]
    },
    {
      "cell_type": "code",
      "metadata": {
        "colab": {
          "base_uri": "https://localhost:8080/",
          "height": 126
        },
        "id": "L2ZzPlkkDJSa",
        "outputId": "4c64c70b-9ab1-49a6-8d89-21b8118bb0dd"
      },
      "source": [
        "# Remove education and fnlwgt\n",
        "#adult.drop(columns = ['education','fnlwgt','hours-per-week'], inplace = True)\n",
        "\n",
        "printmd('* For education level, we have 2 features that convey the same meaning, \\'education\\' \\\n",
        "        and \\'educational-num\\'. To avoid the effect of this attribute on the models to be \\\n",
        "        overstated, I am not going to use the categorical education attribute.')\n",
        "printmd('* I use the categorical Hours work column and drop the \\'hour-per-week\\' column')\n",
        "printmd('* Also, I chose not to use the \\'Fnlwgt\\' attribute that is used by the census, \\\n",
        "        as the inverse of sampling fraction adjusted for non-response and over or under sampling \\\n",
        "        of particular groups. This attribute does not convey individual related meaning.')\n"
      ],
      "execution_count": null,
      "outputs": [
        {
          "output_type": "display_data",
          "data": {
            "text/markdown": "* For education level, we have 2 features that convey the same meaning, 'education'         and 'educational-num'. To avoid the effect of this attribute on the models to be         overstated, I am not going to use the categorical education attribute.",
            "text/plain": [
              "<IPython.core.display.Markdown object>"
            ]
          },
          "metadata": {
            "tags": []
          }
        },
        {
          "output_type": "display_data",
          "data": {
            "text/markdown": "* I use the categorical Hours work column and drop the 'hour-per-week' column",
            "text/plain": [
              "<IPython.core.display.Markdown object>"
            ]
          },
          "metadata": {
            "tags": []
          }
        },
        {
          "output_type": "display_data",
          "data": {
            "text/markdown": "* Also, I chose not to use the 'Fnlwgt' attribute that is used by the census,         as the inverse of sampling fraction adjusted for non-response and over or under sampling         of particular groups. This attribute does not convey individual related meaning.",
            "text/plain": [
              "<IPython.core.display.Markdown object>"
            ]
          },
          "metadata": {
            "tags": []
          }
        }
      ]
    },
    {
      "cell_type": "markdown",
      "metadata": {
        "id": "QAVFBV2oDJSb"
      },
      "source": [
        "## 3.2 Normalization"
      ]
    },
    {
      "cell_type": "code",
      "metadata": {
        "colab": {
          "base_uri": "https://localhost:8080/",
          "height": 554
        },
        "id": "pKk_zyKgDJSc",
        "outputId": "dfb57a3b-43b9-4033-87a4-b865a11e120f"
      },
      "source": [
        "printmd('## Box plot')\n",
        "adult.select_dtypes(exclude = 'category').plot(kind = 'box', figsize = (10,8))"
      ],
      "execution_count": 68,
      "outputs": [
        {
          "output_type": "display_data",
          "data": {
            "text/markdown": "## Box plot",
            "text/plain": [
              "<IPython.core.display.Markdown object>"
            ]
          },
          "metadata": {
            "tags": []
          }
        },
        {
          "output_type": "execute_result",
          "data": {
            "text/plain": [
              "<matplotlib.axes._subplots.AxesSubplot at 0x7fed335f13c8>"
            ]
          },
          "metadata": {
            "tags": []
          },
          "execution_count": 68
        },
        {
          "output_type": "display_data",
          "data": {
            "image/png": "[encoded data removed]",
            "text/plain": [
              "<Figure size 720x576 with 1 Axes>"
            ]
          },
          "metadata": {
            "tags": [],
            "needs_background": "light"
          }
        }
      ]
    },
    {
      "cell_type": "code",
      "metadata": {
        "colab": {
          "base_uri": "https://localhost:8080/",
          "height": 63
        },
        "id": "rBi33wmxDJSc",
        "outputId": "5aefb93e-ed4c-472c-9fb4-da85526eee9e"
      },
      "source": [
        "printmd ('Normalization happens on the training dataset, by removing the mean and \\\n",
        "        scaling to unit variance. These values are stored and then later applied  \\\n",
        "        to the test data before the test data is passed to the model for prediction. ')"
      ],
      "execution_count": null,
      "outputs": [
        {
          "output_type": "display_data",
          "data": {
            "text/markdown": "Normalization happens on the training dataset, by removing the mean and         scaling to unit variance. These values are stored and then later applied          to the test data before the test data is passed to the model for prediction. ",
            "text/plain": [
              "<IPython.core.display.Markdown object>"
            ]
          },
          "metadata": {
            "tags": []
          }
        }
      ]
    },
    {
      "cell_type": "markdown",
      "metadata": {
        "id": "u-SWdS9DDJSd"
      },
      "source": [
        "---\n",
        "# 4. Model Development & Classification "
      ]
    },
    {
      "cell_type": "markdown",
      "metadata": {
        "id": "1rRWbILCDJSd"
      },
      "source": [
        "## 4.1. Data Preparation'\n",
        "\n",
        "One-hot encoding is the process of representing multi-class categorical features as binary features, one for each class. Although this process increases the dimensionality of the dataset, classification algorithms tend to work better on this format of data.\n",
        "\n",
        "I use one-hot encoding to represent all the categorical features in the dataset. \n"
      ]
    },
    {
      "cell_type": "code",
      "metadata": {
        "id": "dIUZPM8UDJSd"
      },
      "source": [
        "# Data Prep\n",
        "adult_data = adult.drop(columns = ['income'])\n",
        "adult_label = adult.income\n",
        "\n",
        "\n",
        "adult_cat_1hot = pd.get_dummies(adult_data.select_dtypes('category'))\n",
        "adult_non_cat = adult_data.select_dtypes(exclude = 'category')\n",
        "\n",
        "adult_data_1hot = pd.concat([adult_non_cat, adult_cat_1hot], axis=1, join='inner')\n"
      ],
      "execution_count": 93,
      "outputs": []
    },
    {
      "cell_type": "code",
      "metadata": {
        "colab": {
          "base_uri": "https://localhost:8080/"
        },
        "id": "Q43Jhvz533zX",
        "outputId": "193c4a09-ea4e-4042-9c5b-6bb6f62d58ee"
      },
      "source": [
        "# dimensionality of encoded dataset\r\n",
        "adult_data_1hot.shape"
      ],
      "execution_count": 94,
      "outputs": [
        {
          "output_type": "execute_result",
          "data": {
            "text/plain": [
              "(48842, 105)"
            ]
          },
          "metadata": {
            "tags": []
          },
          "execution_count": 94
        }
      ]
    },
    {
      "cell_type": "code",
      "metadata": {
        "id": "HAKB2SAtDJSd"
      },
      "source": [
        "# Train - Test split\n",
        "train_data, test_data, train_label, test_label = train_test_split(adult_data_1hot, adult_label, test_size  = 0.25)"
      ],
      "execution_count": 95,
      "outputs": []
    },
    {
      "cell_type": "code",
      "metadata": {
        "colab": {
          "base_uri": "https://localhost:8080/"
        },
        "id": "aE_17PS74VnO",
        "outputId": "8d520d04-0f6a-48ab-eb8f-292400a9f2c8"
      },
      "source": [
        "test_data.shape"
      ],
      "execution_count": 96,
      "outputs": [
        {
          "output_type": "execute_result",
          "data": {
            "text/plain": [
              "(12211, 105)"
            ]
          },
          "metadata": {
            "tags": []
          },
          "execution_count": 96
        }
      ]
    },
    {
      "cell_type": "code",
      "metadata": {
        "id": "TJDiti-yDJSe"
      },
      "source": [
        "# Normalization\n",
        "# from sklearn.preprocessing import StandardScaler  \n",
        "# scaler = StandardScaler()  \n",
        "\n",
        "from sklearn.preprocessing import MinMaxScaler\n",
        "scaler = MinMaxScaler()\n",
        "\n",
        "# scaler = preprocessing.RobustScaler() \n",
        "# train_data = scaler.fit_transform(train_data) \n",
        "\n",
        "\n",
        "# Fitting only on training data\n",
        "scaler.fit(train_data)  \n",
        "train_data = scaler.transform(train_data)  \n",
        "\n",
        "# Applying same transformation to test data\n",
        "test_data = scaler.transform(test_data) "
      ],
      "execution_count": 97,
      "outputs": []
    },
    {
      "cell_type": "code",
      "metadata": {
        "id": "Nj_7SbGLDJSe"
      },
      "source": [
        "def model_eval(actual, pred):\n",
        "    \n",
        "    confusion = pd.crosstab(actual, pred, rownames=['Actual'], colnames=['Predicted'])\n",
        "    TP = confusion.loc['>50K','>50K']\n",
        "    TN = confusion.loc['<=50K','<=50K']\n",
        "    FP = confusion.loc['<=50K','>50K']\n",
        "    FN = confusion.loc['>50K','<=50K']\n",
        "\n",
        "    accuracy = ((TP+TN))/(TP+FN+FP+TN)\n",
        "    precision = (TP)/(TP+FP)\n",
        "    recall = (TP)/(TP+FN)\n",
        "    f_measure = (2*recall*precision)/(recall+precision)\n",
        "    sensitivity = TP / (TP + FN)\n",
        "    specificity = TN / (TN + FP)\n",
        "    error_rate = 1 - accuracy\n",
        "    \n",
        "    out = {}\n",
        "    out['accuracy'] =  accuracy\n",
        "    out['precision'] = precision\n",
        "    out['recall'] = recall\n",
        "    out['f_measure'] = f_measure\n",
        "    out['sensitivity'] = sensitivity\n",
        "    out['specificity'] = specificity\n",
        "    out['error_rate'] = error_rate\n",
        "    \n",
        "    return out\n"
      ],
      "execution_count": 98,
      "outputs": []
    },
    {
      "cell_type": "markdown",
      "metadata": {
        "id": "kF8TfkxsDJSe"
      },
      "source": [
        "## 4.2. Model Development\n",
        "### 4.2.1. Decision Tree\n",
        "\n",
        "For the decision tree classifier, I experimented with the splitting criteria, minimum samples required to split, max depth of the tree, minimum samples required at the leaf level and the maximum features to consider when looking for the best split. The following values of the parameters attained the best accuracy during classification. Results in the table below.\n",
        "\n",
        "*\t**Splitting criteria:** Gini Index (Using Gini Index marginally outperformed Entropy with a higher accuracy.)\n",
        "*\t**Min samples required to split:** 5% (Best amongst 1%, 10% and 5%.)\n",
        "*\t**Max Depth:** None\n",
        "*\t**Min samples required at leaf:**  0.1 % (Best amongst 1%, 5% and 0.1%.)\n",
        "*\t**Max features:** number of features (Performs better than 'auto', 'log2' and 'sqrt'.)\n"
      ]
    },
    {
      "cell_type": "code",
      "metadata": {
        "colab": {
          "base_uri": "https://localhost:8080/",
          "height": 145
        },
        "id": "MP_UTnIIDJSf",
        "outputId": "d101eb77-e5aa-445f-95ec-f18e5a0f295f"
      },
      "source": [
        "#printmd('### 3.1.1. Model Development ')\n",
        "\n",
        "# Gini \n",
        "clf_gini = tree.DecisionTreeClassifier(criterion = 'gini', min_samples_split = 0.05, min_samples_leaf = 0.001, max_features = None)\n",
        "clf_gini = clf_gini.fit(train_data, train_label)\n",
        "clf_gini_pred = clf_gini.predict(test_data)\n",
        "DTree_Gini = model_eval(test_label, clf_gini_pred)\n",
        "print('Desicion Tree using Gini Index : %.2f percent.' % (round(DTree_Gini['accuracy']*100,2)))\n",
        "\n",
        "\n",
        "# Entropy\n",
        "clf_entropy = tree.DecisionTreeClassifier(criterion = 'entropy', min_samples_split = 0.05, min_samples_leaf = 0.001)\n",
        "clf_entropy = clf_entropy.fit(train_data, train_label)\n",
        "clf_entropy_pred = clf_entropy.predict(test_data)\n",
        "DTree_Entropy = model_eval(test_label, clf_entropy_pred)\n",
        "print('Desicion Tree using Entropy : %.2f percent.' % (round(DTree_Entropy['accuracy']*100,2)))\n",
        "\n",
        "\n",
        "#printmd('### 3.1.2. Model Evaulation ')\n",
        "ovl_dtree = round(pd.DataFrame([DTree_Entropy, DTree_Gini], index = ['DTree_Entropy','DTree_Gini']),4)\n",
        "display(ovl_dtree)"
      ],
      "execution_count": 99,
      "outputs": [
        {
          "output_type": "stream",
          "text": [
            "Desicion Tree using Gini Index : 85.73 percent.\n",
            "Desicion Tree using Entropy : 85.69 percent.\n"
          ],
          "name": "stdout"
        },
        {
          "output_type": "display_data",
          "data": {
            "text/html": [
              "<div>\n",
              "<style scoped>\n",
              "    .dataframe tbody tr th:only-of-type {\n",
              "        vertical-align: middle;\n",
              "    }\n",
              "\n",
              "    .dataframe tbody tr th {\n",
              "        vertical-align: top;\n",
              "    }\n",
              "\n",
              "    .dataframe thead th {\n",
              "        text-align: right;\n",
              "    }\n",
              "</style>\n",
              "<table border=\"1\" class=\"dataframe\">\n",
              "  <thead>\n",
              "    <tr style=\"text-align: right;\">\n",
              "      <th></th>\n",
              "      <th>accuracy</th>\n",
              "      <th>precision</th>\n",
              "      <th>recall</th>\n",
              "      <th>f_measure</th>\n",
              "      <th>sensitivity</th>\n",
              "      <th>specificity</th>\n",
              "      <th>error_rate</th>\n",
              "    </tr>\n",
              "  </thead>\n",
              "  <tbody>\n",
              "    <tr>\n",
              "      <th>DTree_Entropy</th>\n",
              "      <td>0.8569</td>\n",
              "      <td>0.7543</td>\n",
              "      <td>0.5791</td>\n",
              "      <td>0.6552</td>\n",
              "      <td>0.5791</td>\n",
              "      <td>0.9421</td>\n",
              "      <td>0.1431</td>\n",
              "    </tr>\n",
              "    <tr>\n",
              "      <th>DTree_Gini</th>\n",
              "      <td>0.8573</td>\n",
              "      <td>0.7551</td>\n",
              "      <td>0.5805</td>\n",
              "      <td>0.6564</td>\n",
              "      <td>0.5805</td>\n",
              "      <td>0.9422</td>\n",
              "      <td>0.1427</td>\n",
              "    </tr>\n",
              "  </tbody>\n",
              "</table>\n",
              "</div>"
            ],
            "text/plain": [
              "               accuracy  precision  ...  specificity  error_rate\n",
              "DTree_Entropy    0.8569     0.7543  ...       0.9421      0.1431\n",
              "DTree_Gini       0.8573     0.7551  ...       0.9422      0.1427\n",
              "\n",
              "[2 rows x 7 columns]"
            ]
          },
          "metadata": {
            "tags": []
          }
        }
      ]
    },
    {
      "cell_type": "code",
      "metadata": {
        "id": "tZbt6oAoDJSf"
      },
      "source": [
        "# Plot tree\n",
        "\n",
        "# from sklearn.tree import export_graphviz\n",
        "# from IPython.display import SVG\n",
        "# from graphviz import Source\n",
        "\n",
        "\n",
        "\n",
        "# graph = Source( tree.export_graphviz(clf, out_file=None, feature_names=train_data.columns))\n",
        "\n",
        "# # Display Tree\n",
        "# SVG(graph.pipe(format='svg'))\n",
        "\n",
        "# # Save Tree as PNG\n",
        "# png_bytes = graph.pipe(format='png')\n",
        "# with open('dtree_pipe.png','wb') as f:\n",
        "#     f.write(png_bytes)"
      ],
      "execution_count": 54,
      "outputs": []
    },
    {
      "cell_type": "markdown",
      "metadata": {
        "id": "ofXArfUEDJSg"
      },
      "source": [
        "### 4.2.2. Artificial Neural Network\n",
        "For the ANN classifier, I experimented with the activation function, the solver for weight optimization, regularization term and learning schedule for weight updates. The following values of the parameters attained the best accuracy during classification. Other parameters were neither applicable to the 'adam' solver nor did it improve the performance of the model. Results in the table below.\n",
        "\n",
        "*\t**Activation:** Logistic (Marginally outperformed 'relu', 'tanh' and 'identity' functions.)\n",
        "*   **Solver:** Adam (Works well on relatively large datasets with thousands of training samples or more)\n",
        "*   **Alpha:** 1e-4 (Best amongst 1, 1e-1, 1e-2, 1e-3, 1e-4 and 1e-5)\n",
        "*   **Learning Rate:**  'invscaling' (Gradually decreases the learning rate at each time step 't' using an inverse scaling exponent of 'power_t'.)\n"
      ]
    },
    {
      "cell_type": "code",
      "metadata": {
        "colab": {
          "base_uri": "https://localhost:8080/",
          "height": 397
        },
        "id": "8SVkggqwDJSg",
        "outputId": "01125280-da7d-489b-986f-2de89dbf75df"
      },
      "source": [
        "# Tan H\n",
        "ann_tanh = MLPClassifier(activation = 'tanh', solver='lbfgs', alpha=1e-1, hidden_layer_sizes=(10, 2), random_state=1, warm_start=True)\n",
        "ann_tanh.fit(train_data, train_label)                         \n",
        "ann_tanh_pred = ann_tanh.predict(test_data)\n",
        "ANN_TanH = model_eval(test_label, ann_tanh_pred)\n",
        "print('ANN using TanH and lbfgs solver : %.2f percent.' % (round(ANN_TanH['accuracy']*100,2)))\n",
        "\n",
        "\n",
        "# Relu\n",
        "ann_relu = MLPClassifier(activation = 'relu', solver='adam', alpha=1e-1, \n",
        "                    hidden_layer_sizes=(5, 2), random_state=1,\n",
        "                    learning_rate  = 'invscaling',\n",
        "                    warm_start = True)\n",
        "ann_relu.fit(train_data, train_label)                         \n",
        "ann_relu_pred = ann_relu.predict(test_data)\n",
        "ANN_relu = model_eval(test_label, ann_relu_pred)\n",
        "print('ANN using relu and adam solver : %.2f percent.' % (round(ANN_relu['accuracy']*100,2)))\n",
        "\n",
        "# Log\n",
        "ann_log = MLPClassifier(activation = 'logistic', solver='adam', \n",
        "                    alpha=1e-4, hidden_layer_sizes=(5, 2),\n",
        "                    learning_rate  = 'invscaling', \n",
        "                    random_state=1, warm_start = True)\n",
        "ann_log.fit(train_data, train_label)                         \n",
        "ann_log_pred = ann_log.predict(test_data)\n",
        "ANN_log = model_eval(test_label, ann_log_pred)\n",
        "print('ANN using logistic and adam solver : %.2f percent.' % (round(ANN_log['accuracy']*100,2)))\n",
        "\n",
        "# Identity\n",
        "ann_identity = MLPClassifier(activation = 'identity', solver='adam', alpha=1e-1, hidden_layer_sizes=(5, 2), random_state=1, warm_start = True)\n",
        "ann_identity.fit(train_data, train_label)                         \n",
        "ann_identity_pred = ann_identity.predict(test_data)\n",
        "ANN_identity = model_eval(test_label, ann_identity_pred)\n",
        "print('ANN using identity and adam solver : %.2f percent.' % (round(ANN_identity['accuracy']*100,2)))\n",
        "\n",
        "#printmd('### 3.2.2. Model Evaulation ')\n",
        "ovl_ann = round(pd.DataFrame([ANN_TanH, ANN_relu, ANN_log, ANN_identity], index = ['ANN_TanH','ANN_relu', 'ANN_log', 'ANN_identity']),4)\n",
        "display(ovl_ann)"
      ],
      "execution_count": 100,
      "outputs": [
        {
          "output_type": "stream",
          "text": [
            "/usr/local/lib/python3.6/dist-packages/sklearn/neural_network/_multilayer_perceptron.py:470: ConvergenceWarning: lbfgs failed to converge (status=1):\n",
            "STOP: TOTAL NO. of ITERATIONS REACHED LIMIT.\n",
            "\n",
            "Increase the number of iterations (max_iter) or scale the data as shown in:\n",
            "    https://scikit-learn.org/stable/modules/preprocessing.html\n",
            "  self.n_iter_ = _check_optimize_result(\"lbfgs\", opt_res, self.max_iter)\n"
          ],
          "name": "stderr"
        },
        {
          "output_type": "stream",
          "text": [
            "ANN using TanH and lbfgs solver : 85.92 percent.\n",
            "ANN using relu and adam solver : 85.69 percent.\n"
          ],
          "name": "stdout"
        },
        {
          "output_type": "stream",
          "text": [
            "/usr/local/lib/python3.6/dist-packages/sklearn/neural_network/_multilayer_perceptron.py:571: ConvergenceWarning: Stochastic Optimizer: Maximum iterations (200) reached and the optimization hasn't converged yet.\n",
            "  % self.max_iter, ConvergenceWarning)\n"
          ],
          "name": "stderr"
        },
        {
          "output_type": "stream",
          "text": [
            "ANN using logistic and adam solver : 85.59 percent.\n",
            "ANN using identity and adam solver : 85.25 percent.\n"
          ],
          "name": "stdout"
        },
        {
          "output_type": "display_data",
          "data": {
            "text/html": [
              "<div>\n",
              "<style scoped>\n",
              "    .dataframe tbody tr th:only-of-type {\n",
              "        vertical-align: middle;\n",
              "    }\n",
              "\n",
              "    .dataframe tbody tr th {\n",
              "        vertical-align: top;\n",
              "    }\n",
              "\n",
              "    .dataframe thead th {\n",
              "        text-align: right;\n",
              "    }\n",
              "</style>\n",
              "<table border=\"1\" class=\"dataframe\">\n",
              "  <thead>\n",
              "    <tr style=\"text-align: right;\">\n",
              "      <th></th>\n",
              "      <th>accuracy</th>\n",
              "      <th>precision</th>\n",
              "      <th>recall</th>\n",
              "      <th>f_measure</th>\n",
              "      <th>sensitivity</th>\n",
              "      <th>specificity</th>\n",
              "      <th>error_rate</th>\n",
              "    </tr>\n",
              "  </thead>\n",
              "  <tbody>\n",
              "    <tr>\n",
              "      <th>ANN_TanH</th>\n",
              "      <td>0.8592</td>\n",
              "      <td>0.7395</td>\n",
              "      <td>0.6185</td>\n",
              "      <td>0.6736</td>\n",
              "      <td>0.6185</td>\n",
              "      <td>0.9331</td>\n",
              "      <td>0.1408</td>\n",
              "    </tr>\n",
              "    <tr>\n",
              "      <th>ANN_relu</th>\n",
              "      <td>0.8569</td>\n",
              "      <td>0.7353</td>\n",
              "      <td>0.6102</td>\n",
              "      <td>0.6669</td>\n",
              "      <td>0.6102</td>\n",
              "      <td>0.9326</td>\n",
              "      <td>0.1431</td>\n",
              "    </tr>\n",
              "    <tr>\n",
              "      <th>ANN_log</th>\n",
              "      <td>0.8559</td>\n",
              "      <td>0.7294</td>\n",
              "      <td>0.6147</td>\n",
              "      <td>0.6672</td>\n",
              "      <td>0.6147</td>\n",
              "      <td>0.9300</td>\n",
              "      <td>0.1441</td>\n",
              "    </tr>\n",
              "    <tr>\n",
              "      <th>ANN_identity</th>\n",
              "      <td>0.8525</td>\n",
              "      <td>0.7571</td>\n",
              "      <td>0.5478</td>\n",
              "      <td>0.6356</td>\n",
              "      <td>0.5478</td>\n",
              "      <td>0.9461</td>\n",
              "      <td>0.1475</td>\n",
              "    </tr>\n",
              "  </tbody>\n",
              "</table>\n",
              "</div>"
            ],
            "text/plain": [
              "              accuracy  precision  recall  ...  sensitivity  specificity  error_rate\n",
              "ANN_TanH        0.8592     0.7395  0.6185  ...       0.6185       0.9331      0.1408\n",
              "ANN_relu        0.8569     0.7353  0.6102  ...       0.6102       0.9326      0.1431\n",
              "ANN_log         0.8559     0.7294  0.6147  ...       0.6147       0.9300      0.1441\n",
              "ANN_identity    0.8525     0.7571  0.5478  ...       0.5478       0.9461      0.1475\n",
              "\n",
              "[4 rows x 7 columns]"
            ]
          },
          "metadata": {
            "tags": []
          }
        }
      ]
    },
    {
      "cell_type": "markdown",
      "metadata": {
        "id": "A7vcOo5zDJSg"
      },
      "source": [
        "### 4.2.3. Support Vector Machine\n",
        "For the SVM classifier, I experimented with the various available kernels, the penalty of the error term and the tolerance for stopping criteria. The following values of the parameters attained the best accuracy during classification. Results in the table below.\n",
        "\n",
        "*\t**Kernel:** rbf (Marginally outperformed 'linear, 'poly' and 'sigmoid' kernels.)\n",
        "*\t**C, penalty of the error term:** 1 (Best amongst 0.1, 0.5, 1 and 10)\n",
        "*\t**Tolerance for stopping criteria:** 1e-3 (Best amongst 1e-1, 1e-2, 1e-3, 1e-4 and 1e-5)\n"
      ]
    },
    {
      "cell_type": "code",
      "metadata": {
        "colab": {
          "base_uri": "https://localhost:8080/",
          "height": 241
        },
        "id": "Qx_vRHygDJSg",
        "outputId": "5401b79f-9bd0-468e-f553-9526c797bd10"
      },
      "source": [
        "# rbf kernal\n",
        "svm_clf_rbf = svm.SVC(kernel = 'rbf', C = 1, tol = 1e-3)\n",
        "svm_clf_rbf.fit(train_data, train_label)\n",
        "svm_clf_rbf_pred = svm_clf_rbf.predict(test_data)\n",
        "SVM_rbf = model_eval(test_label, svm_clf_rbf_pred)\n",
        "print('SVM using rbf kernel : %.2f percent.' % (round(SVM_rbf['accuracy']*100,2)))\n",
        "\n",
        "# Linear kernel\n",
        "svm_clf_linear = svm.SVC(kernel = 'linear')\n",
        "svm_clf_linear.fit(train_data, train_label)\n",
        "svm_clf_linear_pred = svm_clf_linear.predict(test_data)\n",
        "SVM_linear = model_eval(test_label, svm_clf_linear_pred)\n",
        "print('SVM using linear kernel : %.2f percent.' % (round(SVM_linear['accuracy']*100,2)))\n",
        "\n",
        "\n",
        "# Poly kernal\n",
        "svm_clf_poly = svm.SVC(kernel = 'poly')\n",
        "svm_clf_poly.fit(train_data, train_label)\n",
        "svm_clf_poly_pred = svm_clf_poly.predict(test_data)\n",
        "SVM_poly = model_eval(test_label, svm_clf_poly_pred)\n",
        "print('SVM using poly kernel : %.2f percent.' % (round(SVM_poly['accuracy']*100,2)))\n",
        "\n",
        "\n",
        "svm_clf_sigmoid = svm.SVC(kernel = 'sigmoid')\n",
        "svm_clf_sigmoid.fit(train_data, train_label)\n",
        "svm_clf_sigmoid_pred = svm_clf_sigmoid.predict(test_data)\n",
        "SVM_sigmoid = model_eval(test_label, svm_clf_sigmoid_pred)\n",
        "print('SVM using sigmoid kernel : %.2f percent.' % (round(SVM_sigmoid['accuracy']*100,2)))\n",
        "\n",
        "\n",
        "\n",
        "#printmd('### 3.3.2. Model Evaulation ')\n",
        "ovl_svm = round(pd.DataFrame([SVM_rbf, SVM_linear, SVM_poly, SVM_sigmoid], index = ['SVM_rbf','SVM_linear', 'SVM_poly', 'SVM_sigmoid']),4)\n",
        "display(ovl_svm)"
      ],
      "execution_count": 101,
      "outputs": [
        {
          "output_type": "stream",
          "text": [
            "SVM using rbf kernel : 84.31 percent.\n",
            "SVM using linear kernel : 85.25 percent.\n",
            "SVM using poly kernel : 84.55 percent.\n",
            "SVM using sigmoid kernel : 76.79 percent.\n"
          ],
          "name": "stdout"
        },
        {
          "output_type": "display_data",
          "data": {
            "text/html": [
              "<div>\n",
              "<style scoped>\n",
              "    .dataframe tbody tr th:only-of-type {\n",
              "        vertical-align: middle;\n",
              "    }\n",
              "\n",
              "    .dataframe tbody tr th {\n",
              "        vertical-align: top;\n",
              "    }\n",
              "\n",
              "    .dataframe thead th {\n",
              "        text-align: right;\n",
              "    }\n",
              "</style>\n",
              "<table border=\"1\" class=\"dataframe\">\n",
              "  <thead>\n",
              "    <tr style=\"text-align: right;\">\n",
              "      <th></th>\n",
              "      <th>accuracy</th>\n",
              "      <th>precision</th>\n",
              "      <th>recall</th>\n",
              "      <th>f_measure</th>\n",
              "      <th>sensitivity</th>\n",
              "      <th>specificity</th>\n",
              "      <th>error_rate</th>\n",
              "    </tr>\n",
              "  </thead>\n",
              "  <tbody>\n",
              "    <tr>\n",
              "      <th>SVM_rbf</th>\n",
              "      <td>0.8431</td>\n",
              "      <td>0.7194</td>\n",
              "      <td>0.5443</td>\n",
              "      <td>0.6197</td>\n",
              "      <td>0.5443</td>\n",
              "      <td>0.9348</td>\n",
              "      <td>0.1569</td>\n",
              "    </tr>\n",
              "    <tr>\n",
              "      <th>SVM_linear</th>\n",
              "      <td>0.8525</td>\n",
              "      <td>0.7393</td>\n",
              "      <td>0.5746</td>\n",
              "      <td>0.6467</td>\n",
              "      <td>0.5746</td>\n",
              "      <td>0.9378</td>\n",
              "      <td>0.1475</td>\n",
              "    </tr>\n",
              "    <tr>\n",
              "      <th>SVM_poly</th>\n",
              "      <td>0.8455</td>\n",
              "      <td>0.7234</td>\n",
              "      <td>0.5544</td>\n",
              "      <td>0.6277</td>\n",
              "      <td>0.5544</td>\n",
              "      <td>0.9349</td>\n",
              "      <td>0.1545</td>\n",
              "    </tr>\n",
              "    <tr>\n",
              "      <th>SVM_sigmoid</th>\n",
              "      <td>0.7679</td>\n",
              "      <td>0.5060</td>\n",
              "      <td>0.4965</td>\n",
              "      <td>0.5012</td>\n",
              "      <td>0.4965</td>\n",
              "      <td>0.8512</td>\n",
              "      <td>0.2321</td>\n",
              "    </tr>\n",
              "  </tbody>\n",
              "</table>\n",
              "</div>"
            ],
            "text/plain": [
              "             accuracy  precision  recall  ...  sensitivity  specificity  error_rate\n",
              "SVM_rbf        0.8431     0.7194  0.5443  ...       0.5443       0.9348      0.1569\n",
              "SVM_linear     0.8525     0.7393  0.5746  ...       0.5746       0.9378      0.1475\n",
              "SVM_poly       0.8455     0.7234  0.5544  ...       0.5544       0.9349      0.1545\n",
              "SVM_sigmoid    0.7679     0.5060  0.4965  ...       0.4965       0.8512      0.2321\n",
              "\n",
              "[4 rows x 7 columns]"
            ]
          },
          "metadata": {
            "tags": []
          }
        }
      ]
    },
    {
      "cell_type": "markdown",
      "metadata": {
        "id": "i6ZNBAchDJSh"
      },
      "source": [
        "### 4.2.4. Ensemble Models\n",
        "\n",
        "### 4.2.4.1. Random Forest\n",
        "For the random forests classifier, I experimented with the number of trees, splitting criteria, minimum samples required to split, max depth of the tree, minimum samples required at the leaf level and the maximum features to consider when looking for the best split. The following values of the parameters attained the best accuracy during classification. Results in the table below.\n",
        "\n",
        "*\t**Num estimators:** 100 (Best amongst 10, 50 and 100)\n",
        "*\t**Splitting criteria:** Gini Index (Using Gini Index marginally outperformed Entropy with a higher accuracy.)\n",
        "*\t**Min samples required to split:** 5% (Best amongst 1%, 10% and 5%.)\n",
        "*\t**Max Depth:** None\n",
        "*\t**Min samples required at leaf:**  0.1 % (Best amongst 1%, 5% and 0.1%.)\n",
        "*\t**Max features:** number of features (Performs better than 'auto', 'log2' and 'sqrt'.)\n"
      ]
    },
    {
      "cell_type": "code",
      "metadata": {
        "colab": {
          "base_uri": "https://localhost:8080/",
          "height": 145
        },
        "id": "FoHtevUqDJSh",
        "outputId": "47adfea3-c4a8-4112-e140-63655f20ca0f"
      },
      "source": [
        "# Gini\n",
        "r_forest_gini = RandomForestClassifier(n_estimators=100, criterion = 'gini', max_features = None,  min_samples_split = 0.05, min_samples_leaf = 0.001)\n",
        "r_forest_gini.fit(train_data, train_label)\n",
        "r_forest_gini_pred = r_forest_gini.predict(test_data)\n",
        "rforest_gini = model_eval(test_label, r_forest_gini_pred)\n",
        "print('Random Forest using Gini Index : %.2f percent.' % (round(rforest_gini['accuracy']*100,2)))\n",
        "\n",
        "# Entropy\n",
        "r_forest_entropy = RandomForestClassifier(n_estimators=100, criterion = 'entropy', max_features = None,  min_samples_split = 0.05, min_samples_leaf = 0.001)\n",
        "r_forest_entropy.fit(train_data, train_label)\n",
        "r_forest_entropy_pred = r_forest_entropy.predict(test_data)\n",
        "rforest_entropy = model_eval(test_label, r_forest_entropy_pred)\n",
        "print('Random Forest using Entropy : %.2f percent.' % (round(rforest_entropy['accuracy']*100,2)))\n",
        "\n",
        "#printmd('### 3.4.1.2. Model Evaulation ')\n",
        "ovl_rf = round(pd.DataFrame([rforest_gini, rforest_entropy], index = ['rforest_gini','rforest_entropy']),4)\n",
        "display(ovl_rf)"
      ],
      "execution_count": 102,
      "outputs": [
        {
          "output_type": "stream",
          "text": [
            "Random Forest using Gini Index : 85.55 percent.\n",
            "Random Forest using Entropy : 85.67 percent.\n"
          ],
          "name": "stdout"
        },
        {
          "output_type": "display_data",
          "data": {
            "text/html": [
              "<div>\n",
              "<style scoped>\n",
              "    .dataframe tbody tr th:only-of-type {\n",
              "        vertical-align: middle;\n",
              "    }\n",
              "\n",
              "    .dataframe tbody tr th {\n",
              "        vertical-align: top;\n",
              "    }\n",
              "\n",
              "    .dataframe thead th {\n",
              "        text-align: right;\n",
              "    }\n",
              "</style>\n",
              "<table border=\"1\" class=\"dataframe\">\n",
              "  <thead>\n",
              "    <tr style=\"text-align: right;\">\n",
              "      <th></th>\n",
              "      <th>accuracy</th>\n",
              "      <th>precision</th>\n",
              "      <th>recall</th>\n",
              "      <th>f_measure</th>\n",
              "      <th>sensitivity</th>\n",
              "      <th>specificity</th>\n",
              "      <th>error_rate</th>\n",
              "    </tr>\n",
              "  </thead>\n",
              "  <tbody>\n",
              "    <tr>\n",
              "      <th>rforest_gini</th>\n",
              "      <td>0.8555</td>\n",
              "      <td>0.7484</td>\n",
              "      <td>0.5798</td>\n",
              "      <td>0.6534</td>\n",
              "      <td>0.5798</td>\n",
              "      <td>0.9402</td>\n",
              "      <td>0.1445</td>\n",
              "    </tr>\n",
              "    <tr>\n",
              "      <th>rforest_entropy</th>\n",
              "      <td>0.8567</td>\n",
              "      <td>0.7536</td>\n",
              "      <td>0.5791</td>\n",
              "      <td>0.6550</td>\n",
              "      <td>0.5791</td>\n",
              "      <td>0.9419</td>\n",
              "      <td>0.1433</td>\n",
              "    </tr>\n",
              "  </tbody>\n",
              "</table>\n",
              "</div>"
            ],
            "text/plain": [
              "                 accuracy  precision  ...  specificity  error_rate\n",
              "rforest_gini       0.8555     0.7484  ...       0.9402      0.1445\n",
              "rforest_entropy    0.8567     0.7536  ...       0.9419      0.1433\n",
              "\n",
              "[2 rows x 7 columns]"
            ]
          },
          "metadata": {
            "tags": []
          }
        }
      ]
    },
    {
      "cell_type": "markdown",
      "metadata": {
        "id": "LIWXACZBDJSi"
      },
      "source": [
        "### 4.2.4.2. Adaboost\n",
        "For the adaboost classifier, I experimented with base estimator from which the boosted ensemble is built and number of estimators. The following values of the parameters attained the best accuracy during classification. Results in the table below.\n",
        "\n",
        "*\t**Base Estimator:** DecisionTreeClassifier\n",
        "*\t**Num estimators:** 100 (Best amongst 10, 50 and 100.)\n"
      ]
    },
    {
      "cell_type": "code",
      "metadata": {
        "colab": {
          "base_uri": "https://localhost:8080/",
          "height": 97
        },
        "id": "h2qzwITMDJSi",
        "outputId": "94b352d4-2db2-4af6-818f-9454218ae338"
      },
      "source": [
        "ada = AdaBoostClassifier(n_estimators=100)                     \n",
        "ada.fit(train_data, train_label)\n",
        "ada_pred = ada.predict(test_data)\n",
        "adaboost = model_eval(test_label, ada_pred)\n",
        "print('Adaboost : %.2f percent.' % (round(adaboost['accuracy']*100,2)))\n",
        "\n",
        "#printmd('### 3.4.2.2. Model Evaulation ')\n",
        "ovl_ada = round(pd.DataFrame([adaboost], index = ['adaboost']),4)\n",
        "display(ovl_ada)"
      ],
      "execution_count": 103,
      "outputs": [
        {
          "output_type": "stream",
          "text": [
            "Adaboost : 86.42 percent.\n"
          ],
          "name": "stdout"
        },
        {
          "output_type": "display_data",
          "data": {
            "text/html": [
              "<div>\n",
              "<style scoped>\n",
              "    .dataframe tbody tr th:only-of-type {\n",
              "        vertical-align: middle;\n",
              "    }\n",
              "\n",
              "    .dataframe tbody tr th {\n",
              "        vertical-align: top;\n",
              "    }\n",
              "\n",
              "    .dataframe thead th {\n",
              "        text-align: right;\n",
              "    }\n",
              "</style>\n",
              "<table border=\"1\" class=\"dataframe\">\n",
              "  <thead>\n",
              "    <tr style=\"text-align: right;\">\n",
              "      <th></th>\n",
              "      <th>accuracy</th>\n",
              "      <th>precision</th>\n",
              "      <th>recall</th>\n",
              "      <th>f_measure</th>\n",
              "      <th>sensitivity</th>\n",
              "      <th>specificity</th>\n",
              "      <th>error_rate</th>\n",
              "    </tr>\n",
              "  </thead>\n",
              "  <tbody>\n",
              "    <tr>\n",
              "      <th>adaboost</th>\n",
              "      <td>0.8642</td>\n",
              "      <td>0.7594</td>\n",
              "      <td>0.6175</td>\n",
              "      <td>0.6812</td>\n",
              "      <td>0.6175</td>\n",
              "      <td>0.94</td>\n",
              "      <td>0.1358</td>\n",
              "    </tr>\n",
              "  </tbody>\n",
              "</table>\n",
              "</div>"
            ],
            "text/plain": [
              "          accuracy  precision  recall  ...  sensitivity  specificity  error_rate\n",
              "adaboost    0.8642     0.7594  0.6175  ...       0.6175         0.94      0.1358\n",
              "\n",
              "[1 rows x 7 columns]"
            ]
          },
          "metadata": {
            "tags": []
          }
        }
      ]
    },
    {
      "cell_type": "markdown",
      "metadata": {
        "id": "l0Fb2Dh0DJSi"
      },
      "source": [
        "### 4.2.5. Logistic Regression"
      ]
    },
    {
      "cell_type": "code",
      "metadata": {
        "colab": {
          "base_uri": "https://localhost:8080/",
          "height": 97
        },
        "id": "YB1pdj5VDJSi",
        "outputId": "0deb6e1d-c47e-41c6-fc3e-d4d7af39a2b5"
      },
      "source": [
        "log_reg = LogisticRegression(penalty = 'l2', dual = False, tol = 1e-4, fit_intercept = True, \n",
        "                            solver = 'liblinear')\n",
        "log_reg.fit(train_data, train_label)\n",
        "log_reg_pred = log_reg.predict(test_data)\n",
        "logistic_reg = model_eval(test_label, log_reg_pred)\n",
        "print('Logistic Regression : %.2f percent.' % (round(logistic_reg['accuracy']*100,3)))\n",
        "\n",
        "#printmd('### 3.5.2. Model Evaulation ')\n",
        "ovl_logreg = round(pd.DataFrame([logistic_reg], index = ['logistic_reg']),4)\n",
        "display(ovl_logreg)"
      ],
      "execution_count": 104,
      "outputs": [
        {
          "output_type": "stream",
          "text": [
            "Logistic Regression : 85.23 percent.\n"
          ],
          "name": "stdout"
        },
        {
          "output_type": "display_data",
          "data": {
            "text/html": [
              "<div>\n",
              "<style scoped>\n",
              "    .dataframe tbody tr th:only-of-type {\n",
              "        vertical-align: middle;\n",
              "    }\n",
              "\n",
              "    .dataframe tbody tr th {\n",
              "        vertical-align: top;\n",
              "    }\n",
              "\n",
              "    .dataframe thead th {\n",
              "        text-align: right;\n",
              "    }\n",
              "</style>\n",
              "<table border=\"1\" class=\"dataframe\">\n",
              "  <thead>\n",
              "    <tr style=\"text-align: right;\">\n",
              "      <th></th>\n",
              "      <th>accuracy</th>\n",
              "      <th>precision</th>\n",
              "      <th>recall</th>\n",
              "      <th>f_measure</th>\n",
              "      <th>sensitivity</th>\n",
              "      <th>specificity</th>\n",
              "      <th>error_rate</th>\n",
              "    </tr>\n",
              "  </thead>\n",
              "  <tbody>\n",
              "    <tr>\n",
              "      <th>logistic_reg</th>\n",
              "      <td>0.8523</td>\n",
              "      <td>0.7287</td>\n",
              "      <td>0.591</td>\n",
              "      <td>0.6527</td>\n",
              "      <td>0.591</td>\n",
              "      <td>0.9325</td>\n",
              "      <td>0.1477</td>\n",
              "    </tr>\n",
              "  </tbody>\n",
              "</table>\n",
              "</div>"
            ],
            "text/plain": [
              "              accuracy  precision  recall  ...  sensitivity  specificity  error_rate\n",
              "logistic_reg    0.8523     0.7287   0.591  ...        0.591       0.9325      0.1477\n",
              "\n",
              "[1 rows x 7 columns]"
            ]
          },
          "metadata": {
            "tags": []
          }
        }
      ]
    },
    {
      "cell_type": "markdown",
      "metadata": {
        "id": "yFsWSbv8DJSj"
      },
      "source": [
        "### 4.2.6. k Nearest Neighbours\n",
        "For the K nearest neighbours classifier, I experimented with the num of neighbours values, every odd number ranging from 1 to 50."
      ]
    },
    {
      "cell_type": "code",
      "metadata": {
        "colab": {
          "base_uri": "https://localhost:8080/",
          "height": 824
        },
        "id": "PNYVr_jxDJSj",
        "outputId": "353d7407-67f3-4a63-e2cb-f2fd89d06b95"
      },
      "source": [
        "from sklearn.neighbors import KNeighborsClassifier\n",
        "knn_outs = []\n",
        "for i in range(1,50,2):\n",
        "    knn = KNeighborsClassifier(n_neighbors=i)\n",
        "    knn.fit(train_data, train_label) \n",
        "    knn_pred = knn.predict(test_data)\n",
        "    knn_perf = model_eval(test_label, knn_pred)\n",
        "    knn_perf['k'] = i\n",
        "    knn_outs.append(knn_perf)\n",
        "\n",
        "ovl_knn = round(pd.DataFrame(knn_outs),4)\n",
        "display(ovl_knn)"
      ],
      "execution_count": 105,
      "outputs": [
        {
          "output_type": "display_data",
          "data": {
            "text/html": [
              "<div>\n",
              "<style scoped>\n",
              "    .dataframe tbody tr th:only-of-type {\n",
              "        vertical-align: middle;\n",
              "    }\n",
              "\n",
              "    .dataframe tbody tr th {\n",
              "        vertical-align: top;\n",
              "    }\n",
              "\n",
              "    .dataframe thead th {\n",
              "        text-align: right;\n",
              "    }\n",
              "</style>\n",
              "<table border=\"1\" class=\"dataframe\">\n",
              "  <thead>\n",
              "    <tr style=\"text-align: right;\">\n",
              "      <th></th>\n",
              "      <th>accuracy</th>\n",
              "      <th>precision</th>\n",
              "      <th>recall</th>\n",
              "      <th>f_measure</th>\n",
              "      <th>sensitivity</th>\n",
              "      <th>specificity</th>\n",
              "      <th>error_rate</th>\n",
              "      <th>k</th>\n",
              "    </tr>\n",
              "  </thead>\n",
              "  <tbody>\n",
              "    <tr>\n",
              "      <th>0</th>\n",
              "      <td>0.7923</td>\n",
              "      <td>0.5578</td>\n",
              "      <td>0.5582</td>\n",
              "      <td>0.5580</td>\n",
              "      <td>0.5582</td>\n",
              "      <td>0.8642</td>\n",
              "      <td>0.2077</td>\n",
              "      <td>1</td>\n",
              "    </tr>\n",
              "    <tr>\n",
              "      <th>1</th>\n",
              "      <td>0.8182</td>\n",
              "      <td>0.6240</td>\n",
              "      <td>0.5683</td>\n",
              "      <td>0.5949</td>\n",
              "      <td>0.5683</td>\n",
              "      <td>0.8949</td>\n",
              "      <td>0.1818</td>\n",
              "      <td>3</td>\n",
              "    </tr>\n",
              "    <tr>\n",
              "      <th>2</th>\n",
              "      <td>0.8300</td>\n",
              "      <td>0.6579</td>\n",
              "      <td>0.5753</td>\n",
              "      <td>0.6138</td>\n",
              "      <td>0.5753</td>\n",
              "      <td>0.9082</td>\n",
              "      <td>0.1700</td>\n",
              "      <td>5</td>\n",
              "    </tr>\n",
              "    <tr>\n",
              "      <th>3</th>\n",
              "      <td>0.8332</td>\n",
              "      <td>0.6642</td>\n",
              "      <td>0.5861</td>\n",
              "      <td>0.6227</td>\n",
              "      <td>0.5861</td>\n",
              "      <td>0.9090</td>\n",
              "      <td>0.1668</td>\n",
              "      <td>7</td>\n",
              "    </tr>\n",
              "    <tr>\n",
              "      <th>4</th>\n",
              "      <td>0.8361</td>\n",
              "      <td>0.6707</td>\n",
              "      <td>0.5938</td>\n",
              "      <td>0.6299</td>\n",
              "      <td>0.5938</td>\n",
              "      <td>0.9105</td>\n",
              "      <td>0.1639</td>\n",
              "      <td>9</td>\n",
              "    </tr>\n",
              "    <tr>\n",
              "      <th>5</th>\n",
              "      <td>0.8352</td>\n",
              "      <td>0.6685</td>\n",
              "      <td>0.5921</td>\n",
              "      <td>0.6280</td>\n",
              "      <td>0.5921</td>\n",
              "      <td>0.9099</td>\n",
              "      <td>0.1648</td>\n",
              "      <td>11</td>\n",
              "    </tr>\n",
              "    <tr>\n",
              "      <th>6</th>\n",
              "      <td>0.8382</td>\n",
              "      <td>0.6794</td>\n",
              "      <td>0.5889</td>\n",
              "      <td>0.6309</td>\n",
              "      <td>0.5889</td>\n",
              "      <td>0.9147</td>\n",
              "      <td>0.1618</td>\n",
              "      <td>13</td>\n",
              "    </tr>\n",
              "    <tr>\n",
              "      <th>7</th>\n",
              "      <td>0.8381</td>\n",
              "      <td>0.6806</td>\n",
              "      <td>0.5854</td>\n",
              "      <td>0.6294</td>\n",
              "      <td>0.5854</td>\n",
              "      <td>0.9157</td>\n",
              "      <td>0.1619</td>\n",
              "      <td>15</td>\n",
              "    </tr>\n",
              "    <tr>\n",
              "      <th>8</th>\n",
              "      <td>0.8383</td>\n",
              "      <td>0.6817</td>\n",
              "      <td>0.5847</td>\n",
              "      <td>0.6295</td>\n",
              "      <td>0.5847</td>\n",
              "      <td>0.9162</td>\n",
              "      <td>0.1617</td>\n",
              "      <td>17</td>\n",
              "    </tr>\n",
              "    <tr>\n",
              "      <th>9</th>\n",
              "      <td>0.8366</td>\n",
              "      <td>0.6771</td>\n",
              "      <td>0.5819</td>\n",
              "      <td>0.6259</td>\n",
              "      <td>0.5819</td>\n",
              "      <td>0.9148</td>\n",
              "      <td>0.1634</td>\n",
              "      <td>19</td>\n",
              "    </tr>\n",
              "    <tr>\n",
              "      <th>10</th>\n",
              "      <td>0.8387</td>\n",
              "      <td>0.6827</td>\n",
              "      <td>0.5851</td>\n",
              "      <td>0.6301</td>\n",
              "      <td>0.5851</td>\n",
              "      <td>0.9165</td>\n",
              "      <td>0.1613</td>\n",
              "      <td>21</td>\n",
              "    </tr>\n",
              "    <tr>\n",
              "      <th>11</th>\n",
              "      <td>0.8385</td>\n",
              "      <td>0.6818</td>\n",
              "      <td>0.5858</td>\n",
              "      <td>0.6302</td>\n",
              "      <td>0.5858</td>\n",
              "      <td>0.9161</td>\n",
              "      <td>0.1615</td>\n",
              "      <td>23</td>\n",
              "    </tr>\n",
              "    <tr>\n",
              "      <th>12</th>\n",
              "      <td>0.8384</td>\n",
              "      <td>0.6812</td>\n",
              "      <td>0.5865</td>\n",
              "      <td>0.6303</td>\n",
              "      <td>0.5865</td>\n",
              "      <td>0.9158</td>\n",
              "      <td>0.1616</td>\n",
              "      <td>25</td>\n",
              "    </tr>\n",
              "    <tr>\n",
              "      <th>13</th>\n",
              "      <td>0.8384</td>\n",
              "      <td>0.6804</td>\n",
              "      <td>0.5886</td>\n",
              "      <td>0.6311</td>\n",
              "      <td>0.5886</td>\n",
              "      <td>0.9151</td>\n",
              "      <td>0.1616</td>\n",
              "      <td>27</td>\n",
              "    </tr>\n",
              "    <tr>\n",
              "      <th>14</th>\n",
              "      <td>0.8365</td>\n",
              "      <td>0.6755</td>\n",
              "      <td>0.5851</td>\n",
              "      <td>0.6271</td>\n",
              "      <td>0.5851</td>\n",
              "      <td>0.9137</td>\n",
              "      <td>0.1635</td>\n",
              "      <td>29</td>\n",
              "    </tr>\n",
              "    <tr>\n",
              "      <th>15</th>\n",
              "      <td>0.8373</td>\n",
              "      <td>0.6781</td>\n",
              "      <td>0.5847</td>\n",
              "      <td>0.6280</td>\n",
              "      <td>0.5847</td>\n",
              "      <td>0.9148</td>\n",
              "      <td>0.1627</td>\n",
              "      <td>31</td>\n",
              "    </tr>\n",
              "    <tr>\n",
              "      <th>16</th>\n",
              "      <td>0.8383</td>\n",
              "      <td>0.6820</td>\n",
              "      <td>0.5833</td>\n",
              "      <td>0.6288</td>\n",
              "      <td>0.5833</td>\n",
              "      <td>0.9165</td>\n",
              "      <td>0.1617</td>\n",
              "      <td>33</td>\n",
              "    </tr>\n",
              "    <tr>\n",
              "      <th>17</th>\n",
              "      <td>0.8391</td>\n",
              "      <td>0.6847</td>\n",
              "      <td>0.5837</td>\n",
              "      <td>0.6302</td>\n",
              "      <td>0.5837</td>\n",
              "      <td>0.9175</td>\n",
              "      <td>0.1609</td>\n",
              "      <td>35</td>\n",
              "    </tr>\n",
              "    <tr>\n",
              "      <th>18</th>\n",
              "      <td>0.8383</td>\n",
              "      <td>0.6808</td>\n",
              "      <td>0.5861</td>\n",
              "      <td>0.6299</td>\n",
              "      <td>0.5861</td>\n",
              "      <td>0.9157</td>\n",
              "      <td>0.1617</td>\n",
              "      <td>37</td>\n",
              "    </tr>\n",
              "    <tr>\n",
              "      <th>19</th>\n",
              "      <td>0.8375</td>\n",
              "      <td>0.6789</td>\n",
              "      <td>0.5847</td>\n",
              "      <td>0.6283</td>\n",
              "      <td>0.5847</td>\n",
              "      <td>0.9151</td>\n",
              "      <td>0.1625</td>\n",
              "      <td>39</td>\n",
              "    </tr>\n",
              "    <tr>\n",
              "      <th>20</th>\n",
              "      <td>0.8384</td>\n",
              "      <td>0.6814</td>\n",
              "      <td>0.5861</td>\n",
              "      <td>0.6302</td>\n",
              "      <td>0.5861</td>\n",
              "      <td>0.9159</td>\n",
              "      <td>0.1616</td>\n",
              "      <td>41</td>\n",
              "    </tr>\n",
              "    <tr>\n",
              "      <th>21</th>\n",
              "      <td>0.8384</td>\n",
              "      <td>0.6799</td>\n",
              "      <td>0.5896</td>\n",
              "      <td>0.6316</td>\n",
              "      <td>0.5896</td>\n",
              "      <td>0.9148</td>\n",
              "      <td>0.1616</td>\n",
              "      <td>43</td>\n",
              "    </tr>\n",
              "    <tr>\n",
              "      <th>22</th>\n",
              "      <td>0.8385</td>\n",
              "      <td>0.6804</td>\n",
              "      <td>0.5893</td>\n",
              "      <td>0.6315</td>\n",
              "      <td>0.5893</td>\n",
              "      <td>0.9150</td>\n",
              "      <td>0.1615</td>\n",
              "      <td>45</td>\n",
              "    </tr>\n",
              "    <tr>\n",
              "      <th>23</th>\n",
              "      <td>0.8383</td>\n",
              "      <td>0.6801</td>\n",
              "      <td>0.5879</td>\n",
              "      <td>0.6306</td>\n",
              "      <td>0.5879</td>\n",
              "      <td>0.9151</td>\n",
              "      <td>0.1617</td>\n",
              "      <td>47</td>\n",
              "    </tr>\n",
              "    <tr>\n",
              "      <th>24</th>\n",
              "      <td>0.8375</td>\n",
              "      <td>0.6784</td>\n",
              "      <td>0.5861</td>\n",
              "      <td>0.6289</td>\n",
              "      <td>0.5861</td>\n",
              "      <td>0.9147</td>\n",
              "      <td>0.1625</td>\n",
              "      <td>49</td>\n",
              "    </tr>\n",
              "  </tbody>\n",
              "</table>\n",
              "</div>"
            ],
            "text/plain": [
              "    accuracy  precision  recall  ...  specificity  error_rate   k\n",
              "0     0.7923     0.5578  0.5582  ...       0.8642      0.2077   1\n",
              "1     0.8182     0.6240  0.5683  ...       0.8949      0.1818   3\n",
              "2     0.8300     0.6579  0.5753  ...       0.9082      0.1700   5\n",
              "3     0.8332     0.6642  0.5861  ...       0.9090      0.1668   7\n",
              "4     0.8361     0.6707  0.5938  ...       0.9105      0.1639   9\n",
              "5     0.8352     0.6685  0.5921  ...       0.9099      0.1648  11\n",
              "6     0.8382     0.6794  0.5889  ...       0.9147      0.1618  13\n",
              "7     0.8381     0.6806  0.5854  ...       0.9157      0.1619  15\n",
              "8     0.8383     0.6817  0.5847  ...       0.9162      0.1617  17\n",
              "9     0.8366     0.6771  0.5819  ...       0.9148      0.1634  19\n",
              "10    0.8387     0.6827  0.5851  ...       0.9165      0.1613  21\n",
              "11    0.8385     0.6818  0.5858  ...       0.9161      0.1615  23\n",
              "12    0.8384     0.6812  0.5865  ...       0.9158      0.1616  25\n",
              "13    0.8384     0.6804  0.5886  ...       0.9151      0.1616  27\n",
              "14    0.8365     0.6755  0.5851  ...       0.9137      0.1635  29\n",
              "15    0.8373     0.6781  0.5847  ...       0.9148      0.1627  31\n",
              "16    0.8383     0.6820  0.5833  ...       0.9165      0.1617  33\n",
              "17    0.8391     0.6847  0.5837  ...       0.9175      0.1609  35\n",
              "18    0.8383     0.6808  0.5861  ...       0.9157      0.1617  37\n",
              "19    0.8375     0.6789  0.5847  ...       0.9151      0.1625  39\n",
              "20    0.8384     0.6814  0.5861  ...       0.9159      0.1616  41\n",
              "21    0.8384     0.6799  0.5896  ...       0.9148      0.1616  43\n",
              "22    0.8385     0.6804  0.5893  ...       0.9150      0.1615  45\n",
              "23    0.8383     0.6801  0.5879  ...       0.9151      0.1617  47\n",
              "24    0.8375     0.6784  0.5861  ...       0.9147      0.1625  49\n",
              "\n",
              "[25 rows x 8 columns]"
            ]
          },
          "metadata": {
            "tags": []
          }
        }
      ]
    },
    {
      "cell_type": "markdown",
      "metadata": {
        "id": "2GJ0UPl8DJSk"
      },
      "source": [
        "---\n",
        "# 5. Model Evaluation\n",
        "## 5.1. Overall Performance Statistics"
      ]
    },
    {
      "cell_type": "code",
      "metadata": {
        "colab": {
          "base_uri": "https://localhost:8080/",
          "height": 563
        },
        "id": "Kfop5kQkDJSk",
        "outputId": "b839e15d-9638-43fe-8bb3-3f437af8b076"
      },
      "source": [
        "overall_eval = pd.concat([ovl_dtree, ovl_ann, ovl_svm, ovl_rf, ovl_ada, ovl_logreg], axis = 0)\n",
        "overall_eval.sort_values(by = ['f_measure', 'accuracy'], ascending = False, inplace = True)\n",
        "\n",
        "printmd('Combing the performance statistics of all the model developed, as seen in table below, \\\n",
        "        we see that the ensemble model Adaboost hast the highest F-measure (0.6833), precision (0.7812) \\\n",
        "        and accuracy (0.8647). The Artificial neural network models are only marginally being in terms of \\\n",
        "        accuracy and F-measure. Almost all the model have an accuracy greater than 0.84, expect for two SVM \\\n",
        "        models. The table below lists the accuracy, error rate, F-measure, precision, recall, sensitivity and \\\n",
        "        specificity of all the models developed.')\n",
        "\n",
        "display(overall_eval)"
      ],
      "execution_count": 106,
      "outputs": [
        {
          "output_type": "display_data",
          "data": {
            "text/markdown": "Combing the performance statistics of all the model developed, as seen in table below,         we see that the ensemble model Adaboost hast the highest F-measure (0.6833), precision (0.7812)         and accuracy (0.8647). The Artificial neural network models are only marginally being in terms of         accuracy and F-measure. Almost all the model have an accuracy greater than 0.84, expect for two SVM         models. The table below lists the accuracy, error rate, F-measure, precision, recall, sensitivity and         specificity of all the models developed.",
            "text/plain": [
              "<IPython.core.display.Markdown object>"
            ]
          },
          "metadata": {
            "tags": []
          }
        },
        {
          "output_type": "display_data",
          "data": {
            "text/html": [
              "<div>\n",
              "<style scoped>\n",
              "    .dataframe tbody tr th:only-of-type {\n",
              "        vertical-align: middle;\n",
              "    }\n",
              "\n",
              "    .dataframe tbody tr th {\n",
              "        vertical-align: top;\n",
              "    }\n",
              "\n",
              "    .dataframe thead th {\n",
              "        text-align: right;\n",
              "    }\n",
              "</style>\n",
              "<table border=\"1\" class=\"dataframe\">\n",
              "  <thead>\n",
              "    <tr style=\"text-align: right;\">\n",
              "      <th></th>\n",
              "      <th>accuracy</th>\n",
              "      <th>precision</th>\n",
              "      <th>recall</th>\n",
              "      <th>f_measure</th>\n",
              "      <th>sensitivity</th>\n",
              "      <th>specificity</th>\n",
              "      <th>error_rate</th>\n",
              "    </tr>\n",
              "  </thead>\n",
              "  <tbody>\n",
              "    <tr>\n",
              "      <th>adaboost</th>\n",
              "      <td>0.8642</td>\n",
              "      <td>0.7594</td>\n",
              "      <td>0.6175</td>\n",
              "      <td>0.6812</td>\n",
              "      <td>0.6175</td>\n",
              "      <td>0.9400</td>\n",
              "      <td>0.1358</td>\n",
              "    </tr>\n",
              "    <tr>\n",
              "      <th>ANN_TanH</th>\n",
              "      <td>0.8592</td>\n",
              "      <td>0.7395</td>\n",
              "      <td>0.6185</td>\n",
              "      <td>0.6736</td>\n",
              "      <td>0.6185</td>\n",
              "      <td>0.9331</td>\n",
              "      <td>0.1408</td>\n",
              "    </tr>\n",
              "    <tr>\n",
              "      <th>ANN_log</th>\n",
              "      <td>0.8559</td>\n",
              "      <td>0.7294</td>\n",
              "      <td>0.6147</td>\n",
              "      <td>0.6672</td>\n",
              "      <td>0.6147</td>\n",
              "      <td>0.9300</td>\n",
              "      <td>0.1441</td>\n",
              "    </tr>\n",
              "    <tr>\n",
              "      <th>ANN_relu</th>\n",
              "      <td>0.8569</td>\n",
              "      <td>0.7353</td>\n",
              "      <td>0.6102</td>\n",
              "      <td>0.6669</td>\n",
              "      <td>0.6102</td>\n",
              "      <td>0.9326</td>\n",
              "      <td>0.1431</td>\n",
              "    </tr>\n",
              "    <tr>\n",
              "      <th>DTree_Gini</th>\n",
              "      <td>0.8573</td>\n",
              "      <td>0.7551</td>\n",
              "      <td>0.5805</td>\n",
              "      <td>0.6564</td>\n",
              "      <td>0.5805</td>\n",
              "      <td>0.9422</td>\n",
              "      <td>0.1427</td>\n",
              "    </tr>\n",
              "    <tr>\n",
              "      <th>DTree_Entropy</th>\n",
              "      <td>0.8569</td>\n",
              "      <td>0.7543</td>\n",
              "      <td>0.5791</td>\n",
              "      <td>0.6552</td>\n",
              "      <td>0.5791</td>\n",
              "      <td>0.9421</td>\n",
              "      <td>0.1431</td>\n",
              "    </tr>\n",
              "    <tr>\n",
              "      <th>rforest_entropy</th>\n",
              "      <td>0.8567</td>\n",
              "      <td>0.7536</td>\n",
              "      <td>0.5791</td>\n",
              "      <td>0.6550</td>\n",
              "      <td>0.5791</td>\n",
              "      <td>0.9419</td>\n",
              "      <td>0.1433</td>\n",
              "    </tr>\n",
              "    <tr>\n",
              "      <th>rforest_gini</th>\n",
              "      <td>0.8555</td>\n",
              "      <td>0.7484</td>\n",
              "      <td>0.5798</td>\n",
              "      <td>0.6534</td>\n",
              "      <td>0.5798</td>\n",
              "      <td>0.9402</td>\n",
              "      <td>0.1445</td>\n",
              "    </tr>\n",
              "    <tr>\n",
              "      <th>logistic_reg</th>\n",
              "      <td>0.8523</td>\n",
              "      <td>0.7287</td>\n",
              "      <td>0.5910</td>\n",
              "      <td>0.6527</td>\n",
              "      <td>0.5910</td>\n",
              "      <td>0.9325</td>\n",
              "      <td>0.1477</td>\n",
              "    </tr>\n",
              "    <tr>\n",
              "      <th>SVM_linear</th>\n",
              "      <td>0.8525</td>\n",
              "      <td>0.7393</td>\n",
              "      <td>0.5746</td>\n",
              "      <td>0.6467</td>\n",
              "      <td>0.5746</td>\n",
              "      <td>0.9378</td>\n",
              "      <td>0.1475</td>\n",
              "    </tr>\n",
              "    <tr>\n",
              "      <th>ANN_identity</th>\n",
              "      <td>0.8525</td>\n",
              "      <td>0.7571</td>\n",
              "      <td>0.5478</td>\n",
              "      <td>0.6356</td>\n",
              "      <td>0.5478</td>\n",
              "      <td>0.9461</td>\n",
              "      <td>0.1475</td>\n",
              "    </tr>\n",
              "    <tr>\n",
              "      <th>SVM_poly</th>\n",
              "      <td>0.8455</td>\n",
              "      <td>0.7234</td>\n",
              "      <td>0.5544</td>\n",
              "      <td>0.6277</td>\n",
              "      <td>0.5544</td>\n",
              "      <td>0.9349</td>\n",
              "      <td>0.1545</td>\n",
              "    </tr>\n",
              "    <tr>\n",
              "      <th>SVM_rbf</th>\n",
              "      <td>0.8431</td>\n",
              "      <td>0.7194</td>\n",
              "      <td>0.5443</td>\n",
              "      <td>0.6197</td>\n",
              "      <td>0.5443</td>\n",
              "      <td>0.9348</td>\n",
              "      <td>0.1569</td>\n",
              "    </tr>\n",
              "    <tr>\n",
              "      <th>SVM_sigmoid</th>\n",
              "      <td>0.7679</td>\n",
              "      <td>0.5060</td>\n",
              "      <td>0.4965</td>\n",
              "      <td>0.5012</td>\n",
              "      <td>0.4965</td>\n",
              "      <td>0.8512</td>\n",
              "      <td>0.2321</td>\n",
              "    </tr>\n",
              "  </tbody>\n",
              "</table>\n",
              "</div>"
            ],
            "text/plain": [
              "                 accuracy  precision  ...  specificity  error_rate\n",
              "adaboost           0.8642     0.7594  ...       0.9400      0.1358\n",
              "ANN_TanH           0.8592     0.7395  ...       0.9331      0.1408\n",
              "ANN_log            0.8559     0.7294  ...       0.9300      0.1441\n",
              "ANN_relu           0.8569     0.7353  ...       0.9326      0.1431\n",
              "DTree_Gini         0.8573     0.7551  ...       0.9422      0.1427\n",
              "DTree_Entropy      0.8569     0.7543  ...       0.9421      0.1431\n",
              "rforest_entropy    0.8567     0.7536  ...       0.9419      0.1433\n",
              "rforest_gini       0.8555     0.7484  ...       0.9402      0.1445\n",
              "logistic_reg       0.8523     0.7287  ...       0.9325      0.1477\n",
              "SVM_linear         0.8525     0.7393  ...       0.9378      0.1475\n",
              "ANN_identity       0.8525     0.7571  ...       0.9461      0.1475\n",
              "SVM_poly           0.8455     0.7234  ...       0.9349      0.1545\n",
              "SVM_rbf            0.8431     0.7194  ...       0.9348      0.1569\n",
              "SVM_sigmoid        0.7679     0.5060  ...       0.8512      0.2321\n",
              "\n",
              "[14 rows x 7 columns]"
            ]
          },
          "metadata": {
            "tags": []
          }
        }
      ]
    },
    {
      "cell_type": "markdown",
      "metadata": {
        "id": "zqXE60dRDJSk"
      },
      "source": [
        "## 5.2. ROC Curve"
      ]
    },
    {
      "cell_type": "code",
      "metadata": {
        "id": "OG3xA21ODJSk"
      },
      "source": [
        "def generateRoc(test_data, test_label, classifiers, pred_labels, plot_labels, limiter):\n",
        "    \n",
        "    color = ['tab:blue', 'tab:orange', 'tab:green', 'tab:red', 'tab:purple', 'tab:brown', 'tab:pink', 'tab:gray', 'tab:olive', 'tab:cyan']\n",
        "    \n",
        "    y_test = label_binarize(test_label, classes=['<=50K', '>50K'])\n",
        "    plt.figure()\n",
        "    \n",
        "    for i in range(len(classifiers)):\n",
        "        \n",
        "        if plot_labels[i] not in limiter:\n",
        "            continue\n",
        "        \n",
        "        y_score = classifiers[i].predict_proba(test_data)\n",
        "        pos_class_index = list(np.unique(pred_labels[i])).index('>50K')\n",
        "        \n",
        "        fpr, tpr, thres = metrics.roc_curve(y_test.ravel(),y_score[:,pos_class_index], pos_label=1)\n",
        "                               \n",
        "        lw = 2\n",
        "        plt.plot(fpr, tpr, color=color[i % len(color)],lw=lw, label=plot_labels[i])\n",
        "        \n",
        "    plt.plot([0, 1], [0, 1], color='navy', lw=lw, linestyle='--')\n",
        "    plt.xlim([0.0, 1.0])\n",
        "    plt.ylim([0.0, 1.05])\n",
        "    plt.xlabel('False Positive Rate')\n",
        "    plt.ylabel('True Positive Rate')\n",
        "    plt.title('Receiver operating characteristic (ROC)')\n",
        "    plt.legend(loc=\"lower right\")\n",
        "    plt.show()"
      ],
      "execution_count": 109,
      "outputs": []
    },
    {
      "cell_type": "code",
      "metadata": {
        "scrolled": false,
        "colab": {
          "base_uri": "https://localhost:8080/",
          "height": 17
        },
        "id": "AwbdlgDKDJSl",
        "outputId": "363b399d-fd15-4b19-ae09-714a3668faa4"
      },
      "source": [
        "%matplotlib notebook\n",
        "classifier_list = [clf_gini\n",
        "                ,clf_entropy\n",
        "                ,ann_tanh\n",
        "                ,ann_relu\n",
        "                ,ann_log\n",
        "                ,ann_identity\n",
        "#                 ,svm_clf_rbf\n",
        "#                 ,svm_clf_linear\n",
        "#                 ,svm_clf_poly\n",
        "#                 ,svm_clf_sigmoid\n",
        "                ,r_forest_gini\n",
        "                ,r_forest_entropy\n",
        "                ,ada\n",
        "                ,log_reg\n",
        "                ] \n",
        "pred_list = [clf_gini_pred\n",
        "            ,clf_entropy_pred\n",
        "            ,ann_tanh_pred\n",
        "            ,ann_relu_pred\n",
        "            ,ann_log_pred\n",
        "            ,ann_identity_pred\n",
        "#             ,svm_clf_rbf_pred\n",
        "#             ,svm_clf_linear_pred\n",
        "#             ,svm_clf_poly_pred\n",
        "#             ,svm_clf_sigmoid_pred\n",
        "            ,r_forest_gini_pred\n",
        "            ,r_forest_entropy_pred\n",
        "            ,ada_pred\n",
        "            ,log_reg_pred\n",
        "            ]\n",
        "\n",
        "clf_labels = ['DTree Gini'\n",
        "            ,'DTree Entropy'\n",
        "            ,'ANN TanH'\n",
        "            ,'ANN relu'\n",
        "            ,'ANN Logistic'\n",
        "            ,'ANN Identity'\n",
        "#             ,svm_clf_rbf_pred\n",
        "#             ,svm_clf_linear_pred\n",
        "#             ,svm_clf_poly_pred\n",
        "#             ,svm_clf_sigmoid_pred\n",
        "            ,'RForest Gini'\n",
        "            ,'RForest Entropy'\n",
        "            ,'Adaboost'\n",
        "            ,'Logistic Regression'\n",
        "            ]\n",
        "\n",
        "limiter = ['Adaboost', 'ANN TanH', 'ANN relu', 'ANN Logistic', 'Logistic Regression']\n",
        "generateRoc(test_data, test_label, classifier_list, pred_list, clf_labels, limiter)"
      ],
      "execution_count": 112,
      "outputs": [
        {
          "output_type": "display_data",
          "data": {
            "application/javascript": [
              "/* Put everything inside the global mpl namespace */\n",
              "window.mpl = {};\n",
              "\n",
              "\n",
              "mpl.get_websocket_type = function() {\n",
              "    if (typeof(WebSocket) !== 'undefined') {\n",
              "        return WebSocket;\n",
              "    } else if (typeof(MozWebSocket) !== 'undefined') {\n",
              "        return MozWebSocket;\n",
              "    } else {\n",
              "        alert('Your browser does not have WebSocket support. ' +\n",
              "              'Please try Chrome, Safari or Firefox ≥ 6. ' +\n",
              "              'Firefox 4 and 5 are also supported but you ' +\n",
              "              'have to enable WebSockets in about:config.');\n",
              "    };\n",
              "}\n",
              "\n",
              "mpl.figure = function(figure_id, websocket, ondownload, parent_element) {\n",
              "    this.id = figure_id;\n",
              "\n",
              "    this.ws = websocket;\n",
              "\n",
              "    this.supports_binary = (this.ws.binaryType != undefined);\n",
              "\n",
              "    if (!this.supports_binary) {\n",
              "        var warnings = document.getElementById(\"mpl-warnings\");\n",
              "        if (warnings) {\n",
              "            warnings.style.display = 'block';\n",
              "            warnings.textContent = (\n",
              "                \"This browser does not support binary websocket messages. \" +\n",
              "                    \"Performance may be slow.\");\n",
              "        }\n",
              "    }\n",
              "\n",
              "    this.imageObj = new Image();\n",
              "\n",
              "    this.context = undefined;\n",
              "    this.message = undefined;\n",
              "    this.canvas = undefined;\n",
              "    this.rubberband_canvas = undefined;\n",
              "    this.rubberband_context = undefined;\n",
              "    this.format_dropdown = undefined;\n",
              "\n",
              "    this.image_mode = 'full';\n",
              "\n",
              "    this.root = $('<div/>');\n",
              "    this._root_extra_style(this.root)\n",
              "    this.root.attr('style', 'display: inline-block');\n",
              "\n",
              "    $(parent_element).append(this.root);\n",
              "\n",
              "    this._init_header(this);\n",
              "    this._init_canvas(this);\n",
              "    this._init_toolbar(this);\n",
              "\n",
              "    var fig = this;\n",
              "\n",
              "    this.waiting = false;\n",
              "\n",
              "    this.ws.onopen =  function () {\n",
              "            fig.send_message(\"supports_binary\", {value: fig.supports_binary});\n",
              "            fig.send_message(\"send_image_mode\", {});\n",
              "            if (mpl.ratio != 1) {\n",
              "                fig.send_message(\"set_dpi_ratio\", {'dpi_ratio': mpl.ratio});\n",
              "            }\n",
              "            fig.send_message(\"refresh\", {});\n",
              "        }\n",
              "\n",
              "    this.imageObj.onload = function() {\n",
              "            if (fig.image_mode == 'full') {\n",
              "                // Full images could contain transparency (where diff images\n",
              "                // almost always do), so we need to clear the canvas so that\n",
              "                // there is no ghosting.\n",
              "                fig.context.clearRect(0, 0, fig.canvas.width, fig.canvas.height);\n",
              "            }\n",
              "            fig.context.drawImage(fig.imageObj, 0, 0);\n",
              "        };\n",
              "\n",
              "    this.imageObj.onunload = function() {\n",
              "        fig.ws.close();\n",
              "    }\n",
              "\n",
              "    this.ws.onmessage = this._make_on_message_function(this);\n",
              "\n",
              "    this.ondownload = ondownload;\n",
              "}\n",
              "\n",
              "mpl.figure.prototype._init_header = function() {\n",
              "    var titlebar = $(\n",
              "        '<div class=\"ui-dialog-titlebar ui-widget-header ui-corner-all ' +\n",
              "        'ui-helper-clearfix\"/>');\n",
              "    var titletext = $(\n",
              "        '<div class=\"ui-dialog-title\" style=\"width: 100%; ' +\n",
              "        'text-align: center; padding: 3px;\"/>');\n",
              "    titlebar.append(titletext)\n",
              "    this.root.append(titlebar);\n",
              "    this.header = titletext[0];\n",
              "}\n",
              "\n",
              "\n",
              "\n",
              "mpl.figure.prototype._canvas_extra_style = function(canvas_div) {\n",
              "\n",
              "}\n",
              "\n",
              "\n",
              "mpl.figure.prototype._root_extra_style = function(canvas_div) {\n",
              "\n",
              "}\n",
              "\n",
              "mpl.figure.prototype._init_canvas = function() {\n",
              "    var fig = this;\n",
              "\n",
              "    var canvas_div = $('<div/>');\n",
              "\n",
              "    canvas_div.attr('style', 'position: relative; clear: both; outline: 0');\n",
              "\n",
              "    function canvas_keyboard_event(event) {\n",
              "        return fig.key_event(event, event['data']);\n",
              "    }\n",
              "\n",
              "    canvas_div.keydown('key_press', canvas_keyboard_event);\n",
              "    canvas_div.keyup('key_release', canvas_keyboard_event);\n",
              "    this.canvas_div = canvas_div\n",
              "    this._canvas_extra_style(canvas_div)\n",
              "    this.root.append(canvas_div);\n",
              "\n",
              "    var canvas = $('<canvas/>');\n",
              "    canvas.addClass('mpl-canvas');\n",
              "    canvas.attr('style', \"left: 0; top: 0; z-index: 0; outline: 0\")\n",
              "\n",
              "    this.canvas = canvas[0];\n",
              "    this.context = canvas[0].getContext(\"2d\");\n",
              "\n",
              "    var backingStore = this.context.backingStorePixelRatio ||\n",
              "\tthis.context.webkitBackingStorePixelRatio ||\n",
              "\tthis.context.mozBackingStorePixelRatio ||\n",
              "\tthis.context.msBackingStorePixelRatio ||\n",
              "\tthis.context.oBackingStorePixelRatio ||\n",
              "\tthis.context.backingStorePixelRatio || 1;\n",
              "\n",
              "    mpl.ratio = (window.devicePixelRatio || 1) / backingStore;\n",
              "\n",
              "    var rubberband = $('<canvas/>');\n",
              "    rubberband.attr('style', \"position: absolute; left: 0; top: 0; z-index: 1;\")\n",
              "\n",
              "    var pass_mouse_events = true;\n",
              "\n",
              "    canvas_div.resizable({\n",
              "        start: function(event, ui) {\n",
              "            pass_mouse_events = false;\n",
              "        },\n",
              "        resize: function(event, ui) {\n",
              "            fig.request_resize(ui.size.width, ui.size.height);\n",
              "        },\n",
              "        stop: function(event, ui) {\n",
              "            pass_mouse_events = true;\n",
              "            fig.request_resize(ui.size.width, ui.size.height);\n",
              "        },\n",
              "    });\n",
              "\n",
              "    function mouse_event_fn(event) {\n",
              "        if (pass_mouse_events)\n",
              "            return fig.mouse_event(event, event['data']);\n",
              "    }\n",
              "\n",
              "    rubberband.mousedown('button_press', mouse_event_fn);\n",
              "    rubberband.mouseup('button_release', mouse_event_fn);\n",
              "    // Throttle sequential mouse events to 1 every 20ms.\n",
              "    rubberband.mousemove('motion_notify', mouse_event_fn);\n",
              "\n",
              "    rubberband.mouseenter('figure_enter', mouse_event_fn);\n",
              "    rubberband.mouseleave('figure_leave', mouse_event_fn);\n",
              "\n",
              "    canvas_div.on(\"wheel\", function (event) {\n",
              "        event = event.originalEvent;\n",
              "        event['data'] = 'scroll'\n",
              "        if (event.deltaY < 0) {\n",
              "            event.step = 1;\n",
              "        } else {\n",
              "            event.step = -1;\n",
              "        }\n",
              "        mouse_event_fn(event);\n",
              "    });\n",
              "\n",
              "    canvas_div.append(canvas);\n",
              "    canvas_div.append(rubberband);\n",
              "\n",
              "    this.rubberband = rubberband;\n",
              "    this.rubberband_canvas = rubberband[0];\n",
              "    this.rubberband_context = rubberband[0].getContext(\"2d\");\n",
              "    this.rubberband_context.strokeStyle = \"#000000\";\n",
              "\n",
              "    this._resize_canvas = function(width, height) {\n",
              "        // Keep the size of the canvas, canvas container, and rubber band\n",
              "        // canvas in synch.\n",
              "        canvas_div.css('width', width)\n",
              "        canvas_div.css('height', height)\n",
              "\n",
              "        canvas.attr('width', width * mpl.ratio);\n",
              "        canvas.attr('height', height * mpl.ratio);\n",
              "        canvas.attr('style', 'width: ' + width + 'px; height: ' + height + 'px;');\n",
              "\n",
              "        rubberband.attr('width', width);\n",
              "        rubberband.attr('height', height);\n",
              "    }\n",
              "\n",
              "    // Set the figure to an initial 600x600px, this will subsequently be updated\n",
              "    // upon first draw.\n",
              "    this._resize_canvas(600, 600);\n",
              "\n",
              "    // Disable right mouse context menu.\n",
              "    $(this.rubberband_canvas).bind(\"contextmenu\",function(e){\n",
              "        return false;\n",
              "    });\n",
              "\n",
              "    function set_focus () {\n",
              "        canvas.focus();\n",
              "        canvas_div.focus();\n",
              "    }\n",
              "\n",
              "    window.setTimeout(set_focus, 100);\n",
              "}\n",
              "\n",
              "mpl.figure.prototype._init_toolbar = function() {\n",
              "    var fig = this;\n",
              "\n",
              "    var nav_element = $('<div/>');\n",
              "    nav_element.attr('style', 'width: 100%');\n",
              "    this.root.append(nav_element);\n",
              "\n",
              "    // Define a callback function for later on.\n",
              "    function toolbar_event(event) {\n",
              "        return fig.toolbar_button_onclick(event['data']);\n",
              "    }\n",
              "    function toolbar_mouse_event(event) {\n",
              "        return fig.toolbar_button_onmouseover(event['data']);\n",
              "    }\n",
              "\n",
              "    for(var toolbar_ind in mpl.toolbar_items) {\n",
              "        var name = mpl.toolbar_items[toolbar_ind][0];\n",
              "        var tooltip = mpl.toolbar_items[toolbar_ind][1];\n",
              "        var image = mpl.toolbar_items[toolbar_ind][2];\n",
              "        var method_name = mpl.toolbar_items[toolbar_ind][3];\n",
              "\n",
              "        if (!name) {\n",
              "            // put a spacer in here.\n",
              "            continue;\n",
              "        }\n",
              "        var button = $('<button/>');\n",
              "        button.addClass('ui-button ui-widget ui-state-default ui-corner-all ' +\n",
              "                        'ui-button-icon-only');\n",
              "        button.attr('role', 'button');\n",
              "        button.attr('aria-disabled', 'false');\n",
              "        button.click(method_name, toolbar_event);\n",
              "        button.mouseover(tooltip, toolbar_mouse_event);\n",
              "\n",
              "        var icon_img = $('<span/>');\n",
              "        icon_img.addClass('ui-button-icon-primary ui-icon');\n",
              "        icon_img.addClass(image);\n",
              "        icon_img.addClass('ui-corner-all');\n",
              "\n",
              "        var tooltip_span = $('<span/>');\n",
              "        tooltip_span.addClass('ui-button-text');\n",
              "        tooltip_span.html(tooltip);\n",
              "\n",
              "        button.append(icon_img);\n",
              "        button.append(tooltip_span);\n",
              "\n",
              "        nav_element.append(button);\n",
              "    }\n",
              "\n",
              "    var fmt_picker_span = $('<span/>');\n",
              "\n",
              "    var fmt_picker = $('<select/>');\n",
              "    fmt_picker.addClass('mpl-toolbar-option ui-widget ui-widget-content');\n",
              "    fmt_picker_span.append(fmt_picker);\n",
              "    nav_element.append(fmt_picker_span);\n",
              "    this.format_dropdown = fmt_picker[0];\n",
              "\n",
              "    for (var ind in mpl.extensions) {\n",
              "        var fmt = mpl.extensions[ind];\n",
              "        var option = $(\n",
              "            '<option/>', {selected: fmt === mpl.default_extension}).html(fmt);\n",
              "        fmt_picker.append(option);\n",
              "    }\n",
              "\n",
              "    // Add hover states to the ui-buttons\n",
              "    $( \".ui-button\" ).hover(\n",
              "        function() { $(this).addClass(\"ui-state-hover\");},\n",
              "        function() { $(this).removeClass(\"ui-state-hover\");}\n",
              "    );\n",
              "\n",
              "    var status_bar = $('<span class=\"mpl-message\"/>');\n",
              "    nav_element.append(status_bar);\n",
              "    this.message = status_bar[0];\n",
              "}\n",
              "\n",
              "mpl.figure.prototype.request_resize = function(x_pixels, y_pixels) {\n",
              "    // Request matplotlib to resize the figure. Matplotlib will then trigger a resize in the client,\n",
              "    // which will in turn request a refresh of the image.\n",
              "    this.send_message('resize', {'width': x_pixels, 'height': y_pixels});\n",
              "}\n",
              "\n",
              "mpl.figure.prototype.send_message = function(type, properties) {\n",
              "    properties['type'] = type;\n",
              "    properties['figure_id'] = this.id;\n",
              "    this.ws.send(JSON.stringify(properties));\n",
              "}\n",
              "\n",
              "mpl.figure.prototype.send_draw_message = function() {\n",
              "    if (!this.waiting) {\n",
              "        this.waiting = true;\n",
              "        this.ws.send(JSON.stringify({type: \"draw\", figure_id: this.id}));\n",
              "    }\n",
              "}\n",
              "\n",
              "\n",
              "mpl.figure.prototype.handle_save = function(fig, msg) {\n",
              "    var format_dropdown = fig.format_dropdown;\n",
              "    var format = format_dropdown.options[format_dropdown.selectedIndex].value;\n",
              "    fig.ondownload(fig, format);\n",
              "}\n",
              "\n",
              "\n",
              "mpl.figure.prototype.handle_resize = function(fig, msg) {\n",
              "    var size = msg['size'];\n",
              "    if (size[0] != fig.canvas.width || size[1] != fig.canvas.height) {\n",
              "        fig._resize_canvas(size[0], size[1]);\n",
              "        fig.send_message(\"refresh\", {});\n",
              "    };\n",
              "}\n",
              "\n",
              "mpl.figure.prototype.handle_rubberband = function(fig, msg) {\n",
              "    var x0 = msg['x0'] / mpl.ratio;\n",
              "    var y0 = (fig.canvas.height - msg['y0']) / mpl.ratio;\n",
              "    var x1 = msg['x1'] / mpl.ratio;\n",
              "    var y1 = (fig.canvas.height - msg['y1']) / mpl.ratio;\n",
              "    x0 = Math.floor(x0) + 0.5;\n",
              "    y0 = Math.floor(y0) + 0.5;\n",
              "    x1 = Math.floor(x1) + 0.5;\n",
              "    y1 = Math.floor(y1) + 0.5;\n",
              "    var min_x = Math.min(x0, x1);\n",
              "    var min_y = Math.min(y0, y1);\n",
              "    var width = Math.abs(x1 - x0);\n",
              "    var height = Math.abs(y1 - y0);\n",
              "\n",
              "    fig.rubberband_context.clearRect(\n",
              "        0, 0, fig.canvas.width / mpl.ratio, fig.canvas.height / mpl.ratio);\n",
              "\n",
              "    fig.rubberband_context.strokeRect(min_x, min_y, width, height);\n",
              "}\n",
              "\n",
              "mpl.figure.prototype.handle_figure_label = function(fig, msg) {\n",
              "    // Updates the figure title.\n",
              "    fig.header.textContent = msg['label'];\n",
              "}\n",
              "\n",
              "mpl.figure.prototype.handle_cursor = function(fig, msg) {\n",
              "    var cursor = msg['cursor'];\n",
              "    switch(cursor)\n",
              "    {\n",
              "    case 0:\n",
              "        cursor = 'pointer';\n",
              "        break;\n",
              "    case 1:\n",
              "        cursor = 'default';\n",
              "        break;\n",
              "    case 2:\n",
              "        cursor = 'crosshair';\n",
              "        break;\n",
              "    case 3:\n",
              "        cursor = 'move';\n",
              "        break;\n",
              "    }\n",
              "    fig.rubberband_canvas.style.cursor = cursor;\n",
              "}\n",
              "\n",
              "mpl.figure.prototype.handle_message = function(fig, msg) {\n",
              "    fig.message.textContent = msg['message'];\n",
              "}\n",
              "\n",
              "mpl.figure.prototype.handle_draw = function(fig, msg) {\n",
              "    // Request the server to send over a new figure.\n",
              "    fig.send_draw_message();\n",
              "}\n",
              "\n",
              "mpl.figure.prototype.handle_image_mode = function(fig, msg) {\n",
              "    fig.image_mode = msg['mode'];\n",
              "}\n",
              "\n",
              "mpl.figure.prototype.updated_canvas_event = function() {\n",
              "    // Called whenever the canvas gets updated.\n",
              "    this.send_message(\"ack\", {});\n",
              "}\n",
              "\n",
              "// A function to construct a web socket function for onmessage handling.\n",
              "// Called in the figure constructor.\n",
              "mpl.figure.prototype._make_on_message_function = function(fig) {\n",
              "    return function socket_on_message(evt) {\n",
              "        if (evt.data instanceof Blob) {\n",
              "            /* FIXME: We get \"Resource interpreted as Image but\n",
              "             * transferred with MIME type text/plain:\" errors on\n",
              "             * Chrome.  But how to set the MIME type?  It doesn't seem\n",
              "             * to be part of the websocket stream */\n",
              "            evt.data.type = \"image/png\";\n",
              "\n",
              "            /* Free the memory for the previous frames */\n",
              "            if (fig.imageObj.src) {\n",
              "                (window.URL || window.webkitURL).revokeObjectURL(\n",
              "                    fig.imageObj.src);\n",
              "            }\n",
              "\n",
              "            fig.imageObj.src = (window.URL || window.webkitURL).createObjectURL(\n",
              "                evt.data);\n",
              "            fig.updated_canvas_event();\n",
              "            fig.waiting = false;\n",
              "            return;\n",
              "        }\n",
              "        else if (typeof evt.data === 'string' && evt.data.slice(0, 21) == \"data:image/png;base64\") {\n",
              "            fig.imageObj.src = evt.data;\n",
              "            fig.updated_canvas_event();\n",
              "            fig.waiting = false;\n",
              "            return;\n",
              "        }\n",
              "\n",
              "        var msg = JSON.parse(evt.data);\n",
              "        var msg_type = msg['type'];\n",
              "\n",
              "        // Call the  \"handle_{type}\" callback, which takes\n",
              "        // the figure and JSON message as its only arguments.\n",
              "        try {\n",
              "            var callback = fig[\"handle_\" + msg_type];\n",
              "        } catch (e) {\n",
              "            console.log(\"No handler for the '\" + msg_type + \"' message type: \", msg);\n",
              "            return;\n",
              "        }\n",
              "\n",
              "        if (callback) {\n",
              "            try {\n",
              "                // console.log(\"Handling '\" + msg_type + \"' message: \", msg);\n",
              "                callback(fig, msg);\n",
              "            } catch (e) {\n",
              "                console.log(\"Exception inside the 'handler_\" + msg_type + \"' callback:\", e, e.stack, msg);\n",
              "            }\n",
              "        }\n",
              "    };\n",
              "}\n",
              "\n",
              "// from http://stackoverflow.com/questions/1114465/getting-mouse-location-in-canvas\n",
              "mpl.findpos = function(e) {\n",
              "    //this section is from http://www.quirksmode.org/js/events_properties.html\n",
              "    var targ;\n",
              "    if (!e)\n",
              "        e = window.event;\n",
              "    if (e.target)\n",
              "        targ = e.target;\n",
              "    else if (e.srcElement)\n",
              "        targ = e.srcElement;\n",
              "    if (targ.nodeType == 3) // defeat Safari bug\n",
              "        targ = targ.parentNode;\n",
              "\n",
              "    // jQuery normalizes the pageX and pageY\n",
              "    // pageX,Y are the mouse positions relative to the document\n",
              "    // offset() returns the position of the element relative to the document\n",
              "    var x = e.pageX - $(targ).offset().left;\n",
              "    var y = e.pageY - $(targ).offset().top;\n",
              "\n",
              "    return {\"x\": x, \"y\": y};\n",
              "};\n",
              "\n",
              "/*\n",
              " * return a copy of an object with only non-object keys\n",
              " * we need this to avoid circular references\n",
              " * http://stackoverflow.com/a/24161582/3208463\n",
              " */\n",
              "function simpleKeys (original) {\n",
              "  return Object.keys(original).reduce(function (obj, key) {\n",
              "    if (typeof original[key] !== 'object')\n",
              "        obj[key] = original[key]\n",
              "    return obj;\n",
              "  }, {});\n",
              "}\n",
              "\n",
              "mpl.figure.prototype.mouse_event = function(event, name) {\n",
              "    var canvas_pos = mpl.findpos(event)\n",
              "\n",
              "    if (name === 'button_press')\n",
              "    {\n",
              "        this.canvas.focus();\n",
              "        this.canvas_div.focus();\n",
              "    }\n",
              "\n",
              "    var x = canvas_pos.x * mpl.ratio;\n",
              "    var y = canvas_pos.y * mpl.ratio;\n",
              "\n",
              "    this.send_message(name, {x: x, y: y, button: event.button,\n",
              "                             step: event.step,\n",
              "                             guiEvent: simpleKeys(event)});\n",
              "\n",
              "    /* This prevents the web browser from automatically changing to\n",
              "     * the text insertion cursor when the button is pressed.  We want\n",
              "     * to control all of the cursor setting manually through the\n",
              "     * 'cursor' event from matplotlib */\n",
              "    event.preventDefault();\n",
              "    return false;\n",
              "}\n",
              "\n",
              "mpl.figure.prototype._key_event_extra = function(event, name) {\n",
              "    // Handle any extra behaviour associated with a key event\n",
              "}\n",
              "\n",
              "mpl.figure.prototype.key_event = function(event, name) {\n",
              "\n",
              "    // Prevent repeat events\n",
              "    if (name == 'key_press')\n",
              "    {\n",
              "        if (event.which === this._key)\n",
              "            return;\n",
              "        else\n",
              "            this._key = event.which;\n",
              "    }\n",
              "    if (name == 'key_release')\n",
              "        this._key = null;\n",
              "\n",
              "    var value = '';\n",
              "    if (event.ctrlKey && event.which != 17)\n",
              "        value += \"ctrl+\";\n",
              "    if (event.altKey && event.which != 18)\n",
              "        value += \"alt+\";\n",
              "    if (event.shiftKey && event.which != 16)\n",
              "        value += \"shift+\";\n",
              "\n",
              "    value += 'k';\n",
              "    value += event.which.toString();\n",
              "\n",
              "    this._key_event_extra(event, name);\n",
              "\n",
              "    this.send_message(name, {key: value,\n",
              "                             guiEvent: simpleKeys(event)});\n",
              "    return false;\n",
              "}\n",
              "\n",
              "mpl.figure.prototype.toolbar_button_onclick = function(name) {\n",
              "    if (name == 'download') {\n",
              "        this.handle_save(this, null);\n",
              "    } else {\n",
              "        this.send_message(\"toolbar_button\", {name: name});\n",
              "    }\n",
              "};\n",
              "\n",
              "mpl.figure.prototype.toolbar_button_onmouseover = function(tooltip) {\n",
              "    this.message.textContent = tooltip;\n",
              "};\n",
              "mpl.toolbar_items = [[\"Home\", \"Reset original view\", \"fa fa-home icon-home\", \"home\"], [\"Back\", \"Back to previous view\", \"fa fa-arrow-left icon-arrow-left\", \"back\"], [\"Forward\", \"Forward to next view\", \"fa fa-arrow-right icon-arrow-right\", \"forward\"], [\"\", \"\", \"\", \"\"], [\"Pan\", \"Pan axes with left mouse, zoom with right\", \"fa fa-arrows icon-move\", \"pan\"], [\"Zoom\", \"Zoom to rectangle\", \"fa fa-square-o icon-check-empty\", \"zoom\"], [\"\", \"\", \"\", \"\"], [\"Download\", \"Download plot\", \"fa fa-floppy-o icon-save\", \"download\"]];\n",
              "\n",
              "mpl.extensions = [\"eps\", \"jpeg\", \"pdf\", \"png\", \"ps\", \"raw\", \"svg\", \"tif\"];\n",
              "\n",
              "mpl.default_extension = \"png\";var comm_websocket_adapter = function(comm) {\n",
              "    // Create a \"websocket\"-like object which calls the given IPython comm\n",
              "    // object with the appropriate methods. Currently this is a non binary\n",
              "    // socket, so there is still some room for performance tuning.\n",
              "    var ws = {};\n",
              "\n",
              "    ws.close = function() {\n",
              "        comm.close()\n",
              "    };\n",
              "    ws.send = function(m) {\n",
              "        //console.log('sending', m);\n",
              "        comm.send(m);\n",
              "    };\n",
              "    // Register the callback with on_msg.\n",
              "    comm.on_msg(function(msg) {\n",
              "        //console.log('receiving', msg['content']['data'], msg);\n",
              "        // Pass the mpl event to the overridden (by mpl) onmessage function.\n",
              "        ws.onmessage(msg['content']['data'])\n",
              "    });\n",
              "    return ws;\n",
              "}\n",
              "\n",
              "mpl.mpl_figure_comm = function(comm, msg) {\n",
              "    // This is the function which gets called when the mpl process\n",
              "    // starts-up an IPython Comm through the \"matplotlib\" channel.\n",
              "\n",
              "    var id = msg.content.data.id;\n",
              "    // Get hold of the div created by the display call when the Comm\n",
              "    // socket was opened in Python.\n",
              "    var element = $(\"#\" + id);\n",
              "    var ws_proxy = comm_websocket_adapter(comm)\n",
              "\n",
              "    function ondownload(figure, format) {\n",
              "        window.open(figure.imageObj.src);\n",
              "    }\n",
              "\n",
              "    var fig = new mpl.figure(id, ws_proxy,\n",
              "                           ondownload,\n",
              "                           element.get(0));\n",
              "\n",
              "    // Call onopen now - mpl needs it, as it is assuming we've passed it a real\n",
              "    // web socket which is closed, not our websocket->open comm proxy.\n",
              "    ws_proxy.onopen();\n",
              "\n",
              "    fig.parent_element = element.get(0);\n",
              "    fig.cell_info = mpl.find_output_cell(\"<div id='\" + id + \"'></div>\");\n",
              "    if (!fig.cell_info) {\n",
              "        console.error(\"Failed to find cell for figure\", id, fig);\n",
              "        return;\n",
              "    }\n",
              "\n",
              "    var output_index = fig.cell_info[2]\n",
              "    var cell = fig.cell_info[0];\n",
              "\n",
              "};\n",
              "\n",
              "mpl.figure.prototype.handle_close = function(fig, msg) {\n",
              "    var width = fig.canvas.width/mpl.ratio\n",
              "    fig.root.unbind('remove')\n",
              "\n",
              "    // Update the output cell to use the data from the current canvas.\n",
              "    fig.push_to_output();\n",
              "    var dataURL = fig.canvas.toDataURL();\n",
              "    // Re-enable the keyboard manager in IPython - without this line, in FF,\n",
              "    // the notebook keyboard shortcuts fail.\n",
              "    IPython.keyboard_manager.enable()\n",
              "    $(fig.parent_element).html('<img src=\"' + dataURL + '\" width=\"' + width + '\">');\n",
              "    fig.close_ws(fig, msg);\n",
              "}\n",
              "\n",
              "mpl.figure.prototype.close_ws = function(fig, msg){\n",
              "    fig.send_message('closing', msg);\n",
              "    // fig.ws.close()\n",
              "}\n",
              "\n",
              "mpl.figure.prototype.push_to_output = function(remove_interactive) {\n",
              "    // Turn the data on the canvas into data in the output cell.\n",
              "    var width = this.canvas.width/mpl.ratio\n",
              "    var dataURL = this.canvas.toDataURL();\n",
              "    this.cell_info[1]['text/html'] = '<img src=\"' + dataURL + '\" width=\"' + width + '\">';\n",
              "}\n",
              "\n",
              "mpl.figure.prototype.updated_canvas_event = function() {\n",
              "    // Tell IPython that the notebook contents must change.\n",
              "    IPython.notebook.set_dirty(true);\n",
              "    this.send_message(\"ack\", {});\n",
              "    var fig = this;\n",
              "    // Wait a second, then push the new image to the DOM so\n",
              "    // that it is saved nicely (might be nice to debounce this).\n",
              "    setTimeout(function () { fig.push_to_output() }, 1000);\n",
              "}\n",
              "\n",
              "mpl.figure.prototype._init_toolbar = function() {\n",
              "    var fig = this;\n",
              "\n",
              "    var nav_element = $('<div/>');\n",
              "    nav_element.attr('style', 'width: 100%');\n",
              "    this.root.append(nav_element);\n",
              "\n",
              "    // Define a callback function for later on.\n",
              "    function toolbar_event(event) {\n",
              "        return fig.toolbar_button_onclick(event['data']);\n",
              "    }\n",
              "    function toolbar_mouse_event(event) {\n",
              "        return fig.toolbar_button_onmouseover(event['data']);\n",
              "    }\n",
              "\n",
              "    for(var toolbar_ind in mpl.toolbar_items){\n",
              "        var name = mpl.toolbar_items[toolbar_ind][0];\n",
              "        var tooltip = mpl.toolbar_items[toolbar_ind][1];\n",
              "        var image = mpl.toolbar_items[toolbar_ind][2];\n",
              "        var method_name = mpl.toolbar_items[toolbar_ind][3];\n",
              "\n",
              "        if (!name) { continue; };\n",
              "\n",
              "        var button = $('<button class=\"btn btn-default\" href=\"#\" title=\"' + name + '\"><i class=\"fa ' + image + ' fa-lg\"></i></button>');\n",
              "        button.click(method_name, toolbar_event);\n",
              "        button.mouseover(tooltip, toolbar_mouse_event);\n",
              "        nav_element.append(button);\n",
              "    }\n",
              "\n",
              "    // Add the status bar.\n",
              "    var status_bar = $('<span class=\"mpl-message\" style=\"text-align:right; float: right;\"/>');\n",
              "    nav_element.append(status_bar);\n",
              "    this.message = status_bar[0];\n",
              "\n",
              "    // Add the close button to the window.\n",
              "    var buttongrp = $('<div class=\"btn-group inline pull-right\"></div>');\n",
              "    var button = $('<button class=\"btn btn-mini btn-primary\" href=\"#\" title=\"Stop Interaction\"><i class=\"fa fa-power-off icon-remove icon-large\"></i></button>');\n",
              "    button.click(function (evt) { fig.handle_close(fig, {}); } );\n",
              "    button.mouseover('Stop Interaction', toolbar_mouse_event);\n",
              "    buttongrp.append(button);\n",
              "    var titlebar = this.root.find($('.ui-dialog-titlebar'));\n",
              "    titlebar.prepend(buttongrp);\n",
              "}\n",
              "\n",
              "mpl.figure.prototype._root_extra_style = function(el){\n",
              "    var fig = this\n",
              "    el.on(\"remove\", function(){\n",
              "\tfig.close_ws(fig, {});\n",
              "    });\n",
              "}\n",
              "\n",
              "mpl.figure.prototype._canvas_extra_style = function(el){\n",
              "    // this is important to make the div 'focusable\n",
              "    el.attr('tabindex', 0)\n",
              "    // reach out to IPython and tell the keyboard manager to turn it's self\n",
              "    // off when our div gets focus\n",
              "\n",
              "    // location in version 3\n",
              "    if (IPython.notebook.keyboard_manager) {\n",
              "        IPython.notebook.keyboard_manager.register_events(el);\n",
              "    }\n",
              "    else {\n",
              "        // location in version 2\n",
              "        IPython.keyboard_manager.register_events(el);\n",
              "    }\n",
              "\n",
              "}\n",
              "\n",
              "mpl.figure.prototype._key_event_extra = function(event, name) {\n",
              "    var manager = IPython.notebook.keyboard_manager;\n",
              "    if (!manager)\n",
              "        manager = IPython.keyboard_manager;\n",
              "\n",
              "    // Check for shift+enter\n",
              "    if (event.shiftKey && event.which == 13) {\n",
              "        this.canvas_div.blur();\n",
              "        // select the cell after this one\n",
              "        var index = IPython.notebook.find_cell_index(this.cell_info[0]);\n",
              "        IPython.notebook.select(index + 1);\n",
              "    }\n",
              "}\n",
              "\n",
              "mpl.figure.prototype.handle_save = function(fig, msg) {\n",
              "    fig.ondownload(fig, null);\n",
              "}\n",
              "\n",
              "\n",
              "mpl.find_output_cell = function(html_output) {\n",
              "    // Return the cell and output element which can be found *uniquely* in the notebook.\n",
              "    // Note - this is a bit hacky, but it is done because the \"notebook_saving.Notebook\"\n",
              "    // IPython event is triggered only after the cells have been serialised, which for\n",
              "    // our purposes (turning an active figure into a static one), is too late.\n",
              "    var cells = IPython.notebook.get_cells();\n",
              "    var ncells = cells.length;\n",
              "    for (var i=0; i<ncells; i++) {\n",
              "        var cell = cells[i];\n",
              "        if (cell.cell_type === 'code'){\n",
              "            for (var j=0; j<cell.output_area.outputs.length; j++) {\n",
              "                var data = cell.output_area.outputs[j];\n",
              "                if (data.data) {\n",
              "                    // IPython >= 3 moved mimebundle to data attribute of output\n",
              "                    data = data.data;\n",
              "                }\n",
              "                if (data['text/html'] == html_output) {\n",
              "                    return [cell, data, j];\n",
              "                }\n",
              "            }\n",
              "        }\n",
              "    }\n",
              "}\n",
              "\n",
              "// Register the function which deals with the matplotlib target/channel.\n",
              "// The kernel may be null if the page has been refreshed.\n",
              "if (IPython.notebook.kernel != null) {\n",
              "    IPython.notebook.kernel.comm_manager.register_target('matplotlib', mpl.mpl_figure_comm);\n",
              "}\n"
            ],
            "text/plain": [
              "<IPython.core.display.Javascript object>"
            ]
          },
          "metadata": {
            "tags": []
          }
        },
        {
          "output_type": "display_data",
          "data": {
            "text/html": [
              "<div id='49bc1f27-1bec-44f5-b52d-379687432985'></div>"
            ],
            "text/plain": [
              "<IPython.core.display.HTML object>"
            ]
          },
          "metadata": {
            "tags": []
          }
        },
        {
          "output_type": "display_data",
          "data": {
            "application/javascript": [
              "/* Put everything inside the global mpl namespace */\n",
              "window.mpl = {};\n",
              "\n",
              "\n",
              "mpl.get_websocket_type = function() {\n",
              "    if (typeof(WebSocket) !== 'undefined') {\n",
              "        return WebSocket;\n",
              "    } else if (typeof(MozWebSocket) !== 'undefined') {\n",
              "        return MozWebSocket;\n",
              "    } else {\n",
              "        alert('Your browser does not have WebSocket support. ' +\n",
              "              'Please try Chrome, Safari or Firefox ≥ 6. ' +\n",
              "              'Firefox 4 and 5 are also supported but you ' +\n",
              "              'have to enable WebSockets in about:config.');\n",
              "    };\n",
              "}\n",
              "\n",
              "mpl.figure = function(figure_id, websocket, ondownload, parent_element) {\n",
              "    this.id = figure_id;\n",
              "\n",
              "    this.ws = websocket;\n",
              "\n",
              "    this.supports_binary = (this.ws.binaryType != undefined);\n",
              "\n",
              "    if (!this.supports_binary) {\n",
              "        var warnings = document.getElementById(\"mpl-warnings\");\n",
              "        if (warnings) {\n",
              "            warnings.style.display = 'block';\n",
              "            warnings.textContent = (\n",
              "                \"This browser does not support binary websocket messages. \" +\n",
              "                    \"Performance may be slow.\");\n",
              "        }\n",
              "    }\n",
              "\n",
              "    this.imageObj = new Image();\n",
              "\n",
              "    this.context = undefined;\n",
              "    this.message = undefined;\n",
              "    this.canvas = undefined;\n",
              "    this.rubberband_canvas = undefined;\n",
              "    this.rubberband_context = undefined;\n",
              "    this.format_dropdown = undefined;\n",
              "\n",
              "    this.image_mode = 'full';\n",
              "\n",
              "    this.root = $('<div/>');\n",
              "    this._root_extra_style(this.root)\n",
              "    this.root.attr('style', 'display: inline-block');\n",
              "\n",
              "    $(parent_element).append(this.root);\n",
              "\n",
              "    this._init_header(this);\n",
              "    this._init_canvas(this);\n",
              "    this._init_toolbar(this);\n",
              "\n",
              "    var fig = this;\n",
              "\n",
              "    this.waiting = false;\n",
              "\n",
              "    this.ws.onopen =  function () {\n",
              "            fig.send_message(\"supports_binary\", {value: fig.supports_binary});\n",
              "            fig.send_message(\"send_image_mode\", {});\n",
              "            if (mpl.ratio != 1) {\n",
              "                fig.send_message(\"set_dpi_ratio\", {'dpi_ratio': mpl.ratio});\n",
              "            }\n",
              "            fig.send_message(\"refresh\", {});\n",
              "        }\n",
              "\n",
              "    this.imageObj.onload = function() {\n",
              "            if (fig.image_mode == 'full') {\n",
              "                // Full images could contain transparency (where diff images\n",
              "                // almost always do), so we need to clear the canvas so that\n",
              "                // there is no ghosting.\n",
              "                fig.context.clearRect(0, 0, fig.canvas.width, fig.canvas.height);\n",
              "            }\n",
              "            fig.context.drawImage(fig.imageObj, 0, 0);\n",
              "        };\n",
              "\n",
              "    this.imageObj.onunload = function() {\n",
              "        fig.ws.close();\n",
              "    }\n",
              "\n",
              "    this.ws.onmessage = this._make_on_message_function(this);\n",
              "\n",
              "    this.ondownload = ondownload;\n",
              "}\n",
              "\n",
              "mpl.figure.prototype._init_header = function() {\n",
              "    var titlebar = $(\n",
              "        '<div class=\"ui-dialog-titlebar ui-widget-header ui-corner-all ' +\n",
              "        'ui-helper-clearfix\"/>');\n",
              "    var titletext = $(\n",
              "        '<div class=\"ui-dialog-title\" style=\"width: 100%; ' +\n",
              "        'text-align: center; padding: 3px;\"/>');\n",
              "    titlebar.append(titletext)\n",
              "    this.root.append(titlebar);\n",
              "    this.header = titletext[0];\n",
              "}\n",
              "\n",
              "\n",
              "\n",
              "mpl.figure.prototype._canvas_extra_style = function(canvas_div) {\n",
              "\n",
              "}\n",
              "\n",
              "\n",
              "mpl.figure.prototype._root_extra_style = function(canvas_div) {\n",
              "\n",
              "}\n",
              "\n",
              "mpl.figure.prototype._init_canvas = function() {\n",
              "    var fig = this;\n",
              "\n",
              "    var canvas_div = $('<div/>');\n",
              "\n",
              "    canvas_div.attr('style', 'position: relative; clear: both; outline: 0');\n",
              "\n",
              "    function canvas_keyboard_event(event) {\n",
              "        return fig.key_event(event, event['data']);\n",
              "    }\n",
              "\n",
              "    canvas_div.keydown('key_press', canvas_keyboard_event);\n",
              "    canvas_div.keyup('key_release', canvas_keyboard_event);\n",
              "    this.canvas_div = canvas_div\n",
              "    this._canvas_extra_style(canvas_div)\n",
              "    this.root.append(canvas_div);\n",
              "\n",
              "    var canvas = $('<canvas/>');\n",
              "    canvas.addClass('mpl-canvas');\n",
              "    canvas.attr('style', \"left: 0; top: 0; z-index: 0; outline: 0\")\n",
              "\n",
              "    this.canvas = canvas[0];\n",
              "    this.context = canvas[0].getContext(\"2d\");\n",
              "\n",
              "    var backingStore = this.context.backingStorePixelRatio ||\n",
              "\tthis.context.webkitBackingStorePixelRatio ||\n",
              "\tthis.context.mozBackingStorePixelRatio ||\n",
              "\tthis.context.msBackingStorePixelRatio ||\n",
              "\tthis.context.oBackingStorePixelRatio ||\n",
              "\tthis.context.backingStorePixelRatio || 1;\n",
              "\n",
              "    mpl.ratio = (window.devicePixelRatio || 1) / backingStore;\n",
              "\n",
              "    var rubberband = $('<canvas/>');\n",
              "    rubberband.attr('style', \"position: absolute; left: 0; top: 0; z-index: 1;\")\n",
              "\n",
              "    var pass_mouse_events = true;\n",
              "\n",
              "    canvas_div.resizable({\n",
              "        start: function(event, ui) {\n",
              "            pass_mouse_events = false;\n",
              "        },\n",
              "        resize: function(event, ui) {\n",
              "            fig.request_resize(ui.size.width, ui.size.height);\n",
              "        },\n",
              "        stop: function(event, ui) {\n",
              "            pass_mouse_events = true;\n",
              "            fig.request_resize(ui.size.width, ui.size.height);\n",
              "        },\n",
              "    });\n",
              "\n",
              "    function mouse_event_fn(event) {\n",
              "        if (pass_mouse_events)\n",
              "            return fig.mouse_event(event, event['data']);\n",
              "    }\n",
              "\n",
              "    rubberband.mousedown('button_press', mouse_event_fn);\n",
              "    rubberband.mouseup('button_release', mouse_event_fn);\n",
              "    // Throttle sequential mouse events to 1 every 20ms.\n",
              "    rubberband.mousemove('motion_notify', mouse_event_fn);\n",
              "\n",
              "    rubberband.mouseenter('figure_enter', mouse_event_fn);\n",
              "    rubberband.mouseleave('figure_leave', mouse_event_fn);\n",
              "\n",
              "    canvas_div.on(\"wheel\", function (event) {\n",
              "        event = event.originalEvent;\n",
              "        event['data'] = 'scroll'\n",
              "        if (event.deltaY < 0) {\n",
              "            event.step = 1;\n",
              "        } else {\n",
              "            event.step = -1;\n",
              "        }\n",
              "        mouse_event_fn(event);\n",
              "    });\n",
              "\n",
              "    canvas_div.append(canvas);\n",
              "    canvas_div.append(rubberband);\n",
              "\n",
              "    this.rubberband = rubberband;\n",
              "    this.rubberband_canvas = rubberband[0];\n",
              "    this.rubberband_context = rubberband[0].getContext(\"2d\");\n",
              "    this.rubberband_context.strokeStyle = \"#000000\";\n",
              "\n",
              "    this._resize_canvas = function(width, height) {\n",
              "        // Keep the size of the canvas, canvas container, and rubber band\n",
              "        // canvas in synch.\n",
              "        canvas_div.css('width', width)\n",
              "        canvas_div.css('height', height)\n",
              "\n",
              "        canvas.attr('width', width * mpl.ratio);\n",
              "        canvas.attr('height', height * mpl.ratio);\n",
              "        canvas.attr('style', 'width: ' + width + 'px; height: ' + height + 'px;');\n",
              "\n",
              "        rubberband.attr('width', width);\n",
              "        rubberband.attr('height', height);\n",
              "    }\n",
              "\n",
              "    // Set the figure to an initial 600x600px, this will subsequently be updated\n",
              "    // upon first draw.\n",
              "    this._resize_canvas(600, 600);\n",
              "\n",
              "    // Disable right mouse context menu.\n",
              "    $(this.rubberband_canvas).bind(\"contextmenu\",function(e){\n",
              "        return false;\n",
              "    });\n",
              "\n",
              "    function set_focus () {\n",
              "        canvas.focus();\n",
              "        canvas_div.focus();\n",
              "    }\n",
              "\n",
              "    window.setTimeout(set_focus, 100);\n",
              "}\n",
              "\n",
              "mpl.figure.prototype._init_toolbar = function() {\n",
              "    var fig = this;\n",
              "\n",
              "    var nav_element = $('<div/>');\n",
              "    nav_element.attr('style', 'width: 100%');\n",
              "    this.root.append(nav_element);\n",
              "\n",
              "    // Define a callback function for later on.\n",
              "    function toolbar_event(event) {\n",
              "        return fig.toolbar_button_onclick(event['data']);\n",
              "    }\n",
              "    function toolbar_mouse_event(event) {\n",
              "        return fig.toolbar_button_onmouseover(event['data']);\n",
              "    }\n",
              "\n",
              "    for(var toolbar_ind in mpl.toolbar_items) {\n",
              "        var name = mpl.toolbar_items[toolbar_ind][0];\n",
              "        var tooltip = mpl.toolbar_items[toolbar_ind][1];\n",
              "        var image = mpl.toolbar_items[toolbar_ind][2];\n",
              "        var method_name = mpl.toolbar_items[toolbar_ind][3];\n",
              "\n",
              "        if (!name) {\n",
              "            // put a spacer in here.\n",
              "            continue;\n",
              "        }\n",
              "        var button = $('<button/>');\n",
              "        button.addClass('ui-button ui-widget ui-state-default ui-corner-all ' +\n",
              "                        'ui-button-icon-only');\n",
              "        button.attr('role', 'button');\n",
              "        button.attr('aria-disabled', 'false');\n",
              "        button.click(method_name, toolbar_event);\n",
              "        button.mouseover(tooltip, toolbar_mouse_event);\n",
              "\n",
              "        var icon_img = $('<span/>');\n",
              "        icon_img.addClass('ui-button-icon-primary ui-icon');\n",
              "        icon_img.addClass(image);\n",
              "        icon_img.addClass('ui-corner-all');\n",
              "\n",
              "        var tooltip_span = $('<span/>');\n",
              "        tooltip_span.addClass('ui-button-text');\n",
              "        tooltip_span.html(tooltip);\n",
              "\n",
              "        button.append(icon_img);\n",
              "        button.append(tooltip_span);\n",
              "\n",
              "        nav_element.append(button);\n",
              "    }\n",
              "\n",
              "    var fmt_picker_span = $('<span/>');\n",
              "\n",
              "    var fmt_picker = $('<select/>');\n",
              "    fmt_picker.addClass('mpl-toolbar-option ui-widget ui-widget-content');\n",
              "    fmt_picker_span.append(fmt_picker);\n",
              "    nav_element.append(fmt_picker_span);\n",
              "    this.format_dropdown = fmt_picker[0];\n",
              "\n",
              "    for (var ind in mpl.extensions) {\n",
              "        var fmt = mpl.extensions[ind];\n",
              "        var option = $(\n",
              "            '<option/>', {selected: fmt === mpl.default_extension}).html(fmt);\n",
              "        fmt_picker.append(option);\n",
              "    }\n",
              "\n",
              "    // Add hover states to the ui-buttons\n",
              "    $( \".ui-button\" ).hover(\n",
              "        function() { $(this).addClass(\"ui-state-hover\");},\n",
              "        function() { $(this).removeClass(\"ui-state-hover\");}\n",
              "    );\n",
              "\n",
              "    var status_bar = $('<span class=\"mpl-message\"/>');\n",
              "    nav_element.append(status_bar);\n",
              "    this.message = status_bar[0];\n",
              "}\n",
              "\n",
              "mpl.figure.prototype.request_resize = function(x_pixels, y_pixels) {\n",
              "    // Request matplotlib to resize the figure. Matplotlib will then trigger a resize in the client,\n",
              "    // which will in turn request a refresh of the image.\n",
              "    this.send_message('resize', {'width': x_pixels, 'height': y_pixels});\n",
              "}\n",
              "\n",
              "mpl.figure.prototype.send_message = function(type, properties) {\n",
              "    properties['type'] = type;\n",
              "    properties['figure_id'] = this.id;\n",
              "    this.ws.send(JSON.stringify(properties));\n",
              "}\n",
              "\n",
              "mpl.figure.prototype.send_draw_message = function() {\n",
              "    if (!this.waiting) {\n",
              "        this.waiting = true;\n",
              "        this.ws.send(JSON.stringify({type: \"draw\", figure_id: this.id}));\n",
              "    }\n",
              "}\n",
              "\n",
              "\n",
              "mpl.figure.prototype.handle_save = function(fig, msg) {\n",
              "    var format_dropdown = fig.format_dropdown;\n",
              "    var format = format_dropdown.options[format_dropdown.selectedIndex].value;\n",
              "    fig.ondownload(fig, format);\n",
              "}\n",
              "\n",
              "\n",
              "mpl.figure.prototype.handle_resize = function(fig, msg) {\n",
              "    var size = msg['size'];\n",
              "    if (size[0] != fig.canvas.width || size[1] != fig.canvas.height) {\n",
              "        fig._resize_canvas(size[0], size[1]);\n",
              "        fig.send_message(\"refresh\", {});\n",
              "    };\n",
              "}\n",
              "\n",
              "mpl.figure.prototype.handle_rubberband = function(fig, msg) {\n",
              "    var x0 = msg['x0'] / mpl.ratio;\n",
              "    var y0 = (fig.canvas.height - msg['y0']) / mpl.ratio;\n",
              "    var x1 = msg['x1'] / mpl.ratio;\n",
              "    var y1 = (fig.canvas.height - msg['y1']) / mpl.ratio;\n",
              "    x0 = Math.floor(x0) + 0.5;\n",
              "    y0 = Math.floor(y0) + 0.5;\n",
              "    x1 = Math.floor(x1) + 0.5;\n",
              "    y1 = Math.floor(y1) + 0.5;\n",
              "    var min_x = Math.min(x0, x1);\n",
              "    var min_y = Math.min(y0, y1);\n",
              "    var width = Math.abs(x1 - x0);\n",
              "    var height = Math.abs(y1 - y0);\n",
              "\n",
              "    fig.rubberband_context.clearRect(\n",
              "        0, 0, fig.canvas.width / mpl.ratio, fig.canvas.height / mpl.ratio);\n",
              "\n",
              "    fig.rubberband_context.strokeRect(min_x, min_y, width, height);\n",
              "}\n",
              "\n",
              "mpl.figure.prototype.handle_figure_label = function(fig, msg) {\n",
              "    // Updates the figure title.\n",
              "    fig.header.textContent = msg['label'];\n",
              "}\n",
              "\n",
              "mpl.figure.prototype.handle_cursor = function(fig, msg) {\n",
              "    var cursor = msg['cursor'];\n",
              "    switch(cursor)\n",
              "    {\n",
              "    case 0:\n",
              "        cursor = 'pointer';\n",
              "        break;\n",
              "    case 1:\n",
              "        cursor = 'default';\n",
              "        break;\n",
              "    case 2:\n",
              "        cursor = 'crosshair';\n",
              "        break;\n",
              "    case 3:\n",
              "        cursor = 'move';\n",
              "        break;\n",
              "    }\n",
              "    fig.rubberband_canvas.style.cursor = cursor;\n",
              "}\n",
              "\n",
              "mpl.figure.prototype.handle_message = function(fig, msg) {\n",
              "    fig.message.textContent = msg['message'];\n",
              "}\n",
              "\n",
              "mpl.figure.prototype.handle_draw = function(fig, msg) {\n",
              "    // Request the server to send over a new figure.\n",
              "    fig.send_draw_message();\n",
              "}\n",
              "\n",
              "mpl.figure.prototype.handle_image_mode = function(fig, msg) {\n",
              "    fig.image_mode = msg['mode'];\n",
              "}\n",
              "\n",
              "mpl.figure.prototype.updated_canvas_event = function() {\n",
              "    // Called whenever the canvas gets updated.\n",
              "    this.send_message(\"ack\", {});\n",
              "}\n",
              "\n",
              "// A function to construct a web socket function for onmessage handling.\n",
              "// Called in the figure constructor.\n",
              "mpl.figure.prototype._make_on_message_function = function(fig) {\n",
              "    return function socket_on_message(evt) {\n",
              "        if (evt.data instanceof Blob) {\n",
              "            /* FIXME: We get \"Resource interpreted as Image but\n",
              "             * transferred with MIME type text/plain:\" errors on\n",
              "             * Chrome.  But how to set the MIME type?  It doesn't seem\n",
              "             * to be part of the websocket stream */\n",
              "            evt.data.type = \"image/png\";\n",
              "\n",
              "            /* Free the memory for the previous frames */\n",
              "            if (fig.imageObj.src) {\n",
              "                (window.URL || window.webkitURL).revokeObjectURL(\n",
              "                    fig.imageObj.src);\n",
              "            }\n",
              "\n",
              "            fig.imageObj.src = (window.URL || window.webkitURL).createObjectURL(\n",
              "                evt.data);\n",
              "            fig.updated_canvas_event();\n",
              "            fig.waiting = false;\n",
              "            return;\n",
              "        }\n",
              "        else if (typeof evt.data === 'string' && evt.data.slice(0, 21) == \"data:image/png;base64\") {\n",
              "            fig.imageObj.src = evt.data;\n",
              "            fig.updated_canvas_event();\n",
              "            fig.waiting = false;\n",
              "            return;\n",
              "        }\n",
              "\n",
              "        var msg = JSON.parse(evt.data);\n",
              "        var msg_type = msg['type'];\n",
              "\n",
              "        // Call the  \"handle_{type}\" callback, which takes\n",
              "        // the figure and JSON message as its only arguments.\n",
              "        try {\n",
              "            var callback = fig[\"handle_\" + msg_type];\n",
              "        } catch (e) {\n",
              "            console.log(\"No handler for the '\" + msg_type + \"' message type: \", msg);\n",
              "            return;\n",
              "        }\n",
              "\n",
              "        if (callback) {\n",
              "            try {\n",
              "                // console.log(\"Handling '\" + msg_type + \"' message: \", msg);\n",
              "                callback(fig, msg);\n",
              "            } catch (e) {\n",
              "                console.log(\"Exception inside the 'handler_\" + msg_type + \"' callback:\", e, e.stack, msg);\n",
              "            }\n",
              "        }\n",
              "    };\n",
              "}\n",
              "\n",
              "// from http://stackoverflow.com/questions/1114465/getting-mouse-location-in-canvas\n",
              "mpl.findpos = function(e) {\n",
              "    //this section is from http://www.quirksmode.org/js/events_properties.html\n",
              "    var targ;\n",
              "    if (!e)\n",
              "        e = window.event;\n",
              "    if (e.target)\n",
              "        targ = e.target;\n",
              "    else if (e.srcElement)\n",
              "        targ = e.srcElement;\n",
              "    if (targ.nodeType == 3) // defeat Safari bug\n",
              "        targ = targ.parentNode;\n",
              "\n",
              "    // jQuery normalizes the pageX and pageY\n",
              "    // pageX,Y are the mouse positions relative to the document\n",
              "    // offset() returns the position of the element relative to the document\n",
              "    var x = e.pageX - $(targ).offset().left;\n",
              "    var y = e.pageY - $(targ).offset().top;\n",
              "\n",
              "    return {\"x\": x, \"y\": y};\n",
              "};\n",
              "\n",
              "/*\n",
              " * return a copy of an object with only non-object keys\n",
              " * we need this to avoid circular references\n",
              " * http://stackoverflow.com/a/24161582/3208463\n",
              " */\n",
              "function simpleKeys (original) {\n",
              "  return Object.keys(original).reduce(function (obj, key) {\n",
              "    if (typeof original[key] !== 'object')\n",
              "        obj[key] = original[key]\n",
              "    return obj;\n",
              "  }, {});\n",
              "}\n",
              "\n",
              "mpl.figure.prototype.mouse_event = function(event, name) {\n",
              "    var canvas_pos = mpl.findpos(event)\n",
              "\n",
              "    if (name === 'button_press')\n",
              "    {\n",
              "        this.canvas.focus();\n",
              "        this.canvas_div.focus();\n",
              "    }\n",
              "\n",
              "    var x = canvas_pos.x * mpl.ratio;\n",
              "    var y = canvas_pos.y * mpl.ratio;\n",
              "\n",
              "    this.send_message(name, {x: x, y: y, button: event.button,\n",
              "                             step: event.step,\n",
              "                             guiEvent: simpleKeys(event)});\n",
              "\n",
              "    /* This prevents the web browser from automatically changing to\n",
              "     * the text insertion cursor when the button is pressed.  We want\n",
              "     * to control all of the cursor setting manually through the\n",
              "     * 'cursor' event from matplotlib */\n",
              "    event.preventDefault();\n",
              "    return false;\n",
              "}\n",
              "\n",
              "mpl.figure.prototype._key_event_extra = function(event, name) {\n",
              "    // Handle any extra behaviour associated with a key event\n",
              "}\n",
              "\n",
              "mpl.figure.prototype.key_event = function(event, name) {\n",
              "\n",
              "    // Prevent repeat events\n",
              "    if (name == 'key_press')\n",
              "    {\n",
              "        if (event.which === this._key)\n",
              "            return;\n",
              "        else\n",
              "            this._key = event.which;\n",
              "    }\n",
              "    if (name == 'key_release')\n",
              "        this._key = null;\n",
              "\n",
              "    var value = '';\n",
              "    if (event.ctrlKey && event.which != 17)\n",
              "        value += \"ctrl+\";\n",
              "    if (event.altKey && event.which != 18)\n",
              "        value += \"alt+\";\n",
              "    if (event.shiftKey && event.which != 16)\n",
              "        value += \"shift+\";\n",
              "\n",
              "    value += 'k';\n",
              "    value += event.which.toString();\n",
              "\n",
              "    this._key_event_extra(event, name);\n",
              "\n",
              "    this.send_message(name, {key: value,\n",
              "                             guiEvent: simpleKeys(event)});\n",
              "    return false;\n",
              "}\n",
              "\n",
              "mpl.figure.prototype.toolbar_button_onclick = function(name) {\n",
              "    if (name == 'download') {\n",
              "        this.handle_save(this, null);\n",
              "    } else {\n",
              "        this.send_message(\"toolbar_button\", {name: name});\n",
              "    }\n",
              "};\n",
              "\n",
              "mpl.figure.prototype.toolbar_button_onmouseover = function(tooltip) {\n",
              "    this.message.textContent = tooltip;\n",
              "};\n",
              "mpl.toolbar_items = [[\"Home\", \"Reset original view\", \"fa fa-home icon-home\", \"home\"], [\"Back\", \"Back to previous view\", \"fa fa-arrow-left icon-arrow-left\", \"back\"], [\"Forward\", \"Forward to next view\", \"fa fa-arrow-right icon-arrow-right\", \"forward\"], [\"\", \"\", \"\", \"\"], [\"Pan\", \"Pan axes with left mouse, zoom with right\", \"fa fa-arrows icon-move\", \"pan\"], [\"Zoom\", \"Zoom to rectangle\", \"fa fa-square-o icon-check-empty\", \"zoom\"], [\"\", \"\", \"\", \"\"], [\"Download\", \"Download plot\", \"fa fa-floppy-o icon-save\", \"download\"]];\n",
              "\n",
              "mpl.extensions = [\"eps\", \"jpeg\", \"pdf\", \"png\", \"ps\", \"raw\", \"svg\", \"tif\"];\n",
              "\n",
              "mpl.default_extension = \"png\";var comm_websocket_adapter = function(comm) {\n",
              "    // Create a \"websocket\"-like object which calls the given IPython comm\n",
              "    // object with the appropriate methods. Currently this is a non binary\n",
              "    // socket, so there is still some room for performance tuning.\n",
              "    var ws = {};\n",
              "\n",
              "    ws.close = function() {\n",
              "        comm.close()\n",
              "    };\n",
              "    ws.send = function(m) {\n",
              "        //console.log('sending', m);\n",
              "        comm.send(m);\n",
              "    };\n",
              "    // Register the callback with on_msg.\n",
              "    comm.on_msg(function(msg) {\n",
              "        //console.log('receiving', msg['content']['data'], msg);\n",
              "        // Pass the mpl event to the overridden (by mpl) onmessage function.\n",
              "        ws.onmessage(msg['content']['data'])\n",
              "    });\n",
              "    return ws;\n",
              "}\n",
              "\n",
              "mpl.mpl_figure_comm = function(comm, msg) {\n",
              "    // This is the function which gets called when the mpl process\n",
              "    // starts-up an IPython Comm through the \"matplotlib\" channel.\n",
              "\n",
              "    var id = msg.content.data.id;\n",
              "    // Get hold of the div created by the display call when the Comm\n",
              "    // socket was opened in Python.\n",
              "    var element = $(\"#\" + id);\n",
              "    var ws_proxy = comm_websocket_adapter(comm)\n",
              "\n",
              "    function ondownload(figure, format) {\n",
              "        window.open(figure.imageObj.src);\n",
              "    }\n",
              "\n",
              "    var fig = new mpl.figure(id, ws_proxy,\n",
              "                           ondownload,\n",
              "                           element.get(0));\n",
              "\n",
              "    // Call onopen now - mpl needs it, as it is assuming we've passed it a real\n",
              "    // web socket which is closed, not our websocket->open comm proxy.\n",
              "    ws_proxy.onopen();\n",
              "\n",
              "    fig.parent_element = element.get(0);\n",
              "    fig.cell_info = mpl.find_output_cell(\"<div id='\" + id + \"'></div>\");\n",
              "    if (!fig.cell_info) {\n",
              "        console.error(\"Failed to find cell for figure\", id, fig);\n",
              "        return;\n",
              "    }\n",
              "\n",
              "    var output_index = fig.cell_info[2]\n",
              "    var cell = fig.cell_info[0];\n",
              "\n",
              "};\n",
              "\n",
              "mpl.figure.prototype.handle_close = function(fig, msg) {\n",
              "    var width = fig.canvas.width/mpl.ratio\n",
              "    fig.root.unbind('remove')\n",
              "\n",
              "    // Update the output cell to use the data from the current canvas.\n",
              "    fig.push_to_output();\n",
              "    var dataURL = fig.canvas.toDataURL();\n",
              "    // Re-enable the keyboard manager in IPython - without this line, in FF,\n",
              "    // the notebook keyboard shortcuts fail.\n",
              "    IPython.keyboard_manager.enable()\n",
              "    $(fig.parent_element).html('<img src=\"' + dataURL + '\" width=\"' + width + '\">');\n",
              "    fig.close_ws(fig, msg);\n",
              "}\n",
              "\n",
              "mpl.figure.prototype.close_ws = function(fig, msg){\n",
              "    fig.send_message('closing', msg);\n",
              "    // fig.ws.close()\n",
              "}\n",
              "\n",
              "mpl.figure.prototype.push_to_output = function(remove_interactive) {\n",
              "    // Turn the data on the canvas into data in the output cell.\n",
              "    var width = this.canvas.width/mpl.ratio\n",
              "    var dataURL = this.canvas.toDataURL();\n",
              "    this.cell_info[1]['text/html'] = '<img src=\"' + dataURL + '\" width=\"' + width + '\">';\n",
              "}\n",
              "\n",
              "mpl.figure.prototype.updated_canvas_event = function() {\n",
              "    // Tell IPython that the notebook contents must change.\n",
              "    IPython.notebook.set_dirty(true);\n",
              "    this.send_message(\"ack\", {});\n",
              "    var fig = this;\n",
              "    // Wait a second, then push the new image to the DOM so\n",
              "    // that it is saved nicely (might be nice to debounce this).\n",
              "    setTimeout(function () { fig.push_to_output() }, 1000);\n",
              "}\n",
              "\n",
              "mpl.figure.prototype._init_toolbar = function() {\n",
              "    var fig = this;\n",
              "\n",
              "    var nav_element = $('<div/>');\n",
              "    nav_element.attr('style', 'width: 100%');\n",
              "    this.root.append(nav_element);\n",
              "\n",
              "    // Define a callback function for later on.\n",
              "    function toolbar_event(event) {\n",
              "        return fig.toolbar_button_onclick(event['data']);\n",
              "    }\n",
              "    function toolbar_mouse_event(event) {\n",
              "        return fig.toolbar_button_onmouseover(event['data']);\n",
              "    }\n",
              "\n",
              "    for(var toolbar_ind in mpl.toolbar_items){\n",
              "        var name = mpl.toolbar_items[toolbar_ind][0];\n",
              "        var tooltip = mpl.toolbar_items[toolbar_ind][1];\n",
              "        var image = mpl.toolbar_items[toolbar_ind][2];\n",
              "        var method_name = mpl.toolbar_items[toolbar_ind][3];\n",
              "\n",
              "        if (!name) { continue; };\n",
              "\n",
              "        var button = $('<button class=\"btn btn-default\" href=\"#\" title=\"' + name + '\"><i class=\"fa ' + image + ' fa-lg\"></i></button>');\n",
              "        button.click(method_name, toolbar_event);\n",
              "        button.mouseover(tooltip, toolbar_mouse_event);\n",
              "        nav_element.append(button);\n",
              "    }\n",
              "\n",
              "    // Add the status bar.\n",
              "    var status_bar = $('<span class=\"mpl-message\" style=\"text-align:right; float: right;\"/>');\n",
              "    nav_element.append(status_bar);\n",
              "    this.message = status_bar[0];\n",
              "\n",
              "    // Add the close button to the window.\n",
              "    var buttongrp = $('<div class=\"btn-group inline pull-right\"></div>');\n",
              "    var button = $('<button class=\"btn btn-mini btn-primary\" href=\"#\" title=\"Stop Interaction\"><i class=\"fa fa-power-off icon-remove icon-large\"></i></button>');\n",
              "    button.click(function (evt) { fig.handle_close(fig, {}); } );\n",
              "    button.mouseover('Stop Interaction', toolbar_mouse_event);\n",
              "    buttongrp.append(button);\n",
              "    var titlebar = this.root.find($('.ui-dialog-titlebar'));\n",
              "    titlebar.prepend(buttongrp);\n",
              "}\n",
              "\n",
              "mpl.figure.prototype._root_extra_style = function(el){\n",
              "    var fig = this\n",
              "    el.on(\"remove\", function(){\n",
              "\tfig.close_ws(fig, {});\n",
              "    });\n",
              "}\n",
              "\n",
              "mpl.figure.prototype._canvas_extra_style = function(el){\n",
              "    // this is important to make the div 'focusable\n",
              "    el.attr('tabindex', 0)\n",
              "    // reach out to IPython and tell the keyboard manager to turn it's self\n",
              "    // off when our div gets focus\n",
              "\n",
              "    // location in version 3\n",
              "    if (IPython.notebook.keyboard_manager) {\n",
              "        IPython.notebook.keyboard_manager.register_events(el);\n",
              "    }\n",
              "    else {\n",
              "        // location in version 2\n",
              "        IPython.keyboard_manager.register_events(el);\n",
              "    }\n",
              "\n",
              "}\n",
              "\n",
              "mpl.figure.prototype._key_event_extra = function(event, name) {\n",
              "    var manager = IPython.notebook.keyboard_manager;\n",
              "    if (!manager)\n",
              "        manager = IPython.keyboard_manager;\n",
              "\n",
              "    // Check for shift+enter\n",
              "    if (event.shiftKey && event.which == 13) {\n",
              "        this.canvas_div.blur();\n",
              "        // select the cell after this one\n",
              "        var index = IPython.notebook.find_cell_index(this.cell_info[0]);\n",
              "        IPython.notebook.select(index + 1);\n",
              "    }\n",
              "}\n",
              "\n",
              "mpl.figure.prototype.handle_save = function(fig, msg) {\n",
              "    fig.ondownload(fig, null);\n",
              "}\n",
              "\n",
              "\n",
              "mpl.find_output_cell = function(html_output) {\n",
              "    // Return the cell and output element which can be found *uniquely* in the notebook.\n",
              "    // Note - this is a bit hacky, but it is done because the \"notebook_saving.Notebook\"\n",
              "    // IPython event is triggered only after the cells have been serialised, which for\n",
              "    // our purposes (turning an active figure into a static one), is too late.\n",
              "    var cells = IPython.notebook.get_cells();\n",
              "    var ncells = cells.length;\n",
              "    for (var i=0; i<ncells; i++) {\n",
              "        var cell = cells[i];\n",
              "        if (cell.cell_type === 'code'){\n",
              "            for (var j=0; j<cell.output_area.outputs.length; j++) {\n",
              "                var data = cell.output_area.outputs[j];\n",
              "                if (data.data) {\n",
              "                    // IPython >= 3 moved mimebundle to data attribute of output\n",
              "                    data = data.data;\n",
              "                }\n",
              "                if (data['text/html'] == html_output) {\n",
              "                    return [cell, data, j];\n",
              "                }\n",
              "            }\n",
              "        }\n",
              "    }\n",
              "}\n",
              "\n",
              "// Register the function which deals with the matplotlib target/channel.\n",
              "// The kernel may be null if the page has been refreshed.\n",
              "if (IPython.notebook.kernel != null) {\n",
              "    IPython.notebook.kernel.comm_manager.register_target('matplotlib', mpl.mpl_figure_comm);\n",
              "}\n"
            ],
            "text/plain": [
              "<IPython.core.display.Javascript object>"
            ]
          },
          "metadata": {
            "tags": []
          }
        },
        {
          "output_type": "display_data",
          "data": {
            "text/html": [
              "<div id='819d4331-cb3b-49aa-9fa7-e34ac69d1e6b'></div>"
            ],
            "text/plain": [
              "<IPython.core.display.HTML object>"
            ]
          },
          "metadata": {
            "tags": []
          }
        }
      ]
    },
    {
      "cell_type": "markdown",
      "metadata": {
        "id": "b_ZK_WBoDJSl"
      },
      "source": [
        "The plot above of the receiver operating characteristic curve for the top 5 models; Adaboost, ANN with logistics activation function, ANN with relu activation function, ANN with tanH activation function and logistic regression model. I chose to plot only the top 5 models as the ROC curves of most of the models overlap and the it is not easy to interpret the curve. \n",
        "\n",
        "From figure, we can see that the ROC curve of the Adaboost model has the highest lift and is closest to the top left corner (TPR of 1 and FPR of 0) of the plot. The Adaboost model's curve clearly separates itself from the ROC curves of the other 4 models, which overlap with each other. "
      ]
    },
    {
      "cell_type": "markdown",
      "metadata": {
        "id": "guG84JWVDJSm"
      },
      "source": [
        "---\n",
        "# 5. Conclusion"
      ]
    },
    {
      "cell_type": "markdown",
      "metadata": {
        "id": "l3MRaeD0DJSm"
      },
      "source": [
        "I choose **Adaboost** model as my preferred approach. The Adaboost model not only has the **highest accuracy**, but also has the **highest precision and F-measure** of all the models developed as a part of this analysis. The advantages of using Adaboost over other models is that, it is very simple to implement. Since they are made up of weak individual learners, they are less susceptible to overfitting. However, Adaboost is sensitive to noisy data and outliers. \n"
      ]
    }
  ]
}
