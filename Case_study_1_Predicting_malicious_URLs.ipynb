{
  "nbformat": 4,
  "nbformat_minor": 0,
  "metadata": {
    "colab": {
      "name": "Case study 1: Predicting malicious URLs.ipynb",
      "provenance": [],
      "authorship_tag": "ABX9TyNPwJzg6QiBusU66gCKZO7I",
      "include_colab_link": true
    },
    "kernelspec": {
      "name": "python3",
      "display_name": "Python 3"
    }
  },
  "cells": [
    {
      "cell_type": "markdown",
      "metadata": {
        "id": "view-in-github",
        "colab_type": "text"
      },
      "source": [
        "<a href=\"https://colab.research.google.com/github/chiranjeevi-manike/IBM-Cognitiveclass.ai/blob/main/Case_study_1_Predicting_malicious_URLs.ipynb\" target=\"_parent\"><img src=\"https://colab.research.google.com/assets/colab-badge.svg\" alt=\"Open In Colab\"/></a>"
      ]
    },
    {
      "cell_type": "code",
      "metadata": {
        "id": "YCv0eh2RwFjy"
      },
      "source": [
        "import tarfile\r\n",
        "from sklearn.linear_model import SGDClassifier\r\n",
        "from sklearn.metrics import classification_report\r\n",
        "from sklearn.datasets import load_svmlight_file\r\n",
        "import numpy as np"
      ],
      "execution_count": 11,
      "outputs": []
    },
    {
      "cell_type": "code",
      "metadata": {
        "id": "B5528-TXwXyZ"
      },
      "source": [
        "uri = '/content/url_svmlight.tar.gz'\r\n",
        "tar = tarfile.open(uri,\"r:gz\")"
      ],
      "execution_count": 12,
      "outputs": []
    },
    {
      "cell_type": "code",
      "metadata": {
        "id": "-8zoZvm6wwW9"
      },
      "source": [
        "max_obs = 0\r\n",
        "max_vars = 0\r\n",
        "i = 0\r\n",
        "split = 5"
      ],
      "execution_count": 13,
      "outputs": []
    },
    {
      "cell_type": "code",
      "metadata": {
        "colab": {
          "base_uri": "https://localhost:8080/"
        },
        "id": "jKxIhmCrw6sZ",
        "outputId": "a9d047fb-60c6-4c93-aecd-8abe5fd65dbd"
      },
      "source": [
        "for tarinfo in tar:\r\n",
        "  print(\" extracting %s,f size %s\" % (tarinfo.name, tarinfo.size))\r\n",
        "  if tarinfo.isfile():\r\n",
        "    f = tar.extractfile(tarinfo.name)\r\n",
        "    X,y = load_svmlight_file(f)\r\n",
        "    max_vars = np.maximum(max_vars, X.shape[0])\r\n",
        "    max_obs = np.maximum(max_obs, X.shape[1])\r\n",
        "  if i > split:\r\n",
        "    break\r\n",
        "  i+= 1\r\n",
        "print(\"max X = %s, max y dimension = %s\" % (max_obs, max_vars ))"
      ],
      "execution_count": 14,
      "outputs": [
        {
          "output_type": "stream",
          "text": [
            " extracting url_svmlight,f size 0\n",
            " extracting url_svmlight/Day33.svm,f size 18674876\n",
            " extracting url_svmlight/Day32.svm,f size 18599211\n",
            " extracting url_svmlight/Day53.svm,f size 18963938\n",
            " extracting url_svmlight/Day20.svm,f size 18633460\n",
            " extracting url_svmlight/Day7.svm,f size 18777054\n",
            " extracting url_svmlight/Day117.svm,f size 18106370\n",
            "max X = 3231952, max y dimension = 20000\n"
          ],
          "name": "stdout"
        }
      ]
    },
    {
      "cell_type": "code",
      "metadata": {
        "id": "FuEN3IAt5jwt"
      },
      "source": [
        "classes = [-1,1]\r\n",
        "sgd = SGDClassifier(loss=\"log\")\r\n",
        "n_features=3231952\r\n",
        "split = 5\r\n",
        "i = 0"
      ],
      "execution_count": 15,
      "outputs": []
    },
    {
      "cell_type": "code",
      "metadata": {
        "colab": {
          "base_uri": "https://localhost:8080/"
        },
        "id": "I771UJZS5nha",
        "outputId": "38c02589-3023-4de8-f1f9-ae2d3f513306"
      },
      "source": [
        "for tarinfo in tar:\r\n",
        "  if i > split:\r\n",
        "    break\r\n",
        "  if tarinfo.isfile():\r\n",
        "    f = tar.extractfile(tarinfo.name)\r\n",
        "    X,y = load_svmlight_file(f,n_features=n_features)\r\n",
        "    if i < split:\r\n",
        "      sgd.partial_fit(X, y, classes=classes)\r\n",
        "    if i == split:\r\n",
        "      print(classification_report(sgd.predict(X),y))\r\n",
        "  i += 1"
      ],
      "execution_count": 17,
      "outputs": [
        {
          "output_type": "stream",
          "text": [
            "              precision    recall  f1-score   support\n",
            "\n",
            "          -1       0.98      0.99      0.98     14095\n",
            "           1       0.97      0.94      0.96      5905\n",
            "\n",
            "    accuracy                           0.97     20000\n",
            "   macro avg       0.97      0.97      0.97     20000\n",
            "weighted avg       0.97      0.97      0.97     20000\n",
            "\n"
          ],
          "name": "stdout"
        }
      ]
    }
  ]
}