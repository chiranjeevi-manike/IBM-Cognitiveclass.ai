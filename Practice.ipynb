{
  "nbformat": 4,
  "nbformat_minor": 0,
  "metadata": {
    "colab": {
      "name": "Practice",
      "provenance": [],
      "authorship_tag": "ABX9TyPfYkMRB6aNqCq8E8uVOm8R",
      "include_colab_link": true
    },
    "kernelspec": {
      "name": "python3",
      "display_name": "Python 3"
    }
  },
  "cells": [
    {
      "cell_type": "markdown",
      "metadata": {
        "id": "view-in-github",
        "colab_type": "text"
      },
      "source": [
        "<a href=\"https://colab.research.google.com/github/chiranjeevi-manike/IBM-Cognitiveclass.ai/blob/main/Practice.ipynb\" target=\"_parent\"><img src=\"https://colab.research.google.com/assets/colab-badge.svg\" alt=\"Open In Colab\"/></a>"
      ]
    },
    {
      "cell_type": "code",
      "metadata": {
        "colab": {
          "base_uri": "https://localhost:8080/",
          "height": 334
        },
        "id": "ZmuRQsEpjYME",
        "outputId": "d88543cf-5c21-4f00-e609-80a7ebf45b8f"
      },
      "source": [
        "# compare statistical imputation strategies for the horse colic dataset\r\n",
        "from numpy import mean\r\n",
        "from numpy import std\r\n",
        "from pandas import read_csv\r\n",
        "from sklearn.ensemble import RandomForestClassifier\r\n",
        "from sklearn.impute import SimpleImputer\r\n",
        "from sklearn.model_selection import cross_val_score\r\n",
        "from sklearn.model_selection import RepeatedStratifiedKFold\r\n",
        "from sklearn.pipeline import Pipeline\r\n",
        "from matplotlib import pyplot\r\n",
        "# load dataset\r\n",
        "url = 'https://raw.githubusercontent.com/jbrownlee/Datasets/master/horse-colic.csv'\r\n",
        "dataframe = read_csv(url, header=None, na_values='?')\r\n",
        "# split into input and output elements\r\n",
        "data = dataframe.values\r\n",
        "ix = [i for i in range(data.shape[1]) if i != 23]\r\n",
        "X, y = data[:, ix], data[:, 23]\r\n",
        "# evaluate each strategy on the dataset\r\n",
        "results = list()\r\n",
        "strategies = ['mean', 'median', 'most_frequent', 'constant']\r\n",
        "for s in strategies:\r\n",
        "\t# create the modeling pipeline\r\n",
        "\tpipeline = Pipeline(steps=[('i', SimpleImputer(strategy=s)), ('m', RandomForestClassifier())])\r\n",
        "\t# evaluate the model\r\n",
        "\tcv = RepeatedStratifiedKFold(n_splits=10, n_repeats=3, random_state=1)\r\n",
        "\tscores = cross_val_score(pipeline, X, y, scoring='accuracy', cv=cv, n_jobs=-1)\r\n",
        "\t# store results\r\n",
        "\tresults.append(scores)\r\n",
        "\tprint('>%s %.3f (%.3f)' % (s, mean(scores), std(scores)))\r\n",
        "# plot model performance for comparison\r\n",
        "pyplot.boxplot(results, labels=strategies, showmeans=True)\r\n",
        "pyplot.show()"
      ],
      "execution_count": 1,
      "outputs": [
        {
          "output_type": "stream",
          "text": [
            ">mean 0.863 (0.057)\n",
            ">median 0.871 (0.056)\n",
            ">most_frequent 0.874 (0.057)\n",
            ">constant 0.877 (0.052)\n"
          ],
          "name": "stdout"
        },
        {
          "output_type": "display_data",
          "data": {
            "image/png": "[encoded data removed]",
            "text/plain": [
              "<Figure size 432x288 with 1 Axes>"
            ]
          },
          "metadata": {
            "tags": [],
            "needs_background": "light"
          }
        }
      ]
    },
    {
      "cell_type": "code",
      "metadata": {
        "colab": {
          "base_uri": "https://localhost:8080/",
          "height": 762
        },
        "id": "nRpnI_vujwLK",
        "outputId": "6ed66422-7892-435d-b508-48bb2740b579"
      },
      "source": [
        "# compare statistical imputation strategies for the horse colic dataset\r\n",
        "from numpy import mean\r\n",
        "from numpy import std\r\n",
        "from pandas import read_csv\r\n",
        "from sklearn.ensemble import RandomForestClassifier\r\n",
        "from sklearn.impute import SimpleImputer\r\n",
        "from sklearn.model_selection import cross_val_score\r\n",
        "from sklearn.model_selection import RepeatedStratifiedKFold\r\n",
        "from sklearn.pipeline import Pipeline\r\n",
        "from matplotlib import pyplot\r\n",
        "# load dataset\r\n",
        "# url = 'https://raw.githubusercontent.com/jbrownlee/Datasets/master/horse-colic.csv'\r\n",
        "dataframe = read_csv('adult.csv', header=None, na_values='?')\r\n",
        "# split into input and output elements\r\n",
        "data = dataframe.values\r\n",
        "ix = [i for i in range(data.shape[1]) if i != 23]\r\n",
        "X, y = data[:, ix], data[:, 14]\r\n",
        "# evaluate each strategy on the dataset\r\n",
        "results = list()\r\n",
        "strategies = ['mean', 'median', 'most_frequent', 'constant']\r\n",
        "for s in strategies:\r\n",
        "\t# create the modeling pipeline\r\n",
        "\tpipeline = Pipeline(steps=[('i', SimpleImputer(strategy=s)), ('m', RandomForestClassifier())])\r\n",
        "\t# evaluate the model\r\n",
        "\tcv = RepeatedStratifiedKFold(n_splits=10, n_repeats=3, random_state=1)\r\n",
        "\tscores = cross_val_score(pipeline, X, y, scoring='accuracy', cv=cv, n_jobs=-1)\r\n",
        "\t# store results\r\n",
        "\tresults.append(scores)\r\n",
        "\tprint('>%s %.3f (%.3f)' % (s, mean(scores), std(scores)))\r\n",
        "# plot model performance for comparison\r\n",
        "pyplot.boxplot(results, labels=strategies, showmeans=True)\r\n",
        "pyplot.show()"
      ],
      "execution_count": 2,
      "outputs": [
        {
          "output_type": "stream",
          "text": [
            "/usr/local/lib/python3.7/dist-packages/sklearn/model_selection/_split.py:667: UserWarning: The least populated class in y has only 1 members, which is less than n_splits=10.\n",
            "  % (min_groups, self.n_splits)), UserWarning)\n",
            "/usr/local/lib/python3.7/dist-packages/sklearn/model_selection/_split.py:667: UserWarning: The least populated class in y has only 1 members, which is less than n_splits=10.\n",
            "  % (min_groups, self.n_splits)), UserWarning)\n",
            "/usr/local/lib/python3.7/dist-packages/sklearn/model_selection/_split.py:667: UserWarning: The least populated class in y has only 1 members, which is less than n_splits=10.\n",
            "  % (min_groups, self.n_splits)), UserWarning)\n"
          ],
          "name": "stderr"
        },
        {
          "output_type": "stream",
          "text": [
            ">mean nan (nan)\n"
          ],
          "name": "stdout"
        },
        {
          "output_type": "stream",
          "text": [
            "/usr/local/lib/python3.7/dist-packages/sklearn/model_selection/_split.py:667: UserWarning: The least populated class in y has only 1 members, which is less than n_splits=10.\n",
            "  % (min_groups, self.n_splits)), UserWarning)\n",
            "/usr/local/lib/python3.7/dist-packages/sklearn/model_selection/_split.py:667: UserWarning: The least populated class in y has only 1 members, which is less than n_splits=10.\n",
            "  % (min_groups, self.n_splits)), UserWarning)\n",
            "/usr/local/lib/python3.7/dist-packages/sklearn/model_selection/_split.py:667: UserWarning: The least populated class in y has only 1 members, which is less than n_splits=10.\n",
            "  % (min_groups, self.n_splits)), UserWarning)\n"
          ],
          "name": "stderr"
        },
        {
          "output_type": "stream",
          "text": [
            ">median nan (nan)\n"
          ],
          "name": "stdout"
        },
        {
          "output_type": "stream",
          "text": [
            "/usr/local/lib/python3.7/dist-packages/sklearn/model_selection/_split.py:667: UserWarning: The least populated class in y has only 1 members, which is less than n_splits=10.\n",
            "  % (min_groups, self.n_splits)), UserWarning)\n",
            "/usr/local/lib/python3.7/dist-packages/sklearn/model_selection/_split.py:667: UserWarning: The least populated class in y has only 1 members, which is less than n_splits=10.\n",
            "  % (min_groups, self.n_splits)), UserWarning)\n",
            "/usr/local/lib/python3.7/dist-packages/sklearn/model_selection/_split.py:667: UserWarning: The least populated class in y has only 1 members, which is less than n_splits=10.\n",
            "  % (min_groups, self.n_splits)), UserWarning)\n"
          ],
          "name": "stderr"
        },
        {
          "output_type": "stream",
          "text": [
            ">most_frequent nan (nan)\n"
          ],
          "name": "stdout"
        },
        {
          "output_type": "stream",
          "text": [
            "/usr/local/lib/python3.7/dist-packages/sklearn/model_selection/_split.py:667: UserWarning: The least populated class in y has only 1 members, which is less than n_splits=10.\n",
            "  % (min_groups, self.n_splits)), UserWarning)\n",
            "/usr/local/lib/python3.7/dist-packages/sklearn/model_selection/_split.py:667: UserWarning: The least populated class in y has only 1 members, which is less than n_splits=10.\n",
            "  % (min_groups, self.n_splits)), UserWarning)\n",
            "/usr/local/lib/python3.7/dist-packages/sklearn/model_selection/_split.py:667: UserWarning: The least populated class in y has only 1 members, which is less than n_splits=10.\n",
            "  % (min_groups, self.n_splits)), UserWarning)\n"
          ],
          "name": "stderr"
        },
        {
          "output_type": "stream",
          "text": [
            ">constant nan (nan)\n"
          ],
          "name": "stdout"
        },
        {
          "output_type": "display_data",
          "data": {
            "image/png": "[encoded data removed]",
            "text/plain": [
              "<Figure size 432x288 with 1 Axes>"
            ]
          },
          "metadata": {
            "tags": [],
            "needs_background": "light"
          }
        }
      ]
    }
  ]
}